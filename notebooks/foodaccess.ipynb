{
 "cells": [
  {
   "cell_type": "markdown",
   "id": "1d9c9ec4-2c33-4d0d-a4f0-7b9e108fb787",
   "metadata": {},
   "source": [
    "# DTSA 5509 Supervised Learning Final Project\n",
    "## Decision Tree Binary Classification Tasks Applied to Food Access Research Atlas\n",
    "### Project Topic\n",
    "Food Deserts are areas where there is low access to supermarkets and other sources of healthy foods. They are often reported as occuring in communities that are already underserved, low income, and in Black communities. Access to food that is affordable and healthy is critical to support the health and wellbeing of a community, and areas that are struggling with poverty and inequality often also struggle with basic access to healthy food.\n",
    "\n",
    "Understanding the circumstances that create food deserts is critical in being able to identify and address the root causes of the problem. If we can model this, we can make connections in the data we may not have seen otherwise.  We can also use this to predict outcomes as communities change.\n",
    "\n",
    "Using socio-economic data from the Department of Agriculture's Food Access Research Atlas, I explored three decision tree binary classification models to attempt to classify whether a community is likely to have low access to healthy food sources.\n",
    "\n",
    "**For more information**\n",
    "\n",
    "Annie E. Casey Foundation: Food Deserts in the United States: https://www.aecf.org/blog/exploring-americas-food-deserts\n",
    "\n",
    "Wikipedia: Food Desert: https://en.wikipedia.org/wiki/Food_desert"
   ]
  },
  {
   "cell_type": "markdown",
   "id": "8dc238ed-0d57-4587-a148-957dc0dd9164",
   "metadata": {},
   "source": [
    "### Imports"
   ]
  },
  {
   "cell_type": "code",
   "execution_count": 50,
   "id": "78194efd-3f40-4705-88e0-d472f7829e91",
   "metadata": {
    "tags": []
   },
   "outputs": [
    {
     "data": {
      "text/plain": [
       "DataTransformerRegistry.enable('default')"
      ]
     },
     "execution_count": 50,
     "metadata": {},
     "output_type": "execute_result"
    }
   ],
   "source": [
    "import pandas as pd\n",
    "import altair as alt\n",
    "import dtale\n",
    "from sklearn.svm import SVC\n",
    "from xgboost import XGBClassifier\n",
    "from xgboost import DMatrix\n",
    "from xgboost import plot_importance\n",
    "from sklearn.model_selection import train_test_split\n",
    "from sklearn.model_selection import StratifiedShuffleSplit\n",
    "from sklearn.model_selection import GridSearchCV\n",
    "from sklearn.tree import DecisionTreeClassifier\n",
    "from sklearn.ensemble import AdaBoostClassifier\n",
    "from sklearn.metrics import roc_auc_score\n",
    "from sklearn.metrics import accuracy_score\n",
    "from sklearn.metrics import precision_recall_fscore_support\n",
    "from sklearn.metrics import confusion_matrix\n",
    "from sklearn.metrics import roc_curve\n",
    "from sklearn.metrics import auc\n",
    "from sklearn.metrics import RocCurveDisplay\n",
    "from sklearn.metrics import ConfusionMatrixDisplay\n",
    "from sklearn.preprocessing import OneHotEncoder\n",
    "from imblearn.under_sampling import RandomUnderSampler\n",
    "from scipy.stats import ttest_ind\n",
    "alt.data_transformers.disable_max_rows()"
   ]
  },
  {
   "cell_type": "markdown",
   "id": "4e5febd6-73d9-4a61-a1e1-6da41bda0e1e",
   "metadata": {},
   "source": [
    "### Data\n",
    "The data used in this report is the Food Access Research Atlas, published by the Economic Research Service, Department of Agriculture, via data.gov, a public source of data made available by the United States government.\n",
    "\n",
    "This dataset has 72,531 records, one for each U.S. Census tract.  The dataset includes 147 features for each tract, describing the tract, the population of the tract, demographic breakdowns of each tract (population Black, Seniors, Children, etc), and numerous measures on the food access for each tract.\n",
    "\n",
    "For my task, I wanted to focus on how the socio-economic factors contribututed to whether a tract was likely to be classified as low access to food.  I limited the features used to the following:\n",
    "\n",
    "| Field              | Description                                                                                                 |\n",
    "|:-------------------|:------------------------------------------------------------------------------------------------------------|\n",
    "| LILATracts_1And10  | **`Label`** Flag for low-income and low access when considering low accessibilty at 1 and 10 miles                      |\n",
    "| State              | **`Feature`** State name                                                                                                  |\n",
    "| Urban              | **`Feature`** Flag for urban tract                                                                                        |\n",
    "| OHU2010            | **`Feature`** Occupied housing unit count from 2010 census                                                                |\n",
    "| PovertyRate        | **`Feature`** Share of the tract population living with income at or below the Federal poverty thresholds for family size |\n",
    "| MedianFamilyIncome | **`Feature`** Tract median family income                                                                                  |\n",
    "| TractLOWI          | **`Feature`** Total count of low-income population in tract                                                               |\n",
    "| TractKids          | **`Feature`** Total count of children age 0-17 in tract                                                                   |\n",
    "| TractSeniors       | **`Feature`** Total count of seniors age 65+ in tract                                                                     |\n",
    "| TractWhite         | **`Feature`** Total count of White population in tract                                                                    |\n",
    "| TractBlack         | **`Feature`** Total count of Black or African American population in tract                                                |\n",
    "| TractAsian         | **`Feature`** Total count of Asian population in tract                                                                    |\n",
    "| TractNHOPI         | **`Feature`** Total count of Native Hawaiian and Other Pacific Islander population in tract                               |\n",
    "| TractAIAN          | **`Feature`** Total count of American Indian and Alaska Native population in tract                                        |\n",
    "| TractOMultir       | **`Feature`** Total count of Other/Multiple race population in tract                                                      |\n",
    "| TractHispanic      | **`Feature`** Total count of Hispanic or Latino population in tract                                                       |\n",
    "| TractHUNV          | **`Feature`** Total count of housing units without a vehicle in tract                                                     |\n",
    "| TractSNAP          | **`Feature`** Total count of housing units receiving SNAP benefits in tract                                               |\n",
    "\n",
    "Field `LILATracts_1And10` is the label I'm attempting to predict.  The remaining fields are features.\n",
    "\n",
    "\n",
    "Data: https://catalog.data.gov/dataset/food-access-research-atlas\n",
    "\n",
    "About the Atlas: https://www.ers.usda.gov/data-products/food-access-research-atlas/about-the-atlas.aspx\n",
    "\n",
    "In addition, I'm using the U.S. Census Divisions listed at the following URL to perform further feature engineering to supplement my dataset.\n",
    "\n",
    "https://www.ncei.noaa.gov/access/monitoring/reference-maps/us-census-divisions\n",
    "\n",
    "**Data Citations**\n",
    "\n",
    "Economic Research Service, Department of Agriculture (2021, February 24). Data.Gov. Food Access Research Atlas. Retrieved April 23, 2023, from https://catalog.data.gov/dataset/food-access-research-atlas"
   ]
  },
  {
   "cell_type": "code",
   "execution_count": 2,
   "id": "b4d78d03-6d71-459e-8197-b9af04dbf70d",
   "metadata": {},
   "outputs": [],
   "source": [
    "label = 'LILATracts_1And10'"
   ]
  },
  {
   "cell_type": "code",
   "execution_count": 3,
   "id": "d396d851-abe8-4d1e-821a-738a72ee2844",
   "metadata": {
    "tags": []
   },
   "outputs": [],
   "source": [
    "# Create variable table and copy to clipboard for above\n",
    "used_columns = [label,'Pop2010','State','OHU2010','Urban','PovertyRate','MedianFamilyIncome','TractBlack','TractLOWI','TractKids','TractSeniors','TractWhite','TractAsian','TractNHOPI','TractAIAN','TractOMultir','TractHispanic','TractHUNV','TractSNAP']\n",
    "var_df = pd.read_excel('../data/FoodAccessResearchAtlasData2019.xlsx', sheet_name='Variable Lookup')\n",
    "var_df = var_df[var_df['Field'].isin(used_columns)][['Field','Description']]\n",
    "#pd.io.clipboards.to_clipboard(var_df.to_markdown(index=False), excel=False)"
   ]
  },
  {
   "cell_type": "markdown",
   "id": "dca7b697-4e9c-40bd-929b-a68dce1a2b86",
   "metadata": {
    "tags": []
   },
   "source": [
    "### Data Cleaning\n",
    "\n",
    "As outlined above, I've limited the features used to the most relevant features for the classification task I wanted to perform.  Of the 147 features, 18 are relevant for the task of classifying the low food access status based on the demographic makeup of an area.  Many of the other features in the original file describe in detail the low food access for specific populations, so have been left out since they would be auto-correlative with the low access label I'm attempting to predict.\n",
    "\n",
    "In addition, while reviewing the number of NA values present in the data, I found that `MedianFamilyIncome` had a high count of NAs. I have dropped this feature from the dataset for this reason.\n",
    "\n",
    "`OHU2010` has values of 0 for 106 rows. This appears to be null data, coded as 0.  As this will cause a division by 0 error when calculating percentages below, I'm also dropping these rows.\n",
    "\n",
    "The remaining features have a low number of NA values.  For these, I have dropped the rows that contained NA values.\n",
    "\n",
    "In the original dataset, the demographic data is reported as total counts of residents in that demographic. Because I want to compare tracts, and each tract may have a different total population, it makes most sense to convert these to percentages.  Below, I calculate the percentage of residents in each demographic using the demographic count and the total population count `Pop2010`.  After I've done these calculations, I drop the original count columns as they are no longer needed.\n",
    "\n",
    "I also investigated whether the labels in the dataset were balanced.  I've found that they are not, and I rebalance these later while building the model."
   ]
  },
  {
   "cell_type": "markdown",
   "id": "5e6620a6-3430-49dc-85f5-aefbd3007faf",
   "metadata": {},
   "source": [
    "#### Read Data\n",
    "Load the data into a dataframe"
   ]
  },
  {
   "cell_type": "code",
   "execution_count": 4,
   "id": "6ba672bf-f5b8-4d50-bb26-9c7afb36f352",
   "metadata": {
    "tags": []
   },
   "outputs": [],
   "source": [
    "# Read Data\n",
    "df = pd.read_excel('../data/FoodAccessResearchAtlasData2019.xlsx', sheet_name='Food Access Research Atlas')\n",
    "df = df[used_columns]"
   ]
  },
  {
   "cell_type": "markdown",
   "id": "f610c080-605c-45bb-93b7-854d71822d7a",
   "metadata": {},
   "source": [
    "#### Data Types Check\n",
    "Reviewing the dtypes listed below, these are as I would expect them to be.  I do not believe any data type munging is necessary for this dataset."
   ]
  },
  {
   "cell_type": "code",
   "execution_count": 37,
   "id": "453ad609-c114-4b44-8621-6e6518cb9b48",
   "metadata": {
    "tags": []
   },
   "outputs": [
    {
     "data": {
      "text/plain": [
       "LILATracts_1And10      int64\n",
       "State                 object\n",
       "Urban                  int64\n",
       "PovertyRate          float64\n",
       "BlackPopShare        float64\n",
       "LOWIPopShare         float64\n",
       "KidsPopShare         float64\n",
       "SeniorsPopShare      float64\n",
       "WhitePopShare        float64\n",
       "AsianPopShare        float64\n",
       "NHOPIPopShare        float64\n",
       "AIANPopShare         float64\n",
       "OMultirPopShare      float64\n",
       "HispanicPopShare     float64\n",
       "HUNVPopShare         float64\n",
       "SNAPPopShare         float64\n",
       "Census Division       object\n",
       "dtype: object"
      ]
     },
     "execution_count": 37,
     "metadata": {},
     "output_type": "execute_result"
    }
   ],
   "source": [
    "df.dtypes"
   ]
  },
  {
   "cell_type": "markdown",
   "id": "a9008897-30d5-4003-9981-8e0d988fe067",
   "metadata": {},
   "source": [
    "#### Check for NAs and Vizualize\n",
    "Check for explicit nas in the dataset"
   ]
  },
  {
   "cell_type": "code",
   "execution_count": 5,
   "id": "e09179a4-b1ba-452e-a5c4-b7451cf3989e",
   "metadata": {
    "tags": []
   },
   "outputs": [
    {
     "data": {
      "text/html": [
       "\n",
       "<div id=\"altair-viz-5ee5197d255947b290e460c8f3f21639\"></div>\n",
       "<script type=\"text/javascript\">\n",
       "  var VEGA_DEBUG = (typeof VEGA_DEBUG == \"undefined\") ? {} : VEGA_DEBUG;\n",
       "  (function(spec, embedOpt){\n",
       "    let outputDiv = document.currentScript.previousElementSibling;\n",
       "    if (outputDiv.id !== \"altair-viz-5ee5197d255947b290e460c8f3f21639\") {\n",
       "      outputDiv = document.getElementById(\"altair-viz-5ee5197d255947b290e460c8f3f21639\");\n",
       "    }\n",
       "    const paths = {\n",
       "      \"vega\": \"https://cdn.jsdelivr.net/npm//vega@5?noext\",\n",
       "      \"vega-lib\": \"https://cdn.jsdelivr.net/npm//vega-lib?noext\",\n",
       "      \"vega-lite\": \"https://cdn.jsdelivr.net/npm//vega-lite@4.17.0?noext\",\n",
       "      \"vega-embed\": \"https://cdn.jsdelivr.net/npm//vega-embed@6?noext\",\n",
       "    };\n",
       "\n",
       "    function maybeLoadScript(lib, version) {\n",
       "      var key = `${lib.replace(\"-\", \"\")}_version`;\n",
       "      return (VEGA_DEBUG[key] == version) ?\n",
       "        Promise.resolve(paths[lib]) :\n",
       "        new Promise(function(resolve, reject) {\n",
       "          var s = document.createElement('script');\n",
       "          document.getElementsByTagName(\"head\")[0].appendChild(s);\n",
       "          s.async = true;\n",
       "          s.onload = () => {\n",
       "            VEGA_DEBUG[key] = version;\n",
       "            return resolve(paths[lib]);\n",
       "          };\n",
       "          s.onerror = () => reject(`Error loading script: ${paths[lib]}`);\n",
       "          s.src = paths[lib];\n",
       "        });\n",
       "    }\n",
       "\n",
       "    function showError(err) {\n",
       "      outputDiv.innerHTML = `<div class=\"error\" style=\"color:red;\">${err}</div>`;\n",
       "      throw err;\n",
       "    }\n",
       "\n",
       "    function displayChart(vegaEmbed) {\n",
       "      vegaEmbed(outputDiv, spec, embedOpt)\n",
       "        .catch(err => showError(`Javascript Error: ${err.message}<br>This usually means there's a typo in your chart specification. See the javascript console for the full traceback.`));\n",
       "    }\n",
       "\n",
       "    if(typeof define === \"function\" && define.amd) {\n",
       "      requirejs.config({paths});\n",
       "      require([\"vega-embed\"], displayChart, err => showError(`Error loading script: ${err.message}`));\n",
       "    } else {\n",
       "      maybeLoadScript(\"vega\", \"5\")\n",
       "        .then(() => maybeLoadScript(\"vega-lite\", \"4.17.0\"))\n",
       "        .then(() => maybeLoadScript(\"vega-embed\", \"6\"))\n",
       "        .catch(showError)\n",
       "        .then(() => displayChart(vegaEmbed));\n",
       "    }\n",
       "  })({\"config\": {\"view\": {\"continuousWidth\": 400, \"continuousHeight\": 300}}, \"layer\": [{\"mark\": \"bar\", \"encoding\": {\"text\": {\"field\": \"NA Count\", \"type\": \"quantitative\"}, \"x\": {\"field\": \"Field\", \"sort\": \"-y\", \"type\": \"nominal\"}, \"y\": {\"field\": \"NA Count\", \"type\": \"quantitative\"}}, \"width\": 800}, {\"mark\": {\"type\": \"text\", \"align\": \"center\", \"dy\": -10}, \"encoding\": {\"text\": {\"field\": \"NA Count\", \"type\": \"quantitative\"}, \"x\": {\"field\": \"Field\", \"sort\": \"-y\", \"type\": \"nominal\"}, \"y\": {\"field\": \"NA Count\", \"type\": \"quantitative\"}}, \"width\": 800}], \"data\": {\"name\": \"data-ade0ae590ca65299e43816310959829a\"}, \"$schema\": \"https://vega.github.io/schema/vega-lite/v4.17.0.json\", \"datasets\": {\"data-ade0ae590ca65299e43816310959829a\": [{\"Field\": \"MedianFamilyIncome\", \"NA Count\": 748}, {\"Field\": \"TractKids\", \"NA Count\": 4}, {\"Field\": \"TractSeniors\", \"NA Count\": 4}, {\"Field\": \"TractHUNV\", \"NA Count\": 4}, {\"Field\": \"TractHispanic\", \"NA Count\": 4}, {\"Field\": \"TractOMultir\", \"NA Count\": 4}, {\"Field\": \"TractAIAN\", \"NA Count\": 4}, {\"Field\": \"TractNHOPI\", \"NA Count\": 4}, {\"Field\": \"TractAsian\", \"NA Count\": 4}, {\"Field\": \"TractWhite\", \"NA Count\": 4}, {\"Field\": \"TractSNAP\", \"NA Count\": 4}, {\"Field\": \"TractLOWI\", \"NA Count\": 4}, {\"Field\": \"TractBlack\", \"NA Count\": 4}, {\"Field\": \"PovertyRate\", \"NA Count\": 3}, {\"Field\": \"Pop2010\", \"NA Count\": 0}, {\"Field\": \"Urban\", \"NA Count\": 0}, {\"Field\": \"OHU2010\", \"NA Count\": 0}, {\"Field\": \"State\", \"NA Count\": 0}, {\"Field\": \"LILATracts_1And10\", \"NA Count\": 0}]}}, {\"mode\": \"vega-lite\"});\n",
       "</script>"
      ],
      "text/plain": [
       "alt.LayerChart(...)"
      ]
     },
     "execution_count": 5,
     "metadata": {},
     "output_type": "execute_result"
    }
   ],
   "source": [
    "# Check for NAs\n",
    "na_counts = pd.DataFrame(df.isna().sum()).reset_index()\n",
    "na_counts.columns = ['Field', 'NA Count']\n",
    "na_counts = na_counts.sort_values('NA Count', ascending=False)\n",
    "\n",
    "# Visualize NAs\n",
    "base = alt.Chart(na_counts).encode(\n",
    "    x=alt.X('Field:N', sort='-y'),\n",
    "    y='NA Count',\n",
    "    text = 'NA Count'\n",
    ").properties(width=800)\n",
    "base.mark_bar() + base.mark_text(align='center', dy=-10)"
   ]
  },
  {
   "cell_type": "markdown",
   "id": "2bfceadb-2577-4b6c-a7c7-1c16a381b540",
   "metadata": {},
   "source": [
    "#### Drop NAs\n",
    "Dropping explicit NAs from the dataset"
   ]
  },
  {
   "cell_type": "code",
   "execution_count": 6,
   "id": "3eb1e4c2-4d2b-455a-9ad8-55889c496c41",
   "metadata": {
    "tags": []
   },
   "outputs": [
    {
     "name": "stdout",
     "output_type": "stream",
     "text": [
      "4 rows dropped\n",
      "Remaining NAs:\n"
     ]
    },
    {
     "data": {
      "text/plain": [
       "LILATracts_1And10    0\n",
       "Pop2010              0\n",
       "State                0\n",
       "OHU2010              0\n",
       "Urban                0\n",
       "PovertyRate          0\n",
       "TractBlack           0\n",
       "TractLOWI            0\n",
       "TractKids            0\n",
       "TractSeniors         0\n",
       "TractWhite           0\n",
       "TractAsian           0\n",
       "TractNHOPI           0\n",
       "TractAIAN            0\n",
       "TractOMultir         0\n",
       "TractHispanic        0\n",
       "TractHUNV            0\n",
       "TractSNAP            0\n",
       "dtype: int64"
      ]
     },
     "metadata": {},
     "output_type": "display_data"
    }
   ],
   "source": [
    "len_df_bef = len(df)\n",
    "\n",
    "# Drop high NA column Median Family Income\n",
    "df = df.drop('MedianFamilyIncome', axis=1)\n",
    "\n",
    "# Drop records with NAs in values\n",
    "df = df.dropna()\n",
    "print(str(len_df_bef - len(df)) + ' rows dropped')\n",
    "\n",
    "# Check for no remaining NAs\n",
    "print('Remaining NAs:')\n",
    "display(df.isna().sum())"
   ]
  },
  {
   "cell_type": "markdown",
   "id": "0e192bef-e866-4d3b-ba31-0dbf8ec3cba5",
   "metadata": {},
   "source": [
    "#### Drop 0-coded NAs\n",
    "Dropping missing data that is coded as 0 in the dataset"
   ]
  },
  {
   "cell_type": "code",
   "execution_count": 7,
   "id": "d9c616fa-64d4-471d-8b47-ebae89445810",
   "metadata": {
    "tags": []
   },
   "outputs": [
    {
     "name": "stdout",
     "output_type": "stream",
     "text": [
      "Count of 0 values for Pop2010: 0\n",
      "Count of 0 values for OHU2010: 106\n",
      "106 rows dropped\n",
      "Count of 0 values for Pop2010: 0\n",
      "Count of 0 values for OHU2010: 0\n"
     ]
    }
   ],
   "source": [
    "len_df_bef = len(df)\n",
    "\n",
    "# Check count of 0 values where we expect > 0\n",
    "print('Count of 0 values for Pop2010: {}'.format(sum(df['Pop2010'] == 0)))\n",
    "print('Count of 0 values for OHU2010: {}'.format(sum(df['OHU2010'] == 0)))\n",
    "\n",
    "# Keep only rows where values > 0\n",
    "df = df[df['Pop2010'] > 0]\n",
    "df = df[df['OHU2010'] > 0]\n",
    "print(str(len_df_bef - len(df)) + ' rows dropped')\n",
    "\n",
    "# Check our work\n",
    "print('Count of 0 values for Pop2010: {}'.format(sum(df['Pop2010'] == 0)))\n",
    "print('Count of 0 values for OHU2010: {}'.format(sum(df['OHU2010'] == 0)))"
   ]
  },
  {
   "cell_type": "markdown",
   "id": "fb4ed0f8-9517-42f1-9440-15185de86b30",
   "metadata": {},
   "source": [
    "#### Check for Label Imbalance\n",
    "Checking for label imbalance here. There is a clear imbalance in the data.  We'll account for the label imbalance later, when building our model."
   ]
  },
  {
   "cell_type": "code",
   "execution_count": 8,
   "id": "7b45f349-c855-4f27-b33b-d2abfb74eade",
   "metadata": {
    "tags": []
   },
   "outputs": [
    {
     "data": {
      "text/html": [
       "\n",
       "<div id=\"altair-viz-f8ab505bc5e9492388f8c1ae031a28be\"></div>\n",
       "<script type=\"text/javascript\">\n",
       "  var VEGA_DEBUG = (typeof VEGA_DEBUG == \"undefined\") ? {} : VEGA_DEBUG;\n",
       "  (function(spec, embedOpt){\n",
       "    let outputDiv = document.currentScript.previousElementSibling;\n",
       "    if (outputDiv.id !== \"altair-viz-f8ab505bc5e9492388f8c1ae031a28be\") {\n",
       "      outputDiv = document.getElementById(\"altair-viz-f8ab505bc5e9492388f8c1ae031a28be\");\n",
       "    }\n",
       "    const paths = {\n",
       "      \"vega\": \"https://cdn.jsdelivr.net/npm//vega@5?noext\",\n",
       "      \"vega-lib\": \"https://cdn.jsdelivr.net/npm//vega-lib?noext\",\n",
       "      \"vega-lite\": \"https://cdn.jsdelivr.net/npm//vega-lite@4.17.0?noext\",\n",
       "      \"vega-embed\": \"https://cdn.jsdelivr.net/npm//vega-embed@6?noext\",\n",
       "    };\n",
       "\n",
       "    function maybeLoadScript(lib, version) {\n",
       "      var key = `${lib.replace(\"-\", \"\")}_version`;\n",
       "      return (VEGA_DEBUG[key] == version) ?\n",
       "        Promise.resolve(paths[lib]) :\n",
       "        new Promise(function(resolve, reject) {\n",
       "          var s = document.createElement('script');\n",
       "          document.getElementsByTagName(\"head\")[0].appendChild(s);\n",
       "          s.async = true;\n",
       "          s.onload = () => {\n",
       "            VEGA_DEBUG[key] = version;\n",
       "            return resolve(paths[lib]);\n",
       "          };\n",
       "          s.onerror = () => reject(`Error loading script: ${paths[lib]}`);\n",
       "          s.src = paths[lib];\n",
       "        });\n",
       "    }\n",
       "\n",
       "    function showError(err) {\n",
       "      outputDiv.innerHTML = `<div class=\"error\" style=\"color:red;\">${err}</div>`;\n",
       "      throw err;\n",
       "    }\n",
       "\n",
       "    function displayChart(vegaEmbed) {\n",
       "      vegaEmbed(outputDiv, spec, embedOpt)\n",
       "        .catch(err => showError(`Javascript Error: ${err.message}<br>This usually means there's a typo in your chart specification. See the javascript console for the full traceback.`));\n",
       "    }\n",
       "\n",
       "    if(typeof define === \"function\" && define.amd) {\n",
       "      requirejs.config({paths});\n",
       "      require([\"vega-embed\"], displayChart, err => showError(`Error loading script: ${err.message}`));\n",
       "    } else {\n",
       "      maybeLoadScript(\"vega\", \"5\")\n",
       "        .then(() => maybeLoadScript(\"vega-lite\", \"4.17.0\"))\n",
       "        .then(() => maybeLoadScript(\"vega-embed\", \"6\"))\n",
       "        .catch(showError)\n",
       "        .then(() => displayChart(vegaEmbed));\n",
       "    }\n",
       "  })({\"config\": {\"view\": {\"continuousWidth\": 400, \"continuousHeight\": 300}}, \"layer\": [{\"mark\": {\"type\": \"bar\", \"size\": 30}, \"encoding\": {\"text\": {\"field\": \"count\", \"type\": \"quantitative\"}, \"x\": {\"field\": \"LILATracts_1And10\", \"sort\": \"-y\", \"type\": \"nominal\"}, \"y\": {\"field\": \"count\", \"type\": \"quantitative\"}}, \"width\": 100}, {\"mark\": {\"type\": \"text\", \"align\": \"center\", \"dy\": -10}, \"encoding\": {\"text\": {\"field\": \"count\", \"type\": \"quantitative\"}, \"x\": {\"field\": \"LILATracts_1And10\", \"sort\": \"-y\", \"type\": \"nominal\"}, \"y\": {\"field\": \"count\", \"type\": \"quantitative\"}}, \"width\": 100}], \"data\": {\"name\": \"data-7f6d7f452a6740ddaa5f4d663ad7acfc\"}, \"$schema\": \"https://vega.github.io/schema/vega-lite/v4.17.0.json\", \"datasets\": {\"data-7f6d7f452a6740ddaa5f4d663ad7acfc\": [{\"LILATracts_1And10\": 0, \"count\": 63132}, {\"LILATracts_1And10\": 1, \"count\": 9289}]}}, {\"mode\": \"vega-lite\"});\n",
       "</script>"
      ],
      "text/plain": [
       "alt.LayerChart(...)"
      ]
     },
     "execution_count": 8,
     "metadata": {},
     "output_type": "execute_result"
    }
   ],
   "source": [
    "# Check for imbalaced labels\n",
    "val_counts = pd.DataFrame(df[label].value_counts()).reset_index()\n",
    "base = alt.Chart(val_counts).encode(\n",
    "    x=alt.X(label + ':N', sort='-y'),\n",
    "    y='count',\n",
    "    text = 'count'\n",
    ").properties(width=100)\n",
    "base.mark_bar(size=30) + base.mark_text(align='center', dy=-10)"
   ]
  },
  {
   "cell_type": "markdown",
   "id": "40e814f6-e612-4116-9937-facdf6bd9aa4",
   "metadata": {},
   "source": [
    "### Feature Engineering"
   ]
  },
  {
   "cell_type": "markdown",
   "id": "321fe96e-6b63-410f-b6c7-381a8e8225df",
   "metadata": {
    "tags": []
   },
   "source": [
    "#### Calculate Percentage Share for Each Demographic\n",
    "In order to compare tract to tract, where total populations may differ, I calculated the percentage makeup of each population and stored it back into my dataset.  These engineered features will make up a majority of the features used in the model."
   ]
  },
  {
   "cell_type": "code",
   "execution_count": 9,
   "id": "e463e274-ec9b-489a-a5d4-e76a4cf55d94",
   "metadata": {
    "tags": []
   },
   "outputs": [],
   "source": [
    "# Calculate percentage share for each demographic population\n",
    "df['BlackPopShare'] = df['TractBlack'] / df['Pop2010']\n",
    "df['LOWIPopShare'] = df['TractLOWI'] / df['Pop2010']\n",
    "df['KidsPopShare'] = df['TractKids'] / df['Pop2010']\n",
    "df['SeniorsPopShare'] = df['TractSeniors'] / df['Pop2010']\n",
    "df['WhitePopShare'] = df['TractWhite'] / df['Pop2010']\n",
    "df['AsianPopShare'] = df['TractAsian'] / df['Pop2010']\n",
    "df['NHOPIPopShare'] = df['TractNHOPI'] / df['Pop2010']\n",
    "df['AIANPopShare'] = df['TractAIAN'] / df['Pop2010']\n",
    "df['OMultirPopShare'] = df['TractOMultir'] / df['Pop2010']\n",
    "df['HispanicPopShare'] = df['TractHispanic'] / df['Pop2010']\n",
    "df['HUNVPopShare'] = df['TractHUNV'] / df['OHU2010']\n",
    "df['SNAPPopShare'] = df['TractSNAP'] / df['OHU2010']\n",
    "\n",
    "# Drop the original features, since we don't need them any more\n",
    "df = df.drop(['Pop2010','OHU2010','TractBlack','TractLOWI','TractKids','TractSeniors','TractWhite','TractAsian','TractNHOPI','TractAIAN','TractOMultir','TractHispanic','TractHUNV','TractSNAP'], axis=1)"
   ]
  },
  {
   "cell_type": "markdown",
   "id": "e7a85b4c-7dc1-4765-875f-baeb9263199c",
   "metadata": {
    "tags": []
   },
   "source": [
    "#### Add U.S Census Divisions to Data\n",
    "In Exploratory Data Analysis below, I found evidence that certain regions of the U.S. may have more low income, low access trackts than others.  Here, I map state to regions, based on the assigned region names from the U.S. Census Regions mapping described in the Data section above."
   ]
  },
  {
   "cell_type": "code",
   "execution_count": 10,
   "id": "79e877cd-b6ab-4514-adbd-cfef153aec14",
   "metadata": {
    "tags": []
   },
   "outputs": [],
   "source": [
    "div_map = {\n",
    "    'Illinois':'East North Central',\n",
    "    'Indiana':'East North Central',\n",
    "    'Michigan':'East North Central',\n",
    "    'Ohio':'East North Central',\n",
    "    'Wisconsin':'East North Central',\n",
    "    'Alabama':'East South Central',\n",
    "    'Kentucky':'East South Central',\n",
    "    'Mississippi':'East South Central',\n",
    "    'Tennessee':'East South Central',\n",
    "    'New Jersey':'Middle Atlantic',\n",
    "    'New York':'Middle Atlantic',\n",
    "    'Pennsylvania':'Middle Atlantic',\n",
    "    'Arizona':'Mountain',\n",
    "    'Colorado':'Mountain',\n",
    "    'Idaho':'Mountain',\n",
    "    'Montana':'Mountain',\n",
    "    'New Mexico':'Mountain',\n",
    "    'Nevada':'Mountain',\n",
    "    'Utah':'Mountain',\n",
    "    'Wyoming':'Mountain',\n",
    "    'Connecticut':'New England',\n",
    "    'Maine':'New England',\n",
    "    'Massachusetts':'New England',\n",
    "    'New Hampshire':'New England',\n",
    "    'Rhode Island':'New England',\n",
    "    'Vermont':'New England',\n",
    "    'California':'Pacific',\n",
    "    'Oregon':'Pacific',\n",
    "    'Washington':'Pacific',\n",
    "    'Delaware':'South Atlantic',\n",
    "    'Florida':'South Atlantic',\n",
    "    'Georgia':'South Atlantic',\n",
    "    'Maryland':'South Atlantic',\n",
    "    'North Carolina':'South Atlantic',\n",
    "    'South Carolina':'South Atlantic',\n",
    "    'Virginia':'South Atlantic',\n",
    "    'West Virginia':'South Atlantic',\n",
    "    'Iowa':'West North Central',\n",
    "    'Kansas':'West North Central',\n",
    "    'Minnesota':'West North Central',\n",
    "    'Missouri':'West North Central',\n",
    "    'Nebraska':'West North Central',\n",
    "    'North Dakota':'West North Central',\n",
    "    'South Dakota':'West North Central',\n",
    "    'Arkansas':'West South Central',\n",
    "    'Louisiana':'West South Central',\n",
    "    'Oklahoma':'West South Central',\n",
    "    'Texas':'West South Central'\n",
    "}\n",
    "df['Census Division'] = df['State'].map(div_map)"
   ]
  },
  {
   "cell_type": "markdown",
   "id": "f7a716f3-be2e-4f3e-afd9-8d923061ae59",
   "metadata": {
    "tags": []
   },
   "source": [
    "### Exploratory Data Analysis"
   ]
  },
  {
   "cell_type": "markdown",
   "id": "21d681be-ac92-4f64-92ec-78bb59e32ae2",
   "metadata": {},
   "source": [
    "#### Correlation\n",
    "Calculate and visualize a correlation matrix.\n",
    "\n",
    "From the correlation matrix below, we can see a few interesting correlations:\n",
    "- BlackPopShare is significantly negatively correlated with WhitePopShare. This specific strong correlation may point to these population numbers being good features for a binary classification model, with some more analysis on the correlation to to our label to follow.\n",
    "- In addition, there is a negative correlation between WhitePopShare, LOWIPopShare (Low Income), PovertyRate, and SNAPPopShare.  There is a positive correlation between BlackPopShare and these same features. Since we suspect that low access, low income tracts may correlate to communities with higher poverty rate, etc, these correlations seem to suggest that they may be good indicators to identify feed desert communities.\n",
    "- It's interesting that features like KidsPopShare appear to be positively correlated with PovertyRate and SNAPPopShare.  I would not have guessed this going into this analysis, but this may also be a good indicator for my models. "
   ]
  },
  {
   "cell_type": "code",
   "execution_count": 11,
   "id": "229022ee-a314-4ca6-91c8-0984a461ce0d",
   "metadata": {
    "tags": []
   },
   "outputs": [],
   "source": [
    "# Calculate Correlations\n",
    "eda_df = df.copy()\n",
    "eda_df = eda_df.drop(['State', 'Census Division', 'LILATracts_1And10', 'Urban'], axis=1)\n",
    "cor_data = (eda_df.corr().stack().reset_index() \n",
    "              .rename(columns={0: 'correlation', 'level_0': 'variable', 'level_1': 'variable2'}))\n",
    "cor_data['correlation_label'] = cor_data['correlation'].map('{:.2f}'.format)"
   ]
  },
  {
   "cell_type": "code",
   "execution_count": 12,
   "id": "591bdd2a-224d-4ab1-9a94-130132487fea",
   "metadata": {
    "tags": []
   },
   "outputs": [
    {
     "data": {
      "text/html": [
       "\n",
       "<div id=\"altair-viz-eca7967c10324e85857f4c90e1fd9997\"></div>\n",
       "<script type=\"text/javascript\">\n",
       "  var VEGA_DEBUG = (typeof VEGA_DEBUG == \"undefined\") ? {} : VEGA_DEBUG;\n",
       "  (function(spec, embedOpt){\n",
       "    let outputDiv = document.currentScript.previousElementSibling;\n",
       "    if (outputDiv.id !== \"altair-viz-eca7967c10324e85857f4c90e1fd9997\") {\n",
       "      outputDiv = document.getElementById(\"altair-viz-eca7967c10324e85857f4c90e1fd9997\");\n",
       "    }\n",
       "    const paths = {\n",
       "      \"vega\": \"https://cdn.jsdelivr.net/npm//vega@5?noext\",\n",
       "      \"vega-lib\": \"https://cdn.jsdelivr.net/npm//vega-lib?noext\",\n",
       "      \"vega-lite\": \"https://cdn.jsdelivr.net/npm//vega-lite@4.17.0?noext\",\n",
       "      \"vega-embed\": \"https://cdn.jsdelivr.net/npm//vega-embed@6?noext\",\n",
       "    };\n",
       "\n",
       "    function maybeLoadScript(lib, version) {\n",
       "      var key = `${lib.replace(\"-\", \"\")}_version`;\n",
       "      return (VEGA_DEBUG[key] == version) ?\n",
       "        Promise.resolve(paths[lib]) :\n",
       "        new Promise(function(resolve, reject) {\n",
       "          var s = document.createElement('script');\n",
       "          document.getElementsByTagName(\"head\")[0].appendChild(s);\n",
       "          s.async = true;\n",
       "          s.onload = () => {\n",
       "            VEGA_DEBUG[key] = version;\n",
       "            return resolve(paths[lib]);\n",
       "          };\n",
       "          s.onerror = () => reject(`Error loading script: ${paths[lib]}`);\n",
       "          s.src = paths[lib];\n",
       "        });\n",
       "    }\n",
       "\n",
       "    function showError(err) {\n",
       "      outputDiv.innerHTML = `<div class=\"error\" style=\"color:red;\">${err}</div>`;\n",
       "      throw err;\n",
       "    }\n",
       "\n",
       "    function displayChart(vegaEmbed) {\n",
       "      vegaEmbed(outputDiv, spec, embedOpt)\n",
       "        .catch(err => showError(`Javascript Error: ${err.message}<br>This usually means there's a typo in your chart specification. See the javascript console for the full traceback.`));\n",
       "    }\n",
       "\n",
       "    if(typeof define === \"function\" && define.amd) {\n",
       "      requirejs.config({paths});\n",
       "      require([\"vega-embed\"], displayChart, err => showError(`Error loading script: ${err.message}`));\n",
       "    } else {\n",
       "      maybeLoadScript(\"vega\", \"5\")\n",
       "        .then(() => maybeLoadScript(\"vega-lite\", \"4.17.0\"))\n",
       "        .then(() => maybeLoadScript(\"vega-embed\", \"6\"))\n",
       "        .catch(showError)\n",
       "        .then(() => displayChart(vegaEmbed));\n",
       "    }\n",
       "  })({\"config\": {\"view\": {\"continuousWidth\": 400, \"continuousHeight\": 300}}, \"layer\": [{\"mark\": \"rect\", \"encoding\": {\"color\": {\"field\": \"correlation\", \"scale\": {\"scheme\": \"redblue\"}, \"type\": \"quantitative\"}, \"x\": {\"field\": \"variable2\", \"type\": \"ordinal\"}, \"y\": {\"field\": \"variable\", \"type\": \"ordinal\"}}, \"height\": 600, \"width\": 600}, {\"mark\": \"text\", \"encoding\": {\"color\": {\"condition\": {\"value\": \"white\", \"test\": \"(datum.correlation > 0.5)\"}, \"value\": \"black\"}, \"text\": {\"field\": \"correlation_label\", \"type\": \"nominal\"}, \"x\": {\"field\": \"variable2\", \"type\": \"ordinal\"}, \"y\": {\"field\": \"variable\", \"type\": \"ordinal\"}}}], \"data\": {\"name\": \"data-7263edee01085b18be1d5221125d5c00\"}, \"$schema\": \"https://vega.github.io/schema/vega-lite/v4.17.0.json\", \"datasets\": {\"data-7263edee01085b18be1d5221125d5c00\": [{\"variable\": \"PovertyRate\", \"variable2\": \"PovertyRate\", \"correlation\": 1.0, \"correlation_label\": \"1.00\"}, {\"variable\": \"PovertyRate\", \"variable2\": \"BlackPopShare\", \"correlation\": 0.4425977125573052, \"correlation_label\": \"0.44\"}, {\"variable\": \"PovertyRate\", \"variable2\": \"LOWIPopShare\", \"correlation\": 0.6090738295981086, \"correlation_label\": \"0.61\"}, {\"variable\": \"PovertyRate\", \"variable2\": \"KidsPopShare\", \"correlation\": 0.11872078425905126, \"correlation_label\": \"0.12\"}, {\"variable\": \"PovertyRate\", \"variable2\": \"SeniorsPopShare\", \"correlation\": -0.1935208978945761, \"correlation_label\": \"-0.19\"}, {\"variable\": \"PovertyRate\", \"variable2\": \"WhitePopShare\", \"correlation\": -0.473037642317788, \"correlation_label\": \"-0.47\"}, {\"variable\": \"PovertyRate\", \"variable2\": \"AsianPopShare\", \"correlation\": -0.10633494054874681, \"correlation_label\": \"-0.11\"}, {\"variable\": \"PovertyRate\", \"variable2\": \"NHOPIPopShare\", \"correlation\": -0.002953677798931915, \"correlation_label\": \"-0.00\"}, {\"variable\": \"PovertyRate\", \"variable2\": \"AIANPopShare\", \"correlation\": 0.11312832669257476, \"correlation_label\": \"0.11\"}, {\"variable\": \"PovertyRate\", \"variable2\": \"OMultirPopShare\", \"correlation\": 0.26503630022370694, \"correlation_label\": \"0.27\"}, {\"variable\": \"PovertyRate\", \"variable2\": \"HispanicPopShare\", \"correlation\": 0.2447115298191319, \"correlation_label\": \"0.24\"}, {\"variable\": \"PovertyRate\", \"variable2\": \"HUNVPopShare\", \"correlation\": 0.2829084983393503, \"correlation_label\": \"0.28\"}, {\"variable\": \"PovertyRate\", \"variable2\": \"SNAPPopShare\", \"correlation\": 0.7060501024305214, \"correlation_label\": \"0.71\"}, {\"variable\": \"BlackPopShare\", \"variable2\": \"PovertyRate\", \"correlation\": 0.4425977125573052, \"correlation_label\": \"0.44\"}, {\"variable\": \"BlackPopShare\", \"variable2\": \"BlackPopShare\", \"correlation\": 1.0, \"correlation_label\": \"1.00\"}, {\"variable\": \"BlackPopShare\", \"variable2\": \"LOWIPopShare\", \"correlation\": 0.2910165294600782, \"correlation_label\": \"0.29\"}, {\"variable\": \"BlackPopShare\", \"variable2\": \"KidsPopShare\", \"correlation\": 0.14885321115335012, \"correlation_label\": \"0.15\"}, {\"variable\": \"BlackPopShare\", \"variable2\": \"SeniorsPopShare\", \"correlation\": -0.1627552647443349, \"correlation_label\": \"-0.16\"}, {\"variable\": \"BlackPopShare\", \"variable2\": \"WhitePopShare\", \"correlation\": -0.8100886338141112, \"correlation_label\": \"-0.81\"}, {\"variable\": \"BlackPopShare\", \"variable2\": \"AsianPopShare\", \"correlation\": -0.10894940540121263, \"correlation_label\": \"-0.11\"}, {\"variable\": \"BlackPopShare\", \"variable2\": \"NHOPIPopShare\", \"correlation\": -0.03807134231852622, \"correlation_label\": \"-0.04\"}, {\"variable\": \"BlackPopShare\", \"variable2\": \"AIANPopShare\", \"correlation\": -0.05773753425334272, \"correlation_label\": \"-0.06\"}, {\"variable\": \"BlackPopShare\", \"variable2\": \"OMultirPopShare\", \"correlation\": -0.024183082909660578, \"correlation_label\": \"-0.02\"}, {\"variable\": \"BlackPopShare\", \"variable2\": \"HispanicPopShare\", \"correlation\": -0.07347609624427635, \"correlation_label\": \"-0.07\"}, {\"variable\": \"BlackPopShare\", \"variable2\": \"HUNVPopShare\", \"correlation\": 0.23872163013090897, \"correlation_label\": \"0.24\"}, {\"variable\": \"BlackPopShare\", \"variable2\": \"SNAPPopShare\", \"correlation\": 0.4704181429214918, \"correlation_label\": \"0.47\"}, {\"variable\": \"LOWIPopShare\", \"variable2\": \"PovertyRate\", \"correlation\": 0.6090738295981086, \"correlation_label\": \"0.61\"}, {\"variable\": \"LOWIPopShare\", \"variable2\": \"BlackPopShare\", \"correlation\": 0.2910165294600782, \"correlation_label\": \"0.29\"}, {\"variable\": \"LOWIPopShare\", \"variable2\": \"LOWIPopShare\", \"correlation\": 1.0, \"correlation_label\": \"1.00\"}, {\"variable\": \"LOWIPopShare\", \"variable2\": \"KidsPopShare\", \"correlation\": 0.1786324309365767, \"correlation_label\": \"0.18\"}, {\"variable\": \"LOWIPopShare\", \"variable2\": \"SeniorsPopShare\", \"correlation\": -0.12798279905141066, \"correlation_label\": \"-0.13\"}, {\"variable\": \"LOWIPopShare\", \"variable2\": \"WhitePopShare\", \"correlation\": -0.3455185352389485, \"correlation_label\": \"-0.35\"}, {\"variable\": \"LOWIPopShare\", \"variable2\": \"AsianPopShare\", \"correlation\": -0.1049347616018606, \"correlation_label\": \"-0.10\"}, {\"variable\": \"LOWIPopShare\", \"variable2\": \"NHOPIPopShare\", \"correlation\": 0.034591646146519446, \"correlation_label\": \"0.03\"}, {\"variable\": \"LOWIPopShare\", \"variable2\": \"AIANPopShare\", \"correlation\": 0.08869664714423041, \"correlation_label\": \"0.09\"}, {\"variable\": \"LOWIPopShare\", \"variable2\": \"OMultirPopShare\", \"correlation\": 0.2815892149431609, \"correlation_label\": \"0.28\"}, {\"variable\": \"LOWIPopShare\", \"variable2\": \"HispanicPopShare\", \"correlation\": 0.2782108970331435, \"correlation_label\": \"0.28\"}, {\"variable\": \"LOWIPopShare\", \"variable2\": \"HUNVPopShare\", \"correlation\": 0.2561147097146154, \"correlation_label\": \"0.26\"}, {\"variable\": \"LOWIPopShare\", \"variable2\": \"SNAPPopShare\", \"correlation\": 0.6046305687159963, \"correlation_label\": \"0.60\"}, {\"variable\": \"KidsPopShare\", \"variable2\": \"PovertyRate\", \"correlation\": 0.11872078425905126, \"correlation_label\": \"0.12\"}, {\"variable\": \"KidsPopShare\", \"variable2\": \"BlackPopShare\", \"correlation\": 0.14885321115335012, \"correlation_label\": \"0.15\"}, {\"variable\": \"KidsPopShare\", \"variable2\": \"LOWIPopShare\", \"correlation\": 0.1786324309365767, \"correlation_label\": \"0.18\"}, {\"variable\": \"KidsPopShare\", \"variable2\": \"KidsPopShare\", \"correlation\": 1.0, \"correlation_label\": \"1.00\"}, {\"variable\": \"KidsPopShare\", \"variable2\": \"SeniorsPopShare\", \"correlation\": -0.4697129829052088, \"correlation_label\": \"-0.47\"}, {\"variable\": \"KidsPopShare\", \"variable2\": \"WhitePopShare\", \"correlation\": -0.25198637554890047, \"correlation_label\": \"-0.25\"}, {\"variable\": \"KidsPopShare\", \"variable2\": \"AsianPopShare\", \"correlation\": -0.08725519060714214, \"correlation_label\": \"-0.09\"}, {\"variable\": \"KidsPopShare\", \"variable2\": \"NHOPIPopShare\", \"correlation\": 0.032064618157964984, \"correlation_label\": \"0.03\"}, {\"variable\": \"KidsPopShare\", \"variable2\": \"AIANPopShare\", \"correlation\": 0.09355020223263774, \"correlation_label\": \"0.09\"}, {\"variable\": \"KidsPopShare\", \"variable2\": \"OMultirPopShare\", \"correlation\": 0.3409743847501985, \"correlation_label\": \"0.34\"}, {\"variable\": \"KidsPopShare\", \"variable2\": \"HispanicPopShare\", \"correlation\": 0.3296765739817506, \"correlation_label\": \"0.33\"}, {\"variable\": \"KidsPopShare\", \"variable2\": \"HUNVPopShare\", \"correlation\": -0.05273259186214481, \"correlation_label\": \"-0.05\"}, {\"variable\": \"KidsPopShare\", \"variable2\": \"SNAPPopShare\", \"correlation\": 0.2809451289140096, \"correlation_label\": \"0.28\"}, {\"variable\": \"SeniorsPopShare\", \"variable2\": \"PovertyRate\", \"correlation\": -0.1935208978945761, \"correlation_label\": \"-0.19\"}, {\"variable\": \"SeniorsPopShare\", \"variable2\": \"BlackPopShare\", \"correlation\": -0.1627552647443349, \"correlation_label\": \"-0.16\"}, {\"variable\": \"SeniorsPopShare\", \"variable2\": \"LOWIPopShare\", \"correlation\": -0.12798279905141066, \"correlation_label\": \"-0.13\"}, {\"variable\": \"SeniorsPopShare\", \"variable2\": \"KidsPopShare\", \"correlation\": -0.4697129829052088, \"correlation_label\": \"-0.47\"}, {\"variable\": \"SeniorsPopShare\", \"variable2\": \"SeniorsPopShare\", \"correlation\": 1.0, \"correlation_label\": \"1.00\"}, {\"variable\": \"SeniorsPopShare\", \"variable2\": \"WhitePopShare\", \"correlation\": 0.3208260157613004, \"correlation_label\": \"0.32\"}, {\"variable\": \"SeniorsPopShare\", \"variable2\": \"AsianPopShare\", \"correlation\": -0.11596188136092349, \"correlation_label\": \"-0.12\"}, {\"variable\": \"SeniorsPopShare\", \"variable2\": \"NHOPIPopShare\", \"correlation\": -0.04562005429605059, \"correlation_label\": \"-0.05\"}, {\"variable\": \"SeniorsPopShare\", \"variable2\": \"AIANPopShare\", \"correlation\": -0.048014584743454804, \"correlation_label\": \"-0.05\"}, {\"variable\": \"SeniorsPopShare\", \"variable2\": \"OMultirPopShare\", \"correlation\": -0.3361408222052703, \"correlation_label\": \"-0.34\"}, {\"variable\": \"SeniorsPopShare\", \"variable2\": \"HispanicPopShare\", \"correlation\": -0.2864472738585831, \"correlation_label\": \"-0.29\"}, {\"variable\": \"SeniorsPopShare\", \"variable2\": \"HUNVPopShare\", \"correlation\": -0.05514190726297414, \"correlation_label\": \"-0.06\"}, {\"variable\": \"SeniorsPopShare\", \"variable2\": \"SNAPPopShare\", \"correlation\": -0.1545011100894765, \"correlation_label\": \"-0.15\"}, {\"variable\": \"WhitePopShare\", \"variable2\": \"PovertyRate\", \"correlation\": -0.473037642317788, \"correlation_label\": \"-0.47\"}, {\"variable\": \"WhitePopShare\", \"variable2\": \"BlackPopShare\", \"correlation\": -0.8100886338141112, \"correlation_label\": \"-0.81\"}, {\"variable\": \"WhitePopShare\", \"variable2\": \"LOWIPopShare\", \"correlation\": -0.3455185352389485, \"correlation_label\": \"-0.35\"}, {\"variable\": \"WhitePopShare\", \"variable2\": \"KidsPopShare\", \"correlation\": -0.25198637554890047, \"correlation_label\": \"-0.25\"}, {\"variable\": \"WhitePopShare\", \"variable2\": \"SeniorsPopShare\", \"correlation\": 0.3208260157613004, \"correlation_label\": \"0.32\"}, {\"variable\": \"WhitePopShare\", \"variable2\": \"WhitePopShare\", \"correlation\": 1.0, \"correlation_label\": \"1.00\"}, {\"variable\": \"WhitePopShare\", \"variable2\": \"AsianPopShare\", \"correlation\": -0.2962010445071246, \"correlation_label\": \"-0.30\"}, {\"variable\": \"WhitePopShare\", \"variable2\": \"NHOPIPopShare\", \"correlation\": -0.13208338174022527, \"correlation_label\": \"-0.13\"}, {\"variable\": \"WhitePopShare\", \"variable2\": \"AIANPopShare\", \"correlation\": -0.13563654702432712, \"correlation_label\": \"-0.14\"}, {\"variable\": \"WhitePopShare\", \"variable2\": \"OMultirPopShare\", \"correlation\": -0.4373200625070667, \"correlation_label\": \"-0.44\"}, {\"variable\": \"WhitePopShare\", \"variable2\": \"HispanicPopShare\", \"correlation\": -0.3033886391343884, \"correlation_label\": \"-0.30\"}, {\"variable\": \"WhitePopShare\", \"variable2\": \"HUNVPopShare\", \"correlation\": -0.27505280573810764, \"correlation_label\": \"-0.28\"}, {\"variable\": \"WhitePopShare\", \"variable2\": \"SNAPPopShare\", \"correlation\": -0.4804250695653086, \"correlation_label\": \"-0.48\"}, {\"variable\": \"AsianPopShare\", \"variable2\": \"PovertyRate\", \"correlation\": -0.10633494054874681, \"correlation_label\": \"-0.11\"}, {\"variable\": \"AsianPopShare\", \"variable2\": \"BlackPopShare\", \"correlation\": -0.10894940540121263, \"correlation_label\": \"-0.11\"}, {\"variable\": \"AsianPopShare\", \"variable2\": \"LOWIPopShare\", \"correlation\": -0.1049347616018606, \"correlation_label\": \"-0.10\"}, {\"variable\": \"AsianPopShare\", \"variable2\": \"KidsPopShare\", \"correlation\": -0.08725519060714214, \"correlation_label\": \"-0.09\"}, {\"variable\": \"AsianPopShare\", \"variable2\": \"SeniorsPopShare\", \"correlation\": -0.11596188136092349, \"correlation_label\": \"-0.12\"}, {\"variable\": \"AsianPopShare\", \"variable2\": \"WhitePopShare\", \"correlation\": -0.2962010445071246, \"correlation_label\": \"-0.30\"}, {\"variable\": \"AsianPopShare\", \"variable2\": \"AsianPopShare\", \"correlation\": 1.0, \"correlation_label\": \"1.00\"}, {\"variable\": \"AsianPopShare\", \"variable2\": \"NHOPIPopShare\", \"correlation\": 0.19990148617905207, \"correlation_label\": \"0.20\"}, {\"variable\": \"AsianPopShare\", \"variable2\": \"AIANPopShare\", \"correlation\": -0.04448442329308261, \"correlation_label\": \"-0.04\"}, {\"variable\": \"AsianPopShare\", \"variable2\": \"OMultirPopShare\", \"correlation\": 0.16387753106144903, \"correlation_label\": \"0.16\"}, {\"variable\": \"AsianPopShare\", \"variable2\": \"HispanicPopShare\", \"correlation\": 0.07439188042340097, \"correlation_label\": \"0.07\"}, {\"variable\": \"AsianPopShare\", \"variable2\": \"HUNVPopShare\", \"correlation\": 0.05402301408683258, \"correlation_label\": \"0.05\"}, {\"variable\": \"AsianPopShare\", \"variable2\": \"SNAPPopShare\", \"correlation\": -0.14834678386726421, \"correlation_label\": \"-0.15\"}, {\"variable\": \"NHOPIPopShare\", \"variable2\": \"PovertyRate\", \"correlation\": -0.002953677798931915, \"correlation_label\": \"-0.00\"}, {\"variable\": \"NHOPIPopShare\", \"variable2\": \"BlackPopShare\", \"correlation\": -0.03807134231852622, \"correlation_label\": \"-0.04\"}, {\"variable\": \"NHOPIPopShare\", \"variable2\": \"LOWIPopShare\", \"correlation\": 0.034591646146519446, \"correlation_label\": \"0.03\"}, {\"variable\": \"NHOPIPopShare\", \"variable2\": \"KidsPopShare\", \"correlation\": 0.032064618157964984, \"correlation_label\": \"0.03\"}, {\"variable\": \"NHOPIPopShare\", \"variable2\": \"SeniorsPopShare\", \"correlation\": -0.04562005429605059, \"correlation_label\": \"-0.05\"}, {\"variable\": \"NHOPIPopShare\", \"variable2\": \"WhitePopShare\", \"correlation\": -0.13208338174022527, \"correlation_label\": \"-0.13\"}, {\"variable\": \"NHOPIPopShare\", \"variable2\": \"AsianPopShare\", \"correlation\": 0.19990148617905207, \"correlation_label\": \"0.20\"}, {\"variable\": \"NHOPIPopShare\", \"variable2\": \"NHOPIPopShare\", \"correlation\": 1.0, \"correlation_label\": \"1.00\"}, {\"variable\": \"NHOPIPopShare\", \"variable2\": \"AIANPopShare\", \"correlation\": 0.0003911724550259673, \"correlation_label\": \"0.00\"}, {\"variable\": \"NHOPIPopShare\", \"variable2\": \"OMultirPopShare\", \"correlation\": 0.15497754497224042, \"correlation_label\": \"0.15\"}, {\"variable\": \"NHOPIPopShare\", \"variable2\": \"HispanicPopShare\", \"correlation\": 0.03916764532731688, \"correlation_label\": \"0.04\"}, {\"variable\": \"NHOPIPopShare\", \"variable2\": \"HUNVPopShare\", \"correlation\": 0.009043128632616073, \"correlation_label\": \"0.01\"}, {\"variable\": \"NHOPIPopShare\", \"variable2\": \"SNAPPopShare\", \"correlation\": 0.022474545009895625, \"correlation_label\": \"0.02\"}, {\"variable\": \"AIANPopShare\", \"variable2\": \"PovertyRate\", \"correlation\": 0.11312832669257476, \"correlation_label\": \"0.11\"}, {\"variable\": \"AIANPopShare\", \"variable2\": \"BlackPopShare\", \"correlation\": -0.05773753425334272, \"correlation_label\": \"-0.06\"}, {\"variable\": \"AIANPopShare\", \"variable2\": \"LOWIPopShare\", \"correlation\": 0.08869664714423041, \"correlation_label\": \"0.09\"}, {\"variable\": \"AIANPopShare\", \"variable2\": \"KidsPopShare\", \"correlation\": 0.09355020223263774, \"correlation_label\": \"0.09\"}, {\"variable\": \"AIANPopShare\", \"variable2\": \"SeniorsPopShare\", \"correlation\": -0.048014584743454804, \"correlation_label\": \"-0.05\"}, {\"variable\": \"AIANPopShare\", \"variable2\": \"WhitePopShare\", \"correlation\": -0.13563654702432712, \"correlation_label\": \"-0.14\"}, {\"variable\": \"AIANPopShare\", \"variable2\": \"AsianPopShare\", \"correlation\": -0.04448442329308261, \"correlation_label\": \"-0.04\"}, {\"variable\": \"AIANPopShare\", \"variable2\": \"NHOPIPopShare\", \"correlation\": 0.0003911724550259673, \"correlation_label\": \"0.00\"}, {\"variable\": \"AIANPopShare\", \"variable2\": \"AIANPopShare\", \"correlation\": 1.0, \"correlation_label\": \"1.00\"}, {\"variable\": \"AIANPopShare\", \"variable2\": \"OMultirPopShare\", \"correlation\": 0.04532528385373499, \"correlation_label\": \"0.05\"}, {\"variable\": \"AIANPopShare\", \"variable2\": \"HispanicPopShare\", \"correlation\": 0.017850492152250548, \"correlation_label\": \"0.02\"}, {\"variable\": \"AIANPopShare\", \"variable2\": \"HUNVPopShare\", \"correlation\": 0.012167489456452065, \"correlation_label\": \"0.01\"}, {\"variable\": \"AIANPopShare\", \"variable2\": \"SNAPPopShare\", \"correlation\": 0.08514295414213996, \"correlation_label\": \"0.09\"}, {\"variable\": \"OMultirPopShare\", \"variable2\": \"PovertyRate\", \"correlation\": 0.26503630022370694, \"correlation_label\": \"0.27\"}, {\"variable\": \"OMultirPopShare\", \"variable2\": \"BlackPopShare\", \"correlation\": -0.024183082909660578, \"correlation_label\": \"-0.02\"}, {\"variable\": \"OMultirPopShare\", \"variable2\": \"LOWIPopShare\", \"correlation\": 0.2815892149431609, \"correlation_label\": \"0.28\"}, {\"variable\": \"OMultirPopShare\", \"variable2\": \"KidsPopShare\", \"correlation\": 0.3409743847501985, \"correlation_label\": \"0.34\"}, {\"variable\": \"OMultirPopShare\", \"variable2\": \"SeniorsPopShare\", \"correlation\": -0.3361408222052703, \"correlation_label\": \"-0.34\"}, {\"variable\": \"OMultirPopShare\", \"variable2\": \"WhitePopShare\", \"correlation\": -0.4373200625070667, \"correlation_label\": \"-0.44\"}, {\"variable\": \"OMultirPopShare\", \"variable2\": \"AsianPopShare\", \"correlation\": 0.16387753106144903, \"correlation_label\": \"0.16\"}, {\"variable\": \"OMultirPopShare\", \"variable2\": \"NHOPIPopShare\", \"correlation\": 0.15497754497224042, \"correlation_label\": \"0.15\"}, {\"variable\": \"OMultirPopShare\", \"variable2\": \"AIANPopShare\", \"correlation\": 0.04532528385373499, \"correlation_label\": \"0.05\"}, {\"variable\": \"OMultirPopShare\", \"variable2\": \"OMultirPopShare\", \"correlation\": 1.0, \"correlation_label\": \"1.00\"}, {\"variable\": \"OMultirPopShare\", \"variable2\": \"HispanicPopShare\", \"correlation\": 0.8658350672812237, \"correlation_label\": \"0.87\"}, {\"variable\": \"OMultirPopShare\", \"variable2\": \"HUNVPopShare\", \"correlation\": 0.12244067209636002, \"correlation_label\": \"0.12\"}, {\"variable\": \"OMultirPopShare\", \"variable2\": \"SNAPPopShare\", \"correlation\": 0.26788647420949874, \"correlation_label\": \"0.27\"}, {\"variable\": \"HispanicPopShare\", \"variable2\": \"PovertyRate\", \"correlation\": 0.2447115298191319, \"correlation_label\": \"0.24\"}, {\"variable\": \"HispanicPopShare\", \"variable2\": \"BlackPopShare\", \"correlation\": -0.07347609624427635, \"correlation_label\": \"-0.07\"}, {\"variable\": \"HispanicPopShare\", \"variable2\": \"LOWIPopShare\", \"correlation\": 0.2782108970331435, \"correlation_label\": \"0.28\"}, {\"variable\": \"HispanicPopShare\", \"variable2\": \"KidsPopShare\", \"correlation\": 0.3296765739817506, \"correlation_label\": \"0.33\"}, {\"variable\": \"HispanicPopShare\", \"variable2\": \"SeniorsPopShare\", \"correlation\": -0.2864472738585831, \"correlation_label\": \"-0.29\"}, {\"variable\": \"HispanicPopShare\", \"variable2\": \"WhitePopShare\", \"correlation\": -0.3033886391343884, \"correlation_label\": \"-0.30\"}, {\"variable\": \"HispanicPopShare\", \"variable2\": \"AsianPopShare\", \"correlation\": 0.07439188042340097, \"correlation_label\": \"0.07\"}, {\"variable\": \"HispanicPopShare\", \"variable2\": \"NHOPIPopShare\", \"correlation\": 0.03916764532731688, \"correlation_label\": \"0.04\"}, {\"variable\": \"HispanicPopShare\", \"variable2\": \"AIANPopShare\", \"correlation\": 0.017850492152250548, \"correlation_label\": \"0.02\"}, {\"variable\": \"HispanicPopShare\", \"variable2\": \"OMultirPopShare\", \"correlation\": 0.8658350672812237, \"correlation_label\": \"0.87\"}, {\"variable\": \"HispanicPopShare\", \"variable2\": \"HispanicPopShare\", \"correlation\": 1.0, \"correlation_label\": \"1.00\"}, {\"variable\": \"HispanicPopShare\", \"variable2\": \"HUNVPopShare\", \"correlation\": 0.1032862966810038, \"correlation_label\": \"0.10\"}, {\"variable\": \"HispanicPopShare\", \"variable2\": \"SNAPPopShare\", \"correlation\": 0.26425647729412693, \"correlation_label\": \"0.26\"}, {\"variable\": \"HUNVPopShare\", \"variable2\": \"PovertyRate\", \"correlation\": 0.2829084983393503, \"correlation_label\": \"0.28\"}, {\"variable\": \"HUNVPopShare\", \"variable2\": \"BlackPopShare\", \"correlation\": 0.23872163013090897, \"correlation_label\": \"0.24\"}, {\"variable\": \"HUNVPopShare\", \"variable2\": \"LOWIPopShare\", \"correlation\": 0.2561147097146154, \"correlation_label\": \"0.26\"}, {\"variable\": \"HUNVPopShare\", \"variable2\": \"KidsPopShare\", \"correlation\": -0.05273259186214481, \"correlation_label\": \"-0.05\"}, {\"variable\": \"HUNVPopShare\", \"variable2\": \"SeniorsPopShare\", \"correlation\": -0.05514190726297414, \"correlation_label\": \"-0.06\"}, {\"variable\": \"HUNVPopShare\", \"variable2\": \"WhitePopShare\", \"correlation\": -0.27505280573810764, \"correlation_label\": \"-0.28\"}, {\"variable\": \"HUNVPopShare\", \"variable2\": \"AsianPopShare\", \"correlation\": 0.05402301408683258, \"correlation_label\": \"0.05\"}, {\"variable\": \"HUNVPopShare\", \"variable2\": \"NHOPIPopShare\", \"correlation\": 0.009043128632616073, \"correlation_label\": \"0.01\"}, {\"variable\": \"HUNVPopShare\", \"variable2\": \"AIANPopShare\", \"correlation\": 0.012167489456452065, \"correlation_label\": \"0.01\"}, {\"variable\": \"HUNVPopShare\", \"variable2\": \"OMultirPopShare\", \"correlation\": 0.12244067209636002, \"correlation_label\": \"0.12\"}, {\"variable\": \"HUNVPopShare\", \"variable2\": \"HispanicPopShare\", \"correlation\": 0.1032862966810038, \"correlation_label\": \"0.10\"}, {\"variable\": \"HUNVPopShare\", \"variable2\": \"HUNVPopShare\", \"correlation\": 1.0, \"correlation_label\": \"1.00\"}, {\"variable\": \"HUNVPopShare\", \"variable2\": \"SNAPPopShare\", \"correlation\": 0.4607312721409357, \"correlation_label\": \"0.46\"}, {\"variable\": \"SNAPPopShare\", \"variable2\": \"PovertyRate\", \"correlation\": 0.7060501024305214, \"correlation_label\": \"0.71\"}, {\"variable\": \"SNAPPopShare\", \"variable2\": \"BlackPopShare\", \"correlation\": 0.4704181429214918, \"correlation_label\": \"0.47\"}, {\"variable\": \"SNAPPopShare\", \"variable2\": \"LOWIPopShare\", \"correlation\": 0.6046305687159963, \"correlation_label\": \"0.60\"}, {\"variable\": \"SNAPPopShare\", \"variable2\": \"KidsPopShare\", \"correlation\": 0.2809451289140096, \"correlation_label\": \"0.28\"}, {\"variable\": \"SNAPPopShare\", \"variable2\": \"SeniorsPopShare\", \"correlation\": -0.1545011100894765, \"correlation_label\": \"-0.15\"}, {\"variable\": \"SNAPPopShare\", \"variable2\": \"WhitePopShare\", \"correlation\": -0.4804250695653086, \"correlation_label\": \"-0.48\"}, {\"variable\": \"SNAPPopShare\", \"variable2\": \"AsianPopShare\", \"correlation\": -0.14834678386726421, \"correlation_label\": \"-0.15\"}, {\"variable\": \"SNAPPopShare\", \"variable2\": \"NHOPIPopShare\", \"correlation\": 0.022474545009895625, \"correlation_label\": \"0.02\"}, {\"variable\": \"SNAPPopShare\", \"variable2\": \"AIANPopShare\", \"correlation\": 0.08514295414213996, \"correlation_label\": \"0.09\"}, {\"variable\": \"SNAPPopShare\", \"variable2\": \"OMultirPopShare\", \"correlation\": 0.26788647420949874, \"correlation_label\": \"0.27\"}, {\"variable\": \"SNAPPopShare\", \"variable2\": \"HispanicPopShare\", \"correlation\": 0.26425647729412693, \"correlation_label\": \"0.26\"}, {\"variable\": \"SNAPPopShare\", \"variable2\": \"HUNVPopShare\", \"correlation\": 0.4607312721409357, \"correlation_label\": \"0.46\"}, {\"variable\": \"SNAPPopShare\", \"variable2\": \"SNAPPopShare\", \"correlation\": 1.0, \"correlation_label\": \"1.00\"}]}}, {\"mode\": \"vega-lite\"});\n",
       "</script>"
      ],
      "text/plain": [
       "alt.LayerChart(...)"
      ]
     },
     "execution_count": 12,
     "metadata": {},
     "output_type": "execute_result"
    }
   ],
   "source": [
    "# Vizualize correlations\n",
    "base = alt.Chart(cor_data).encode(\n",
    "    x='variable2:O',\n",
    "    y='variable:O'    \n",
    ")\n",
    "\n",
    "text = base.mark_text().encode(\n",
    "    text='correlation_label',\n",
    "    color=alt.condition(\n",
    "        alt.datum.correlation > 0.5, \n",
    "        alt.value('white'),\n",
    "        alt.value('black')\n",
    "    )\n",
    ")\n",
    "\n",
    "cor_plot = base.mark_rect().encode(\n",
    "    color=alt.Color('correlation:Q', scale=alt.Scale(scheme='redblue'))\n",
    ").properties(width=600, height=600)\n",
    "\n",
    "cor_plot + text"
   ]
  },
  {
   "cell_type": "markdown",
   "id": "46c2b544-955b-42d8-a49b-b230f1ffe0c2",
   "metadata": {},
   "source": [
    "#### Differences in Population Means\n",
    "Below, I explore the relationship between the population means when comparing populations that are low income and low access with populations that are not."
   ]
  },
  {
   "cell_type": "code",
   "execution_count": 13,
   "id": "a12fcbb3-4aae-48d9-a3c0-b90e308f51f8",
   "metadata": {
    "tags": []
   },
   "outputs": [
    {
     "name": "stdout",
     "output_type": "stream",
     "text": [
      "Low Access, Low Income: Black Population Mean: 0.23\n",
      "Not Low Access, Low Income: Black Population Mean: 0.12\n",
      "Low Access, Low Income: White Population Mean: 0.63\n",
      "Not Low Access, Low Income: White Population Mean: 0.73\n"
     ]
    }
   ],
   "source": [
    "lila_1_black = df[df['LILATracts_1And10'] == 1]['BlackPopShare']\n",
    "lila_0_black = df[df['LILATracts_1And10'] == 0]['BlackPopShare']\n",
    "lila_1_white = df[df['LILATracts_1And10'] == 1]['WhitePopShare']\n",
    "lila_0_white = df[df['LILATracts_1And10'] == 0]['WhitePopShare']\n",
    "print('Low Access, Low Income: Black Population Mean: {:.2}'.format(lila_1_black.mean()))\n",
    "print('Not Low Access, Low Income: Black Population Mean: {:.2}'.format(lila_0_black.mean()))\n",
    "print('Low Access, Low Income: White Population Mean: {:.2}'.format(lila_1_white.mean()))\n",
    "print('Not Low Access, Low Income: White Population Mean: {:.2}'.format(lila_0_white.mean()))"
   ]
  },
  {
   "cell_type": "markdown",
   "id": "c2cf3fdc-88b5-4924-ba7c-6efc5ef62a8e",
   "metadata": {},
   "source": [
    "The means appear to suggest that, low access, low income communities have, on average, a higher percentage of Black population than thoese communities that are not low access, low income.\n",
    "\n",
    "In addition, low access, low income communities have, on average, a lower percentage of White population than thoese communities that are not low access, low income.\n",
    "\n",
    "This bears out in the following t-tests:"
   ]
  },
  {
   "cell_type": "markdown",
   "id": "6ac06f25-f66d-4d8d-b7de-ed5d7030c399",
   "metadata": {},
   "source": [
    "Test the null hypothesis that the population share means are equal for Black populations, vs. the alternative hypothesis that low access, low income populations have greater Black population means than non-low access, low income populations:"
   ]
  },
  {
   "cell_type": "code",
   "execution_count": 14,
   "id": "191cf837-5304-4dd2-b404-9647b0352bfc",
   "metadata": {
    "tags": []
   },
   "outputs": [
    {
     "data": {
      "text/plain": [
       "Ttest_indResult(statistic=36.07918837717623, pvalue=1.45167200558015e-269)"
      ]
     },
     "execution_count": 14,
     "metadata": {},
     "output_type": "execute_result"
    }
   ],
   "source": [
    "ttest_ind(lila_1_black.tolist(), lila_0_black.tolist(), equal_var=False, alternative='greater')"
   ]
  },
  {
   "cell_type": "markdown",
   "id": "6c67f1f5-93d7-4115-8fdd-3d242914d6ae",
   "metadata": {},
   "source": [
    "At a level of significance of .05, we reject the null hypothesis in favor of the alternative."
   ]
  },
  {
   "cell_type": "markdown",
   "id": "2ecc99ed-f372-4a18-924e-c87bbf158510",
   "metadata": {},
   "source": [
    "Test the null hypothesis that the population share means are equal for White populations, vs. the alternative hypothesis that low access, low income populations have lower White population means than non-low access, low income populations:"
   ]
  },
  {
   "cell_type": "code",
   "execution_count": 15,
   "id": "ae425c71-a49c-4a1c-9d08-54d162fcb42a",
   "metadata": {
    "tags": []
   },
   "outputs": [
    {
     "data": {
      "text/plain": [
       "Ttest_indResult(statistic=-32.08791001570348, pvalue=9.128973228515656e-217)"
      ]
     },
     "execution_count": 15,
     "metadata": {},
     "output_type": "execute_result"
    }
   ],
   "source": [
    "ttest_ind(lila_1_white.tolist(), lila_0_white.tolist(), equal_var=False, alternative='less')"
   ]
  },
  {
   "cell_type": "markdown",
   "id": "ae47fc1a-dd3a-4d07-a03c-5da64afe8a67",
   "metadata": {
    "tags": []
   },
   "source": [
    "At a level of significance of .05, we reject the null hypothesis in favor of the alternative."
   ]
  },
  {
   "cell_type": "markdown",
   "id": "487fb1d5-2df4-48b9-9857-bb5744d053f3",
   "metadata": {},
   "source": [
    "As a result of the above tests, we can likely say that Black and White population means will likely be good features for our binary classification model."
   ]
  },
  {
   "cell_type": "markdown",
   "id": "4ec7d1f6-cd2b-4556-bd54-b25189df496d",
   "metadata": {
    "tags": []
   },
   "source": [
    "#### Population Demographics\n",
    "Below, I further explore the population demographics as they relate to low access, low income communities."
   ]
  },
  {
   "cell_type": "code",
   "execution_count": 16,
   "id": "146b2994-e399-4537-a8fe-a4998a00fa0a",
   "metadata": {
    "tags": []
   },
   "outputs": [],
   "source": [
    "bins = [0, .1, .2, .3, .4, .5, .6, .7, .8, .9, 1.0]\n",
    "names = ['0%-10%', '10%-20%', '20%-30%', '30%-40%', '40%-50%', '50%-60%', '60%-70%', '70%-80%', '80%-90%', '90%-100%']"
   ]
  },
  {
   "cell_type": "markdown",
   "id": "84a9bd01-ca7c-4bec-8831-061f823522de",
   "metadata": {},
   "source": [
    "##### White and Black Communites Compared\n",
    "Extending from above, I visualized the relationship between White and Black population percentages, and number of low income, low access communities.  We can see clearly here that, as the White population percentage increases, the percentage of low income, low access communites decrease.  Contrasting that, as the Black population percentage increases, the percentage of low income, low access communities decrease.  This again supports our findings above, and also indicates these may be good indicators for our models."
   ]
  },
  {
   "cell_type": "code",
   "execution_count": 17,
   "id": "eacf56cd-a5c3-4c0b-8e03-fb05fb22d768",
   "metadata": {
    "tags": []
   },
   "outputs": [],
   "source": [
    "# Segment and calulate Black and White population statistics\n",
    "eda_df = df.copy()\n",
    "eda_df['PopShareRange'] = pd.cut(eda_df['BlackPopShare'], bins, labels=names)\n",
    "b = eda_df[['PopShareRange',label]].groupby(['PopShareRange'], as_index=False).aggregate({label:['sum','count', 'mean']})\n",
    "b.columns = [f\"{x}_{y}\" for x, y in b.columns.to_flat_index()]\n",
    "b['Demographic'] = 'Black'\n",
    "\n",
    "eda_df['PopShareRange'] = pd.cut(eda_df['WhitePopShare'], bins, labels=names)\n",
    "w = eda_df[['PopShareRange',label]].groupby(['PopShareRange'], as_index=False).aggregate({label:['sum','count', 'mean']})\n",
    "w.columns = [f\"{x}_{y}\" for x, y in w.columns.to_flat_index()]\n",
    "w['Demographic'] = 'White'\n",
    "\n",
    "bw = pd.concat([b,w])"
   ]
  },
  {
   "cell_type": "code",
   "execution_count": 18,
   "id": "3d588758-8efe-455c-83f7-137fad23c235",
   "metadata": {
    "tags": []
   },
   "outputs": [
    {
     "data": {
      "text/html": [
       "\n",
       "<div id=\"altair-viz-9fd97636bd9342ef8efed9e6db0716f3\"></div>\n",
       "<script type=\"text/javascript\">\n",
       "  var VEGA_DEBUG = (typeof VEGA_DEBUG == \"undefined\") ? {} : VEGA_DEBUG;\n",
       "  (function(spec, embedOpt){\n",
       "    let outputDiv = document.currentScript.previousElementSibling;\n",
       "    if (outputDiv.id !== \"altair-viz-9fd97636bd9342ef8efed9e6db0716f3\") {\n",
       "      outputDiv = document.getElementById(\"altair-viz-9fd97636bd9342ef8efed9e6db0716f3\");\n",
       "    }\n",
       "    const paths = {\n",
       "      \"vega\": \"https://cdn.jsdelivr.net/npm//vega@5?noext\",\n",
       "      \"vega-lib\": \"https://cdn.jsdelivr.net/npm//vega-lib?noext\",\n",
       "      \"vega-lite\": \"https://cdn.jsdelivr.net/npm//vega-lite@4.17.0?noext\",\n",
       "      \"vega-embed\": \"https://cdn.jsdelivr.net/npm//vega-embed@6?noext\",\n",
       "    };\n",
       "\n",
       "    function maybeLoadScript(lib, version) {\n",
       "      var key = `${lib.replace(\"-\", \"\")}_version`;\n",
       "      return (VEGA_DEBUG[key] == version) ?\n",
       "        Promise.resolve(paths[lib]) :\n",
       "        new Promise(function(resolve, reject) {\n",
       "          var s = document.createElement('script');\n",
       "          document.getElementsByTagName(\"head\")[0].appendChild(s);\n",
       "          s.async = true;\n",
       "          s.onload = () => {\n",
       "            VEGA_DEBUG[key] = version;\n",
       "            return resolve(paths[lib]);\n",
       "          };\n",
       "          s.onerror = () => reject(`Error loading script: ${paths[lib]}`);\n",
       "          s.src = paths[lib];\n",
       "        });\n",
       "    }\n",
       "\n",
       "    function showError(err) {\n",
       "      outputDiv.innerHTML = `<div class=\"error\" style=\"color:red;\">${err}</div>`;\n",
       "      throw err;\n",
       "    }\n",
       "\n",
       "    function displayChart(vegaEmbed) {\n",
       "      vegaEmbed(outputDiv, spec, embedOpt)\n",
       "        .catch(err => showError(`Javascript Error: ${err.message}<br>This usually means there's a typo in your chart specification. See the javascript console for the full traceback.`));\n",
       "    }\n",
       "\n",
       "    if(typeof define === \"function\" && define.amd) {\n",
       "      requirejs.config({paths});\n",
       "      require([\"vega-embed\"], displayChart, err => showError(`Error loading script: ${err.message}`));\n",
       "    } else {\n",
       "      maybeLoadScript(\"vega\", \"5\")\n",
       "        .then(() => maybeLoadScript(\"vega-lite\", \"4.17.0\"))\n",
       "        .then(() => maybeLoadScript(\"vega-embed\", \"6\"))\n",
       "        .catch(showError)\n",
       "        .then(() => displayChart(vegaEmbed));\n",
       "    }\n",
       "  })({\"config\": {\"view\": {\"continuousWidth\": 400, \"continuousHeight\": 300}, \"axis\": {\"labelFontSize\": 13, \"titleFontSize\": 15}, \"header\": {\"labelFontSize\": 13, \"labelOrient\": \"bottom\", \"titleFontSize\": 15, \"titleOrient\": \"bottom\"}}, \"data\": {\"name\": \"data-130c1534ce772d2f9455d20d58017946\"}, \"mark\": {\"type\": \"bar\", \"size\": 25}, \"encoding\": {\"color\": {\"field\": \"Demographic\", \"type\": \"nominal\"}, \"column\": {\"field\": \"PopShareRange_\", \"title\": \"Population Percentage Range\", \"type\": \"ordinal\"}, \"x\": {\"axis\": {\"labelAngle\": -45}, \"field\": \"Demographic\", \"title\": \"\", \"type\": \"nominal\"}, \"y\": {\"axis\": {\"format\": \"%\"}, \"field\": \"LILATracts_1And10_mean\", \"title\": \"Percent Low Income, Low Access Tracts\", \"type\": \"quantitative\"}}, \"height\": 300, \"width\": 60, \"$schema\": \"https://vega.github.io/schema/vega-lite/v4.17.0.json\", \"datasets\": {\"data-130c1534ce772d2f9455d20d58017946\": [{\"PopShareRange_\": \"0%-10%\", \"LILATracts_1And10_sum\": 4584, \"LILATracts_1And10_count\": 49022, \"LILATracts_1And10_mean\": 0.09350903675900617, \"Demographic\": \"Black\"}, {\"PopShareRange_\": \"10%-20%\", \"LILATracts_1And10_sum\": 1234, \"LILATracts_1And10_count\": 8426, \"LILATracts_1And10_mean\": 0.14645145976738666, \"Demographic\": \"Black\"}, {\"PopShareRange_\": \"20%-30%\", \"LILATracts_1And10_sum\": 721, \"LILATracts_1And10_count\": 4098, \"LILATracts_1And10_mean\": 0.17593948267447534, \"Demographic\": \"Black\"}, {\"PopShareRange_\": \"30%-40%\", \"LILATracts_1And10_sum\": 505, \"LILATracts_1And10_count\": 2469, \"LILATracts_1And10_mean\": 0.20453624949372215, \"Demographic\": \"Black\"}, {\"PopShareRange_\": \"40%-50%\", \"LILATracts_1And10_sum\": 439, \"LILATracts_1And10_count\": 1699, \"LILATracts_1And10_mean\": 0.2583872866391995, \"Demographic\": \"Black\"}, {\"PopShareRange_\": \"50%-60%\", \"LILATracts_1And10_sum\": 372, \"LILATracts_1And10_count\": 1296, \"LILATracts_1And10_mean\": 0.28703703703703703, \"Demographic\": \"Black\"}, {\"PopShareRange_\": \"60%-70%\", \"LILATracts_1And10_sum\": 320, \"LILATracts_1And10_count\": 1026, \"LILATracts_1And10_mean\": 0.31189083820662766, \"Demographic\": \"Black\"}, {\"PopShareRange_\": \"70%-80%\", \"LILATracts_1And10_sum\": 308, \"LILATracts_1And10_count\": 1018, \"LILATracts_1And10_mean\": 0.3025540275049116, \"Demographic\": \"Black\"}, {\"PopShareRange_\": \"80%-90%\", \"LILATracts_1And10_sum\": 335, \"LILATracts_1And10_count\": 1186, \"LILATracts_1And10_mean\": 0.2824620573355818, \"Demographic\": \"Black\"}, {\"PopShareRange_\": \"90%-100%\", \"LILATracts_1And10_sum\": 406, \"LILATracts_1And10_count\": 1759, \"LILATracts_1And10_mean\": 0.23081296191017622, \"Demographic\": \"Black\"}, {\"PopShareRange_\": \"0%-10%\", \"LILATracts_1And10_sum\": 676, \"LILATracts_1And10_count\": 2872, \"LILATracts_1And10_mean\": 0.23537604456824512, \"Demographic\": \"White\"}, {\"PopShareRange_\": \"10%-20%\", \"LILATracts_1And10_sum\": 417, \"LILATracts_1And10_count\": 1885, \"LILATracts_1And10_mean\": 0.22122015915119364, \"Demographic\": \"White\"}, {\"PopShareRange_\": \"20%-30%\", \"LILATracts_1And10_sum\": 408, \"LILATracts_1And10_count\": 2171, \"LILATracts_1And10_mean\": 0.1879318286503915, \"Demographic\": \"White\"}, {\"PopShareRange_\": \"30%-40%\", \"LILATracts_1And10_sum\": 526, \"LILATracts_1And10_count\": 2828, \"LILATracts_1And10_mean\": 0.185997171145686, \"Demographic\": \"White\"}, {\"PopShareRange_\": \"40%-50%\", \"LILATracts_1And10_sum\": 668, \"LILATracts_1And10_count\": 4075, \"LILATracts_1And10_mean\": 0.16392638036809815, \"Demographic\": \"White\"}, {\"PopShareRange_\": \"50%-60%\", \"LILATracts_1And10_sum\": 875, \"LILATracts_1And10_count\": 5182, \"LILATracts_1And10_mean\": 0.16885372443072172, \"Demographic\": \"White\"}, {\"PopShareRange_\": \"60%-70%\", \"LILATracts_1And10_sum\": 1049, \"LILATracts_1And10_count\": 6621, \"LILATracts_1And10_mean\": 0.1584352816795046, \"Demographic\": \"White\"}, {\"PopShareRange_\": \"70%-80%\", \"LILATracts_1And10_sum\": 1276, \"LILATracts_1And10_count\": 9601, \"LILATracts_1And10_mean\": 0.13290282262264347, \"Demographic\": \"White\"}, {\"PopShareRange_\": \"80%-90%\", \"LILATracts_1And10_sum\": 1550, \"LILATracts_1And10_count\": 14759, \"LILATracts_1And10_mean\": 0.10502066535673149, \"Demographic\": \"White\"}, {\"PopShareRange_\": \"90%-100%\", \"LILATracts_1And10_sum\": 1844, \"LILATracts_1And10_count\": 22398, \"LILATracts_1And10_mean\": 0.08232877935529959, \"Demographic\": \"White\"}]}}, {\"mode\": \"vega-lite\"});\n",
       "</script>"
      ],
      "text/plain": [
       "alt.Chart(...)"
      ]
     },
     "execution_count": 18,
     "metadata": {},
     "output_type": "execute_result"
    }
   ],
   "source": [
    "# Visualize\n",
    "alt.Chart(bw).mark_bar(size=25).encode(\n",
    "    x=alt.X('Demographic:N', title='', axis=alt.Axis(labelAngle=-45)),\n",
    "    y=alt.Y('LILATracts_1And10_mean:Q', axis=alt.Axis(format='%'), title='Percent Low Income, Low Access Tracts'),\n",
    "    color='Demographic:N',\n",
    "    column=alt.Column('PopShareRange_:O', title='Population Percentage Range')\n",
    ").properties(\n",
    "    height=300,\n",
    "    width=60\n",
    ").configure_axis(\n",
    "    labelFontSize=13,\n",
    "    titleFontSize=15\n",
    ").configure_header(\n",
    "    labelFontSize=13,\n",
    "    titleFontSize=15,\n",
    "    labelOrient='bottom',\n",
    "    titleOrient='bottom'\n",
    ")"
   ]
  },
  {
   "cell_type": "markdown",
   "id": "73d4106d-391e-4ed9-a931-8bd042de75cc",
   "metadata": {
    "tags": []
   },
   "source": [
    "##### KidsPopShare and Low Income, Low Access Communities\n",
    "From the correlation matrix above, it seemed like KidsPopShare was an interesting feature.  Looking at this data a little closely, we do see that as the kids population increases, we do see a very sharp increase in low income, low access communities.  This, of course, drops to zero at 60%, because there is a logical limit in the percentage of kids vs. parents in any given community."
   ]
  },
  {
   "cell_type": "code",
   "execution_count": 19,
   "id": "6c067176-74ab-4ffb-aa27-2831d99f69dd",
   "metadata": {
    "tags": []
   },
   "outputs": [],
   "source": [
    "# Calculate KidsPopShare statistics\n",
    "eda_df = df.copy()\n",
    "eda_df['PopShareRange'] = pd.cut(eda_df['KidsPopShare'], bins, labels=names)\n",
    "k = eda_df[['PopShareRange',label]].groupby(['PopShareRange'], as_index=False).aggregate({label:['sum','count', 'mean']})\n",
    "k.columns = [f\"{x}_{y}\" for x, y in k.columns.to_flat_index()]"
   ]
  },
  {
   "cell_type": "code",
   "execution_count": 20,
   "id": "4091fac0-3e7f-4678-a5f7-0dc31513b407",
   "metadata": {
    "tags": []
   },
   "outputs": [
    {
     "data": {
      "text/html": [
       "\n",
       "<div id=\"altair-viz-50319ea4d2234db599bd3741d619b1a5\"></div>\n",
       "<script type=\"text/javascript\">\n",
       "  var VEGA_DEBUG = (typeof VEGA_DEBUG == \"undefined\") ? {} : VEGA_DEBUG;\n",
       "  (function(spec, embedOpt){\n",
       "    let outputDiv = document.currentScript.previousElementSibling;\n",
       "    if (outputDiv.id !== \"altair-viz-50319ea4d2234db599bd3741d619b1a5\") {\n",
       "      outputDiv = document.getElementById(\"altair-viz-50319ea4d2234db599bd3741d619b1a5\");\n",
       "    }\n",
       "    const paths = {\n",
       "      \"vega\": \"https://cdn.jsdelivr.net/npm//vega@5?noext\",\n",
       "      \"vega-lib\": \"https://cdn.jsdelivr.net/npm//vega-lib?noext\",\n",
       "      \"vega-lite\": \"https://cdn.jsdelivr.net/npm//vega-lite@4.17.0?noext\",\n",
       "      \"vega-embed\": \"https://cdn.jsdelivr.net/npm//vega-embed@6?noext\",\n",
       "    };\n",
       "\n",
       "    function maybeLoadScript(lib, version) {\n",
       "      var key = `${lib.replace(\"-\", \"\")}_version`;\n",
       "      return (VEGA_DEBUG[key] == version) ?\n",
       "        Promise.resolve(paths[lib]) :\n",
       "        new Promise(function(resolve, reject) {\n",
       "          var s = document.createElement('script');\n",
       "          document.getElementsByTagName(\"head\")[0].appendChild(s);\n",
       "          s.async = true;\n",
       "          s.onload = () => {\n",
       "            VEGA_DEBUG[key] = version;\n",
       "            return resolve(paths[lib]);\n",
       "          };\n",
       "          s.onerror = () => reject(`Error loading script: ${paths[lib]}`);\n",
       "          s.src = paths[lib];\n",
       "        });\n",
       "    }\n",
       "\n",
       "    function showError(err) {\n",
       "      outputDiv.innerHTML = `<div class=\"error\" style=\"color:red;\">${err}</div>`;\n",
       "      throw err;\n",
       "    }\n",
       "\n",
       "    function displayChart(vegaEmbed) {\n",
       "      vegaEmbed(outputDiv, spec, embedOpt)\n",
       "        .catch(err => showError(`Javascript Error: ${err.message}<br>This usually means there's a typo in your chart specification. See the javascript console for the full traceback.`));\n",
       "    }\n",
       "\n",
       "    if(typeof define === \"function\" && define.amd) {\n",
       "      requirejs.config({paths});\n",
       "      require([\"vega-embed\"], displayChart, err => showError(`Error loading script: ${err.message}`));\n",
       "    } else {\n",
       "      maybeLoadScript(\"vega\", \"5\")\n",
       "        .then(() => maybeLoadScript(\"vega-lite\", \"4.17.0\"))\n",
       "        .then(() => maybeLoadScript(\"vega-embed\", \"6\"))\n",
       "        .catch(showError)\n",
       "        .then(() => displayChart(vegaEmbed));\n",
       "    }\n",
       "  })({\"config\": {\"view\": {\"continuousWidth\": 400, \"continuousHeight\": 300}, \"axis\": {\"labelFontSize\": 13, \"titleFontSize\": 15}}, \"data\": {\"name\": \"data-c50f7f28298f62bd50d50caaaf12e3aa\"}, \"mark\": {\"type\": \"bar\", \"size\": 25}, \"encoding\": {\"x\": {\"axis\": {\"labelAngle\": -45}, \"field\": \"PopShareRange_\", \"title\": \"Population Percentage Range\", \"type\": \"ordinal\"}, \"y\": {\"axis\": {\"format\": \"%\"}, \"field\": \"LILATracts_1And10_mean\", \"title\": \"Percent Low Income, Low Access Tracts\", \"type\": \"quantitative\"}}, \"height\": 300, \"width\": 600, \"$schema\": \"https://vega.github.io/schema/vega-lite/v4.17.0.json\", \"datasets\": {\"data-c50f7f28298f62bd50d50caaaf12e3aa\": [{\"PopShareRange_\": \"0%-10%\", \"LILATracts_1And10_sum\": 312, \"LILATracts_1And10_count\": 2552, \"LILATracts_1And10_mean\": 0.12225705329153605}, {\"PopShareRange_\": \"10%-20%\", \"LILATracts_1And10_sum\": 1389, \"LILATracts_1And10_count\": 14240, \"LILATracts_1And10_mean\": 0.09754213483146068}, {\"PopShareRange_\": \"20%-30%\", \"LILATracts_1And10_sum\": 5796, \"LILATracts_1And10_count\": 46189, \"LILATracts_1And10_mean\": 0.125484422698045}, {\"PopShareRange_\": \"30%-40%\", \"LILATracts_1And10_sum\": 1691, \"LILATracts_1And10_count\": 8988, \"LILATracts_1And10_mean\": 0.18813974187805962}, {\"PopShareRange_\": \"40%-50%\", \"LILATracts_1And10_sum\": 91, \"LILATracts_1And10_count\": 322, \"LILATracts_1And10_mean\": 0.2826086956521739}, {\"PopShareRange_\": \"50%-60%\", \"LILATracts_1And10_sum\": 7, \"LILATracts_1And10_count\": 31, \"LILATracts_1And10_mean\": 0.22580645161290322}, {\"PopShareRange_\": \"60%-70%\", \"LILATracts_1And10_sum\": 0, \"LILATracts_1And10_count\": 5, \"LILATracts_1And10_mean\": 0.0}, {\"PopShareRange_\": \"70%-80%\", \"LILATracts_1And10_sum\": 0, \"LILATracts_1And10_count\": 1, \"LILATracts_1And10_mean\": 0.0}, {\"PopShareRange_\": \"80%-90%\", \"LILATracts_1And10_sum\": 0, \"LILATracts_1And10_count\": 0, \"LILATracts_1And10_mean\": null}, {\"PopShareRange_\": \"90%-100%\", \"LILATracts_1And10_sum\": 0, \"LILATracts_1And10_count\": 0, \"LILATracts_1And10_mean\": null}]}}, {\"mode\": \"vega-lite\"});\n",
       "</script>"
      ],
      "text/plain": [
       "alt.Chart(...)"
      ]
     },
     "execution_count": 20,
     "metadata": {},
     "output_type": "execute_result"
    }
   ],
   "source": [
    "# Visualize\n",
    "alt.Chart(k).mark_bar(size=25).encode(\n",
    "    x=alt.X('PopShareRange_:O', title='Population Percentage Range', axis=alt.Axis(labelAngle=-45)),\n",
    "    y=alt.Y('LILATracts_1And10_mean:Q', axis=alt.Axis(format='%'), title='Percent Low Income, Low Access Tracts'),\n",
    ").properties(\n",
    "    height=300,\n",
    "    width=600\n",
    ").configure_axis(\n",
    "    labelFontSize=13,\n",
    "    titleFontSize=15\n",
    ")"
   ]
  },
  {
   "cell_type": "markdown",
   "id": "7ffac6fd-32f8-46c8-b931-403379a1b3a0",
   "metadata": {},
   "source": [
    "##### States and Low Income, Low Access Communities\n",
    "I plotted the states and Low Income, Low Access communities below because I wanted to explore if there was any kind of geo-spacial relationship driving food desert communities.  Indeed, I did find that the states with the most low income, low access communities appeared to be in one region of the country, and the states with the lowest percentage of low income, low access communities appeared to be in another.  This prompted me to add geographic regions to my data as an engineered feature."
   ]
  },
  {
   "cell_type": "code",
   "execution_count": 21,
   "id": "bc45287f-e7ac-45d8-97d7-8271a92083db",
   "metadata": {
    "tags": []
   },
   "outputs": [],
   "source": [
    "# Calculate State statistics\n",
    "eda_df = df.copy()\n",
    "k = eda_df[['State',label]].groupby(['State'], as_index=False).aggregate({label:['sum','count', 'mean']})\n",
    "k.columns = [f\"{x}_{y}\" for x, y in k.columns.to_flat_index()]"
   ]
  },
  {
   "cell_type": "code",
   "execution_count": 22,
   "id": "b71522ed-4647-40a8-b363-005af6a9e11d",
   "metadata": {
    "tags": []
   },
   "outputs": [
    {
     "data": {
      "text/html": [
       "\n",
       "<div id=\"altair-viz-6a2ba38adc4147f6b7eed54ce6e2a05d\"></div>\n",
       "<script type=\"text/javascript\">\n",
       "  var VEGA_DEBUG = (typeof VEGA_DEBUG == \"undefined\") ? {} : VEGA_DEBUG;\n",
       "  (function(spec, embedOpt){\n",
       "    let outputDiv = document.currentScript.previousElementSibling;\n",
       "    if (outputDiv.id !== \"altair-viz-6a2ba38adc4147f6b7eed54ce6e2a05d\") {\n",
       "      outputDiv = document.getElementById(\"altair-viz-6a2ba38adc4147f6b7eed54ce6e2a05d\");\n",
       "    }\n",
       "    const paths = {\n",
       "      \"vega\": \"https://cdn.jsdelivr.net/npm//vega@5?noext\",\n",
       "      \"vega-lib\": \"https://cdn.jsdelivr.net/npm//vega-lib?noext\",\n",
       "      \"vega-lite\": \"https://cdn.jsdelivr.net/npm//vega-lite@4.17.0?noext\",\n",
       "      \"vega-embed\": \"https://cdn.jsdelivr.net/npm//vega-embed@6?noext\",\n",
       "    };\n",
       "\n",
       "    function maybeLoadScript(lib, version) {\n",
       "      var key = `${lib.replace(\"-\", \"\")}_version`;\n",
       "      return (VEGA_DEBUG[key] == version) ?\n",
       "        Promise.resolve(paths[lib]) :\n",
       "        new Promise(function(resolve, reject) {\n",
       "          var s = document.createElement('script');\n",
       "          document.getElementsByTagName(\"head\")[0].appendChild(s);\n",
       "          s.async = true;\n",
       "          s.onload = () => {\n",
       "            VEGA_DEBUG[key] = version;\n",
       "            return resolve(paths[lib]);\n",
       "          };\n",
       "          s.onerror = () => reject(`Error loading script: ${paths[lib]}`);\n",
       "          s.src = paths[lib];\n",
       "        });\n",
       "    }\n",
       "\n",
       "    function showError(err) {\n",
       "      outputDiv.innerHTML = `<div class=\"error\" style=\"color:red;\">${err}</div>`;\n",
       "      throw err;\n",
       "    }\n",
       "\n",
       "    function displayChart(vegaEmbed) {\n",
       "      vegaEmbed(outputDiv, spec, embedOpt)\n",
       "        .catch(err => showError(`Javascript Error: ${err.message}<br>This usually means there's a typo in your chart specification. See the javascript console for the full traceback.`));\n",
       "    }\n",
       "\n",
       "    if(typeof define === \"function\" && define.amd) {\n",
       "      requirejs.config({paths});\n",
       "      require([\"vega-embed\"], displayChart, err => showError(`Error loading script: ${err.message}`));\n",
       "    } else {\n",
       "      maybeLoadScript(\"vega\", \"5\")\n",
       "        .then(() => maybeLoadScript(\"vega-lite\", \"4.17.0\"))\n",
       "        .then(() => maybeLoadScript(\"vega-embed\", \"6\"))\n",
       "        .catch(showError)\n",
       "        .then(() => displayChart(vegaEmbed));\n",
       "    }\n",
       "  })({\"config\": {\"view\": {\"continuousWidth\": 400, \"continuousHeight\": 300}, \"axis\": {\"labelFontSize\": 13, \"titleFontSize\": 15}}, \"data\": {\"name\": \"data-d91e253bc5e9923b47a17ce70dbbaa4b\"}, \"mark\": {\"type\": \"bar\", \"size\": 10}, \"encoding\": {\"x\": {\"axis\": {\"format\": \"%\"}, \"field\": \"LILATracts_1And10_mean\", \"title\": \"Percent Low Income, Low Access Tracts\", \"type\": \"quantitative\"}, \"y\": {\"field\": \"State_\", \"sort\": \"-x\", \"title\": \"State\", \"type\": \"nominal\"}}, \"height\": 800, \"width\": 600, \"$schema\": \"https://vega.github.io/schema/vega-lite/v4.17.0.json\", \"datasets\": {\"data-d91e253bc5e9923b47a17ce70dbbaa4b\": [{\"State_\": \"Alabama\", \"LILATracts_1And10_sum\": 267, \"LILATracts_1And10_count\": 1177, \"LILATracts_1And10_mean\": 0.2268479184367035}, {\"State_\": \"Alaska\", \"LILATracts_1And10_sum\": 33, \"LILATracts_1And10_count\": 166, \"LILATracts_1And10_mean\": 0.19879518072289157}, {\"State_\": \"Arizona\", \"LILATracts_1And10_sum\": 257, \"LILATracts_1And10_count\": 1516, \"LILATracts_1And10_mean\": 0.1695250659630607}, {\"State_\": \"Arkansas\", \"LILATracts_1And10_sum\": 171, \"LILATracts_1And10_count\": 686, \"LILATracts_1And10_mean\": 0.24927113702623907}, {\"State_\": \"California\", \"LILATracts_1And10_sum\": 536, \"LILATracts_1And10_count\": 8008, \"LILATracts_1And10_mean\": 0.06693306693306693}, {\"State_\": \"Colorado\", \"LILATracts_1And10_sum\": 172, \"LILATracts_1And10_count\": 1237, \"LILATracts_1And10_mean\": 0.13904607922392886}, {\"State_\": \"Connecticut\", \"LILATracts_1And10_sum\": 65, \"LILATracts_1And10_count\": 826, \"LILATracts_1And10_mean\": 0.07869249394673124}, {\"State_\": \"Delaware\", \"LILATracts_1And10_sum\": 32, \"LILATracts_1And10_count\": 214, \"LILATracts_1And10_mean\": 0.14953271028037382}, {\"State_\": \"District of Columbia\", \"LILATracts_1And10_sum\": 12, \"LILATracts_1And10_count\": 179, \"LILATracts_1And10_mean\": 0.0670391061452514}, {\"State_\": \"Florida\", \"LILATracts_1And10_sum\": 550, \"LILATracts_1And10_count\": 4176, \"LILATracts_1And10_mean\": 0.13170498084291188}, {\"State_\": \"Georgia\", \"LILATracts_1And10_sum\": 441, \"LILATracts_1And10_count\": 1956, \"LILATracts_1And10_mean\": 0.2254601226993865}, {\"State_\": \"Hawaii\", \"LILATracts_1And10_sum\": 32, \"LILATracts_1And10_count\": 320, \"LILATracts_1And10_mean\": 0.1}, {\"State_\": \"Idaho\", \"LILATracts_1And10_sum\": 41, \"LILATracts_1And10_count\": 298, \"LILATracts_1And10_mean\": 0.13758389261744966}, {\"State_\": \"Illinois\", \"LILATracts_1And10_sum\": 319, \"LILATracts_1And10_count\": 3115, \"LILATracts_1And10_mean\": 0.10240770465489567}, {\"State_\": \"Indiana\", \"LILATracts_1And10_sum\": 291, \"LILATracts_1And10_count\": 1506, \"LILATracts_1And10_mean\": 0.19322709163346613}, {\"State_\": \"Iowa\", \"LILATracts_1And10_sum\": 85, \"LILATracts_1And10_count\": 823, \"LILATracts_1And10_mean\": 0.10328068043742406}, {\"State_\": \"Kansas\", \"LILATracts_1And10_sum\": 139, \"LILATracts_1And10_count\": 764, \"LILATracts_1And10_mean\": 0.18193717277486912}, {\"State_\": \"Kentucky\", \"LILATracts_1And10_sum\": 153, \"LILATracts_1And10_count\": 1109, \"LILATracts_1And10_mean\": 0.13796212804328223}, {\"State_\": \"Louisiana\", \"LILATracts_1And10_sum\": 258, \"LILATracts_1And10_count\": 1127, \"LILATracts_1And10_mean\": 0.22892635314995563}, {\"State_\": \"Maine\", \"LILATracts_1And10_sum\": 30, \"LILATracts_1And10_count\": 351, \"LILATracts_1And10_mean\": 0.08547008547008547}, {\"State_\": \"Maryland\", \"LILATracts_1And10_sum\": 131, \"LILATracts_1And10_count\": 1387, \"LILATracts_1And10_mean\": 0.09444844989185291}, {\"State_\": \"Massachusetts\", \"LILATracts_1And10_sum\": 112, \"LILATracts_1And10_count\": 1464, \"LILATracts_1And10_mean\": 0.07650273224043716}, {\"State_\": \"Michigan\", \"LILATracts_1And10_sum\": 339, \"LILATracts_1And10_count\": 2749, \"LILATracts_1And10_mean\": 0.1233175700254638}, {\"State_\": \"Minnesota\", \"LILATracts_1And10_sum\": 192, \"LILATracts_1And10_count\": 1331, \"LILATracts_1And10_mean\": 0.14425244177310292}, {\"State_\": \"Mississippi\", \"LILATracts_1And10_sum\": 208, \"LILATracts_1And10_count\": 658, \"LILATracts_1And10_mean\": 0.3161094224924012}, {\"State_\": \"Missouri\", \"LILATracts_1And10_sum\": 248, \"LILATracts_1And10_count\": 1391, \"LILATracts_1And10_mean\": 0.17828900071890727}, {\"State_\": \"Montana\", \"LILATracts_1And10_sum\": 36, \"LILATracts_1And10_count\": 270, \"LILATracts_1And10_mean\": 0.13333333333333333}, {\"State_\": \"Nebraska\", \"LILATracts_1And10_sum\": 55, \"LILATracts_1And10_count\": 530, \"LILATracts_1And10_mean\": 0.10377358490566038}, {\"State_\": \"Nevada\", \"LILATracts_1And10_sum\": 49, \"LILATracts_1And10_count\": 680, \"LILATracts_1And10_mean\": 0.07205882352941176}, {\"State_\": \"New Hampshire\", \"LILATracts_1And10_sum\": 38, \"LILATracts_1And10_count\": 292, \"LILATracts_1And10_mean\": 0.13013698630136986}, {\"State_\": \"New Jersey\", \"LILATracts_1And10_sum\": 108, \"LILATracts_1And10_count\": 1999, \"LILATracts_1And10_mean\": 0.054027013506753374}, {\"State_\": \"New Mexico\", \"LILATracts_1And10_sum\": 126, \"LILATracts_1And10_count\": 498, \"LILATracts_1And10_mean\": 0.25301204819277107}, {\"State_\": \"New York\", \"LILATracts_1And10_sum\": 194, \"LILATracts_1And10_count\": 4855, \"LILATracts_1And10_mean\": 0.03995880535530381}, {\"State_\": \"North Carolina\", \"LILATracts_1And10_sum\": 353, \"LILATracts_1And10_count\": 2171, \"LILATracts_1And10_mean\": 0.1625978811607554}, {\"State_\": \"North Dakota\", \"LILATracts_1And10_sum\": 17, \"LILATracts_1And10_count\": 205, \"LILATracts_1And10_mean\": 0.08292682926829269}, {\"State_\": \"Ohio\", \"LILATracts_1And10_sum\": 421, \"LILATracts_1And10_count\": 2942, \"LILATracts_1And10_mean\": 0.14309993201903468}, {\"State_\": \"Oklahoma\", \"LILATracts_1And10_sum\": 177, \"LILATracts_1And10_count\": 1046, \"LILATracts_1And10_mean\": 0.16921606118546845}, {\"State_\": \"Oregon\", \"LILATracts_1And10_sum\": 100, \"LILATracts_1And10_count\": 825, \"LILATracts_1And10_mean\": 0.12121212121212122}, {\"State_\": \"Pennsylvania\", \"LILATracts_1And10_sum\": 237, \"LILATracts_1And10_count\": 3207, \"LILATracts_1And10_mean\": 0.07390084190832553}, {\"State_\": \"Rhode Island\", \"LILATracts_1And10_sum\": 13, \"LILATracts_1And10_count\": 241, \"LILATracts_1And10_mean\": 0.05394190871369295}, {\"State_\": \"South Carolina\", \"LILATracts_1And10_sum\": 217, \"LILATracts_1And10_count\": 1089, \"LILATracts_1And10_mean\": 0.1992653810835629}, {\"State_\": \"South Dakota\", \"LILATracts_1And10_sum\": 32, \"LILATracts_1And10_count\": 219, \"LILATracts_1And10_mean\": 0.1461187214611872}, {\"State_\": \"Tennessee\", \"LILATracts_1And10_sum\": 266, \"LILATracts_1And10_count\": 1487, \"LILATracts_1And10_mean\": 0.1788836583725622}, {\"State_\": \"Texas\", \"LILATracts_1And10_sum\": 1021, \"LILATracts_1And10_count\": 5231, \"LILATracts_1And10_mean\": 0.19518256547505258}, {\"State_\": \"Utah\", \"LILATracts_1And10_sum\": 49, \"LILATracts_1And10_count\": 584, \"LILATracts_1And10_mean\": 0.0839041095890411}, {\"State_\": \"Vermont\", \"LILATracts_1And10_sum\": 12, \"LILATracts_1And10_count\": 183, \"LILATracts_1And10_mean\": 0.06557377049180328}, {\"State_\": \"Virginia\", \"LILATracts_1And10_sum\": 269, \"LILATracts_1And10_count\": 1882, \"LILATracts_1And10_mean\": 0.14293304994686504}, {\"State_\": \"Washington\", \"LILATracts_1And10_sum\": 174, \"LILATracts_1And10_count\": 1445, \"LILATracts_1And10_mean\": 0.12041522491349481}, {\"State_\": \"West Virginia\", \"LILATracts_1And10_sum\": 66, \"LILATracts_1And10_count\": 484, \"LILATracts_1And10_mean\": 0.13636363636363635}, {\"State_\": \"Wisconsin\", \"LILATracts_1And10_sum\": 133, \"LILATracts_1And10_count\": 1391, \"LILATracts_1And10_mean\": 0.09561466570812366}, {\"State_\": \"Wyoming\", \"LILATracts_1And10_sum\": 12, \"LILATracts_1And10_count\": 131, \"LILATracts_1And10_mean\": 0.0916030534351145}]}}, {\"mode\": \"vega-lite\"});\n",
       "</script>"
      ],
      "text/plain": [
       "alt.Chart(...)"
      ]
     },
     "execution_count": 22,
     "metadata": {},
     "output_type": "execute_result"
    }
   ],
   "source": [
    "# Visualize\n",
    "alt.Chart(k).mark_bar(size=10).encode(\n",
    "    y=alt.Y('State_:N', title='State', sort='-x'),\n",
    "    x=alt.X('LILATracts_1And10_mean:Q', axis=alt.Axis(format='%'), title='Percent Low Income, Low Access Tracts'),\n",
    ").properties(\n",
    "    height=800,\n",
    "    width=600\n",
    ").configure_axis(\n",
    "    labelFontSize=13,\n",
    "    titleFontSize=15\n",
    ")"
   ]
  },
  {
   "cell_type": "markdown",
   "id": "5494f6dd-efaa-4c7e-a58e-5d5e25fe59a0",
   "metadata": {},
   "source": [
    "##### Regions and Low Income, Low Access Communites\n",
    "Extending from above, I plotted regions and their relationships to low income, low access communities.  What I noticed above does appear to be supported by the data."
   ]
  },
  {
   "cell_type": "code",
   "execution_count": 23,
   "id": "a54548d1-3eed-4ae0-aeca-0f4033aef330",
   "metadata": {
    "tags": []
   },
   "outputs": [],
   "source": [
    "# Calculate division statistics\n",
    "eda_df = df.copy()\n",
    "d = eda_df[['Census Division',label]].groupby(['Census Division'], as_index=False).aggregate({label:['sum','count', 'mean']})\n",
    "d.columns = [f\"{x}_{y}\" for x, y in d.columns.to_flat_index()]"
   ]
  },
  {
   "cell_type": "code",
   "execution_count": 24,
   "id": "5323c68a-0aca-428b-a0ec-901327e09197",
   "metadata": {
    "tags": []
   },
   "outputs": [
    {
     "data": {
      "text/html": [
       "\n",
       "<div id=\"altair-viz-a567a4eba2a5462a81f7495f56c50a01\"></div>\n",
       "<script type=\"text/javascript\">\n",
       "  var VEGA_DEBUG = (typeof VEGA_DEBUG == \"undefined\") ? {} : VEGA_DEBUG;\n",
       "  (function(spec, embedOpt){\n",
       "    let outputDiv = document.currentScript.previousElementSibling;\n",
       "    if (outputDiv.id !== \"altair-viz-a567a4eba2a5462a81f7495f56c50a01\") {\n",
       "      outputDiv = document.getElementById(\"altair-viz-a567a4eba2a5462a81f7495f56c50a01\");\n",
       "    }\n",
       "    const paths = {\n",
       "      \"vega\": \"https://cdn.jsdelivr.net/npm//vega@5?noext\",\n",
       "      \"vega-lib\": \"https://cdn.jsdelivr.net/npm//vega-lib?noext\",\n",
       "      \"vega-lite\": \"https://cdn.jsdelivr.net/npm//vega-lite@4.17.0?noext\",\n",
       "      \"vega-embed\": \"https://cdn.jsdelivr.net/npm//vega-embed@6?noext\",\n",
       "    };\n",
       "\n",
       "    function maybeLoadScript(lib, version) {\n",
       "      var key = `${lib.replace(\"-\", \"\")}_version`;\n",
       "      return (VEGA_DEBUG[key] == version) ?\n",
       "        Promise.resolve(paths[lib]) :\n",
       "        new Promise(function(resolve, reject) {\n",
       "          var s = document.createElement('script');\n",
       "          document.getElementsByTagName(\"head\")[0].appendChild(s);\n",
       "          s.async = true;\n",
       "          s.onload = () => {\n",
       "            VEGA_DEBUG[key] = version;\n",
       "            return resolve(paths[lib]);\n",
       "          };\n",
       "          s.onerror = () => reject(`Error loading script: ${paths[lib]}`);\n",
       "          s.src = paths[lib];\n",
       "        });\n",
       "    }\n",
       "\n",
       "    function showError(err) {\n",
       "      outputDiv.innerHTML = `<div class=\"error\" style=\"color:red;\">${err}</div>`;\n",
       "      throw err;\n",
       "    }\n",
       "\n",
       "    function displayChart(vegaEmbed) {\n",
       "      vegaEmbed(outputDiv, spec, embedOpt)\n",
       "        .catch(err => showError(`Javascript Error: ${err.message}<br>This usually means there's a typo in your chart specification. See the javascript console for the full traceback.`));\n",
       "    }\n",
       "\n",
       "    if(typeof define === \"function\" && define.amd) {\n",
       "      requirejs.config({paths});\n",
       "      require([\"vega-embed\"], displayChart, err => showError(`Error loading script: ${err.message}`));\n",
       "    } else {\n",
       "      maybeLoadScript(\"vega\", \"5\")\n",
       "        .then(() => maybeLoadScript(\"vega-lite\", \"4.17.0\"))\n",
       "        .then(() => maybeLoadScript(\"vega-embed\", \"6\"))\n",
       "        .catch(showError)\n",
       "        .then(() => displayChart(vegaEmbed));\n",
       "    }\n",
       "  })({\"config\": {\"view\": {\"continuousWidth\": 400, \"continuousHeight\": 300}, \"axis\": {\"labelFontSize\": 13, \"titleFontSize\": 15}}, \"data\": {\"name\": \"data-f7928f836fd4056d624fd30437c72d8e\"}, \"mark\": {\"type\": \"bar\", \"size\": 20}, \"encoding\": {\"x\": {\"axis\": {\"format\": \"%\"}, \"field\": \"LILATracts_1And10_mean\", \"title\": \"Percent Low Income, Low Access Tracts\", \"type\": \"quantitative\"}, \"y\": {\"field\": \"Census Division_\", \"sort\": \"-x\", \"title\": \"Census Division\", \"type\": \"nominal\"}}, \"height\": 300, \"width\": 600, \"$schema\": \"https://vega.github.io/schema/vega-lite/v4.17.0.json\", \"datasets\": {\"data-f7928f836fd4056d624fd30437c72d8e\": [{\"Census Division_\": \"East North Central\", \"LILATracts_1And10_sum\": 1503, \"LILATracts_1And10_count\": 11703, \"LILATracts_1And10_mean\": 0.12842860804921816}, {\"Census Division_\": \"East South Central\", \"LILATracts_1And10_sum\": 894, \"LILATracts_1And10_count\": 4431, \"LILATracts_1And10_mean\": 0.2017603249830738}, {\"Census Division_\": \"Middle Atlantic\", \"LILATracts_1And10_sum\": 539, \"LILATracts_1And10_count\": 10061, \"LILATracts_1And10_mean\": 0.05357320345890071}, {\"Census Division_\": \"Mountain\", \"LILATracts_1And10_sum\": 742, \"LILATracts_1And10_count\": 5214, \"LILATracts_1And10_mean\": 0.14230916762562332}, {\"Census Division_\": \"New England\", \"LILATracts_1And10_sum\": 270, \"LILATracts_1And10_count\": 3357, \"LILATracts_1And10_mean\": 0.08042895442359249}, {\"Census Division_\": \"Pacific\", \"LILATracts_1And10_sum\": 810, \"LILATracts_1And10_count\": 10278, \"LILATracts_1And10_mean\": 0.07880910683012259}, {\"Census Division_\": \"South Atlantic\", \"LILATracts_1And10_sum\": 2059, \"LILATracts_1And10_count\": 13359, \"LILATracts_1And10_mean\": 0.15412830301669286}, {\"Census Division_\": \"West North Central\", \"LILATracts_1And10_sum\": 768, \"LILATracts_1And10_count\": 5263, \"LILATracts_1And10_mean\": 0.14592437773133193}, {\"Census Division_\": \"West South Central\", \"LILATracts_1And10_sum\": 1627, \"LILATracts_1And10_count\": 8090, \"LILATracts_1And10_mean\": 0.20111248454882572}]}}, {\"mode\": \"vega-lite\"});\n",
       "</script>"
      ],
      "text/plain": [
       "alt.Chart(...)"
      ]
     },
     "execution_count": 24,
     "metadata": {},
     "output_type": "execute_result"
    }
   ],
   "source": [
    "# Visualize\n",
    "alt.Chart(d).mark_bar(size=20).encode(\n",
    "    y=alt.Y('Census Division_:N', title='Census Division', sort='-x'),\n",
    "    x=alt.X('LILATracts_1And10_mean:Q', axis=alt.Axis(format='%'), title='Percent Low Income, Low Access Tracts'),\n",
    ").properties(\n",
    "    height=300,\n",
    "    width=600\n",
    ").configure_axis(\n",
    "    labelFontSize=13,\n",
    "    titleFontSize=15\n",
    ")"
   ]
  },
  {
   "cell_type": "markdown",
   "id": "54b4dc43-e21d-498d-90a7-9bedf18b4288",
   "metadata": {
    "tags": []
   },
   "source": [
    "### Models"
   ]
  },
  {
   "cell_type": "markdown",
   "id": "6a166e2c-9f54-4dc5-9211-96c318de3707",
   "metadata": {
    "tags": []
   },
   "source": [
    "#### Test/Train Preparation\n",
    "Below, I select the features to include in my dataset.\n",
    "\n",
    "In addition, I incorporate my engineered feature `Census Division` into the training dataset.  Because this engineered feature is categorical, in order for it to be used properly in the model, I expand it into one binary True/False feature per division via Pandas' `get_dummies` method."
   ]
  },
  {
   "cell_type": "code",
   "execution_count": 25,
   "id": "0077c0dc-cc8b-40fc-9da7-528bcdc6fed0",
   "metadata": {
    "tags": []
   },
   "outputs": [],
   "source": [
    "# Prepare data\n",
    "data = df.loc[:, df.columns.isin(['PovertyRate','MedianFamilyIncome','LowIncomeTracts','BlackPopShare','LOWIPopShare','KidsPopShare','SeniorsPopShare','WhitePopShare','AsianPopShare','NHOPIPopShare','AIANPopShare','OMultirPopShare','HispanicPopShare','HUNVPopShare','SNAPPopShare'])]\n",
    "# Expand the Urban feature into two:  Rural and Urban\n",
    "data = pd.concat([data, pd.get_dummies(df['Urban'])], axis=1)\n",
    "data = data.rename({0:'Rural', 1:'Urban'}, axis=1)\n",
    "# Expand the Census Division feature into one True/False feature per Census Division value.\n",
    "data = pd.concat([data, pd.get_dummies(df['Census Division'])], axis=1)\n",
    "# Assign labels\n",
    "labels = df[label]"
   ]
  },
  {
   "cell_type": "markdown",
   "id": "62d81ff4-e146-4883-bc1c-070b153817fa",
   "metadata": {},
   "source": [
    "Using the prepared data, I perform a train/test split, with 80% training data and 20% test data:"
   ]
  },
  {
   "cell_type": "code",
   "execution_count": 26,
   "id": "f7cc5f82-cfd1-4e5e-be40-fdcc590595ba",
   "metadata": {
    "tags": []
   },
   "outputs": [
    {
     "name": "stdout",
     "output_type": "stream",
     "text": [
      "Training Features Count: 57936  Training Labels Count: 57936\n",
      "Training Labels=1 Count: 7431  Training Labels=0 Count: 50505\n",
      "Testing Features Count: 14485  Testing Labels Count: 14485\n"
     ]
    }
   ],
   "source": [
    "# Train test split\n",
    "X_train, X_test, y_train, y_test = train_test_split(data, labels, test_size=0.2, stratify=labels)\n",
    "print('Training Features Count: {}  Training Labels Count: {}'.format(len(X_train), len(y_train)))\n",
    "print('Training Labels=1 Count: {}  Training Labels=0 Count: {}'.format(sum(y_train == 1), sum(y_train == 0)))\n",
    "print('Testing Features Count: {}  Testing Labels Count: {}'.format(len(X_test), len(y_test)))"
   ]
  },
  {
   "cell_type": "markdown",
   "id": "4228cebd-5728-47a3-a8cc-172475c3020f",
   "metadata": {
    "tags": []
   },
   "source": [
    "Since, as we found in data cleaning and just above, the labels are not balanced, I rebalance using under sampling:"
   ]
  },
  {
   "cell_type": "code",
   "execution_count": 27,
   "id": "5f24c727-93f7-466f-a401-2930bc1cf09c",
   "metadata": {
    "tags": []
   },
   "outputs": [
    {
     "name": "stdout",
     "output_type": "stream",
     "text": [
      "Resampled Training Features Count: 14862  Resampled Training Labels Count: 14862\n",
      "Resampled Training Labels=1 Count: 7431  Resampled Training Labels=0 Count: 7431\n"
     ]
    }
   ],
   "source": [
    "under_sampler = RandomUnderSampler()\n",
    "X_res, y_res = under_sampler.fit_resample(X_train, y_train)\n",
    "\n",
    "print('Resampled Training Features Count: {}  Resampled Training Labels Count: {}'.format(len(X_res), len(y_res)))\n",
    "print('Resampled Training Labels=1 Count: {}  Resampled Training Labels=0 Count: {}'.format(sum(y_res == 1), sum(y_res == 0)))"
   ]
  },
  {
   "cell_type": "markdown",
   "id": "27e49521-98ea-4b10-a5f7-b3b1aa1e6b49",
   "metadata": {},
   "source": [
    "#### Decision Tree Classifier\n",
    "Below, I start with training a simple Decision Tree Classifier"
   ]
  },
  {
   "cell_type": "code",
   "execution_count": null,
   "id": "5acc4a81-bc4b-46d3-9d6d-04b6c56713b6",
   "metadata": {
    "tags": []
   },
   "outputs": [],
   "source": [
    "dcs = DecisionTreeClassifier(max_depth=5, max_leaf_nodes=50)\n",
    "dcs.fit(X_res, y_res)"
   ]
  },
  {
   "cell_type": "code",
   "execution_count": null,
   "id": "26abe6e3-f238-46a5-afc7-516de76788a1",
   "metadata": {
    "tags": []
   },
   "outputs": [],
   "source": [
    "# Calculate scores\n",
    "y_pred = dcs.predict(X_test)\n",
    "precision, recall, fbeta_score, support = precision_recall_fscore_support(y_test, y_pred, pos_label=1, average='binary')\n",
    "accuracy = accuracy_score(y_test, y_pred)\n",
    "roc_auc = roc_auc_score(y_test, y_pred)\n",
    "print('Precision: {:.2}  Recall: {:.2}  F1: {:.2}'.format(precision,recall,fbeta_score))\n",
    "print('Accuracy: {:.2}'.format(accuracy))\n",
    "print('ROC-AUC: {:.2}'.format(roc_auc))"
   ]
  },
  {
   "cell_type": "markdown",
   "id": "8b0eb587-0d6e-4463-abb4-dd54334959c8",
   "metadata": {},
   "source": [
    "These scores are not horrible, but we can do better."
   ]
  },
  {
   "cell_type": "markdown",
   "id": "a4f892ca-bef9-4542-8f29-2d2f7ba6cc4c",
   "metadata": {},
   "source": [
    "#### AdaBoost\n",
    "I move to using an AdaBoost model to see if we can get some better scores."
   ]
  },
  {
   "cell_type": "code",
   "execution_count": null,
   "id": "676593ae-11be-42c4-b3fb-1c2474a3f0da",
   "metadata": {
    "tags": []
   },
   "outputs": [],
   "source": [
    "ada = AdaBoostClassifier(learning_rate=1)\n",
    "ada.fit(X_res, y_res)"
   ]
  },
  {
   "cell_type": "code",
   "execution_count": null,
   "id": "85f90744-6b21-400f-9440-dc87bba3c928",
   "metadata": {
    "tags": []
   },
   "outputs": [],
   "source": [
    "# Calculate scores\n",
    "y_pred = ada.predict(X_test)\n",
    "precision, recall, fbeta_score, support = precision_recall_fscore_support(y_test, y_pred, pos_label=1, average='binary')\n",
    "accuracy = accuracy_score(y_test, y_pred)\n",
    "roc_auc = roc_auc_score(y_test, y_pred)\n",
    "print('Precision: {:.2}  Recall: {:.2}  F1: {:.2}'.format(precision,recall,fbeta_score))\n",
    "print('Accuracy: {:.2}'.format(accuracy))\n",
    "print('ROC-AUC: {:.2}'.format(roc_auc))"
   ]
  },
  {
   "cell_type": "markdown",
   "id": "c48c941e-cac7-4efd-aef9-d0382ce2f235",
   "metadata": {
    "tags": []
   },
   "source": [
    "I get similar scores with the AdaBoost model"
   ]
  },
  {
   "cell_type": "markdown",
   "id": "3facab76-6edb-4034-bcaf-34681e1754f4",
   "metadata": {},
   "source": [
    "#### XGBoost\n",
    "Finally, I experiment with XGBoost, a model that was not covered in the course, however I've seen perform very well in practice.\n",
    "\n",
    "I expended a bit more rigor with this model, including hyperparameter tuning using grid search."
   ]
  },
  {
   "cell_type": "code",
   "execution_count": null,
   "id": "0e7b9c57-c0a7-486a-9bb0-65414c4ad9bd",
   "metadata": {
    "tags": []
   },
   "outputs": [],
   "source": [
    "# Format the train/test data as XGBoost requires\n",
    "dtrain = DMatrix(X_res, label=y_res)\n",
    "dtest = DMatrix(X_test, label=y_test)\n",
    "evallist = [(dtrain, 'train'), (dtest, 'eval')]"
   ]
  },
  {
   "cell_type": "markdown",
   "id": "f7c1afaf-169f-4e6f-b20d-c3a0edbb257a",
   "metadata": {},
   "source": [
    "Below, I perform hyperparameter tuning using a Grid Search.  I'm using ROC-AUC as my scoring metric to determine the best model.  In all, 405 candidate models were trained to attempt to find the best model."
   ]
  },
  {
   "cell_type": "code",
   "execution_count": null,
   "id": "4ac35961-4f2a-46ad-8acd-812f1db73725",
   "metadata": {
    "tags": []
   },
   "outputs": [],
   "source": [
    "# Set hyperparameters for search\n",
    "params = {\n",
    "        'min_child_weight': [1, 5, 10],\n",
    "        'gamma': [0.5, 1, 1.5, 2, 5],\n",
    "        'subsample': [0.6, 0.8, 1.0],\n",
    "        'colsample_bytree': [0.6, 0.8, 1.0],\n",
    "        'max_depth': [5, 10, 15]\n",
    "        }\n",
    "\n",
    "# Instatiate the XGBoost classifier and begin grid search\n",
    "xgb = XGBClassifier(learning_rate=0.02, objective='binary:logistic', nthread=1)\n",
    "search = GridSearchCV(xgb, params, scoring='roc_auc', n_jobs=4, verbose=0)\n",
    "search.fit(X_res, y_res)"
   ]
  },
  {
   "cell_type": "code",
   "execution_count": null,
   "id": "bc3e1247-134c-4cb9-9167-355f686ffcf7",
   "metadata": {
    "tags": []
   },
   "outputs": [],
   "source": [
    "print('Best ROC_AUC score: {:.2}'.format(search.best_score_))\n",
    "print('Best parameters:')\n",
    "print(search.best_params_)"
   ]
  },
  {
   "cell_type": "code",
   "execution_count": null,
   "id": "29599bfa-76df-4026-b075-ed1b66176475",
   "metadata": {
    "tags": []
   },
   "outputs": [],
   "source": [
    "# Calculate scores\n",
    "best_model = search.best_estimator_\n",
    "y_pred = best_model.predict(X_test)\n",
    "precision, recall, fbeta_score, support = precision_recall_fscore_support(y_test, y_pred, pos_label=1, average='binary')\n",
    "accuracy = accuracy_score(y_test, y_pred)\n",
    "roc_auc = roc_auc_score(y_test, y_pred)\n",
    "print('Precision: {:.2}  Recall: {:.2}  F1: {:.2}'.format(precision,recall,fbeta_score))\n",
    "print('Accuracy: {:.2}'.format(accuracy))\n",
    "print('ROC-AUC: {:.2}'.format(roc_auc))"
   ]
  },
  {
   "cell_type": "code",
   "execution_count": null,
   "id": "42e2c48d-63e5-46d1-b3df-d9b39234bced",
   "metadata": {
    "tags": []
   },
   "outputs": [],
   "source": [
    "plot_importance(best_model)"
   ]
  },
  {
   "cell_type": "code",
   "execution_count": null,
   "id": "159261be-773c-4b71-84ae-d16afaf4c7ba",
   "metadata": {
    "tags": []
   },
   "outputs": [],
   "source": [
    "fpr, tpr, thresholds = roc_curve(y_test, y_pred)\n",
    "roc_auc = auc(fpr, tpr)\n",
    "display = RocCurveDisplay(fpr=fpr, tpr=tpr, roc_auc=roc_auc)\n",
    "display.plot()"
   ]
  },
  {
   "cell_type": "code",
   "execution_count": null,
   "id": "f0720fa0-6949-48ad-8ec3-923eb97e1863",
   "metadata": {},
   "outputs": [],
   "source": [
    "cm = confusion_matrix(y_test, y_pred)\n",
    "disp = ConfusionMatrixDisplay(confusion_matrix=cm)\n",
    "disp.plot()"
   ]
  },
  {
   "cell_type": "markdown",
   "id": "e8b97a63-5128-4a8a-aec4-4d84ccbbacff",
   "metadata": {
    "tags": []
   },
   "source": [
    "#### XGBoost, Again\n",
    "It looks like some of my engineered features (Urban, Rural, and the Census Divisions) are all relatively low performance compared to the others. I'll try the model again, with these features removed."
   ]
  },
  {
   "cell_type": "code",
   "execution_count": 28,
   "id": "6e3088e8-df7f-4205-84d6-3c80c99ff81e",
   "metadata": {
    "tags": []
   },
   "outputs": [],
   "source": [
    "# Prepare data\n",
    "data = df.loc[:, df.columns.isin(['PovertyRate','MedianFamilyIncome','LowIncomeTracts','BlackPopShare','LOWIPopShare','KidsPopShare','SeniorsPopShare','WhitePopShare','AsianPopShare','NHOPIPopShare','AIANPopShare','OMultirPopShare','HispanicPopShare','HUNVPopShare','SNAPPopShare'])]\n",
    "# Assign labels\n",
    "labels = df[label]"
   ]
  },
  {
   "cell_type": "markdown",
   "id": "0e34e674-cff0-4515-a86b-0d36de464db1",
   "metadata": {},
   "source": [
    "Using the prepared data, I perform a train/test split, with 80% training data and 20% test data:"
   ]
  },
  {
   "cell_type": "code",
   "execution_count": 29,
   "id": "903e2d83-83fe-4696-a355-612f9743c93a",
   "metadata": {
    "tags": []
   },
   "outputs": [
    {
     "name": "stdout",
     "output_type": "stream",
     "text": [
      "Training Features Count: 57936  Training Labels Count: 57936\n",
      "Training Labels=1 Count: 7431  Training Labels=0 Count: 50505\n",
      "Testing Features Count: 14485  Testing Labels Count: 14485\n"
     ]
    }
   ],
   "source": [
    "# Train test split\n",
    "X_train, X_test, y_train, y_test = train_test_split(data, labels, test_size=0.2, stratify=labels)\n",
    "print('Training Features Count: {}  Training Labels Count: {}'.format(len(X_train), len(y_train)))\n",
    "print('Training Labels=1 Count: {}  Training Labels=0 Count: {}'.format(sum(y_train == 1), sum(y_train == 0)))\n",
    "print('Testing Features Count: {}  Testing Labels Count: {}'.format(len(X_test), len(y_test)))"
   ]
  },
  {
   "cell_type": "markdown",
   "id": "5ff00f75-6dd7-40c2-95e6-3ed4c7931e30",
   "metadata": {},
   "source": [
    "Since, as we found in data cleaning and just above, the labels are not balanced, I rebalance using under sampling:"
   ]
  },
  {
   "cell_type": "code",
   "execution_count": 30,
   "id": "8328a873-a7f1-4e89-a39d-9ea735be8400",
   "metadata": {
    "tags": []
   },
   "outputs": [
    {
     "name": "stdout",
     "output_type": "stream",
     "text": [
      "Resampled Training Features Count: 14862  Resampled Training Labels Count: 14862\n",
      "Resampled Training Labels=1 Count: 7431  Resampled Training Labels=0 Count: 7431\n"
     ]
    }
   ],
   "source": [
    "under_sampler = RandomUnderSampler()\n",
    "X_res, y_res = under_sampler.fit_resample(X_train, y_train)\n",
    "\n",
    "print('Resampled Training Features Count: {}  Resampled Training Labels Count: {}'.format(len(X_res), len(y_res)))\n",
    "print('Resampled Training Labels=1 Count: {}  Resampled Training Labels=0 Count: {}'.format(sum(y_res == 1), sum(y_res == 0)))"
   ]
  },
  {
   "cell_type": "code",
   "execution_count": 31,
   "id": "0e0c252d-a913-4490-afb1-b142c3077b76",
   "metadata": {
    "tags": []
   },
   "outputs": [],
   "source": [
    "# Format the train/test data as XGBoost requires\n",
    "dtrain = DMatrix(X_res, label=y_res)\n",
    "dtest = DMatrix(X_test, label=y_test)\n",
    "evallist = [(dtrain, 'train'), (dtest, 'eval')]"
   ]
  },
  {
   "cell_type": "markdown",
   "id": "a768b98a-fc7b-4f83-8574-ad94dc43286a",
   "metadata": {},
   "source": [
    "Below, I perform hyperparameter tuning using a Grid Search.  I'm using ROC-AUC as my scoring metric to determine the best model.  In all, 405 candidate models were trained to attempt to find the best model."
   ]
  },
  {
   "cell_type": "code",
   "execution_count": 32,
   "id": "0ae4631c-d9dc-4042-96df-4585c46421c6",
   "metadata": {
    "tags": []
   },
   "outputs": [
    {
     "data": {
      "text/html": [
       "<style>#sk-container-id-1 {color: black;background-color: white;}#sk-container-id-1 pre{padding: 0;}#sk-container-id-1 div.sk-toggleable {background-color: white;}#sk-container-id-1 label.sk-toggleable__label {cursor: pointer;display: block;width: 100%;margin-bottom: 0;padding: 0.3em;box-sizing: border-box;text-align: center;}#sk-container-id-1 label.sk-toggleable__label-arrow:before {content: \"▸\";float: left;margin-right: 0.25em;color: #696969;}#sk-container-id-1 label.sk-toggleable__label-arrow:hover:before {color: black;}#sk-container-id-1 div.sk-estimator:hover label.sk-toggleable__label-arrow:before {color: black;}#sk-container-id-1 div.sk-toggleable__content {max-height: 0;max-width: 0;overflow: hidden;text-align: left;background-color: #f0f8ff;}#sk-container-id-1 div.sk-toggleable__content pre {margin: 0.2em;color: black;border-radius: 0.25em;background-color: #f0f8ff;}#sk-container-id-1 input.sk-toggleable__control:checked~div.sk-toggleable__content {max-height: 200px;max-width: 100%;overflow: auto;}#sk-container-id-1 input.sk-toggleable__control:checked~label.sk-toggleable__label-arrow:before {content: \"▾\";}#sk-container-id-1 div.sk-estimator input.sk-toggleable__control:checked~label.sk-toggleable__label {background-color: #d4ebff;}#sk-container-id-1 div.sk-label input.sk-toggleable__control:checked~label.sk-toggleable__label {background-color: #d4ebff;}#sk-container-id-1 input.sk-hidden--visually {border: 0;clip: rect(1px 1px 1px 1px);clip: rect(1px, 1px, 1px, 1px);height: 1px;margin: -1px;overflow: hidden;padding: 0;position: absolute;width: 1px;}#sk-container-id-1 div.sk-estimator {font-family: monospace;background-color: #f0f8ff;border: 1px dotted black;border-radius: 0.25em;box-sizing: border-box;margin-bottom: 0.5em;}#sk-container-id-1 div.sk-estimator:hover {background-color: #d4ebff;}#sk-container-id-1 div.sk-parallel-item::after {content: \"\";width: 100%;border-bottom: 1px solid gray;flex-grow: 1;}#sk-container-id-1 div.sk-label:hover label.sk-toggleable__label {background-color: #d4ebff;}#sk-container-id-1 div.sk-serial::before {content: \"\";position: absolute;border-left: 1px solid gray;box-sizing: border-box;top: 0;bottom: 0;left: 50%;z-index: 0;}#sk-container-id-1 div.sk-serial {display: flex;flex-direction: column;align-items: center;background-color: white;padding-right: 0.2em;padding-left: 0.2em;position: relative;}#sk-container-id-1 div.sk-item {position: relative;z-index: 1;}#sk-container-id-1 div.sk-parallel {display: flex;align-items: stretch;justify-content: center;background-color: white;position: relative;}#sk-container-id-1 div.sk-item::before, #sk-container-id-1 div.sk-parallel-item::before {content: \"\";position: absolute;border-left: 1px solid gray;box-sizing: border-box;top: 0;bottom: 0;left: 50%;z-index: -1;}#sk-container-id-1 div.sk-parallel-item {display: flex;flex-direction: column;z-index: 1;position: relative;background-color: white;}#sk-container-id-1 div.sk-parallel-item:first-child::after {align-self: flex-end;width: 50%;}#sk-container-id-1 div.sk-parallel-item:last-child::after {align-self: flex-start;width: 50%;}#sk-container-id-1 div.sk-parallel-item:only-child::after {width: 0;}#sk-container-id-1 div.sk-dashed-wrapped {border: 1px dashed gray;margin: 0 0.4em 0.5em 0.4em;box-sizing: border-box;padding-bottom: 0.4em;background-color: white;}#sk-container-id-1 div.sk-label label {font-family: monospace;font-weight: bold;display: inline-block;line-height: 1.2em;}#sk-container-id-1 div.sk-label-container {text-align: center;}#sk-container-id-1 div.sk-container {/* jupyter's `normalize.less` sets `[hidden] { display: none; }` but bootstrap.min.css set `[hidden] { display: none !important; }` so we also need the `!important` here to be able to override the default hidden behavior on the sphinx rendered scikit-learn.org. See: https://github.com/scikit-learn/scikit-learn/issues/21755 */display: inline-block !important;position: relative;}#sk-container-id-1 div.sk-text-repr-fallback {display: none;}</style><div id=\"sk-container-id-1\" class=\"sk-top-container\"><div class=\"sk-text-repr-fallback\"><pre>GridSearchCV(estimator=XGBClassifier(base_score=None, booster=None,\n",
       "                                     callbacks=None, colsample_bylevel=None,\n",
       "                                     colsample_bynode=None,\n",
       "                                     colsample_bytree=None,\n",
       "                                     early_stopping_rounds=None,\n",
       "                                     enable_categorical=False, eval_metric=None,\n",
       "                                     feature_types=None, gamma=None,\n",
       "                                     gpu_id=None, grow_policy=None,\n",
       "                                     importance_type=None,\n",
       "                                     interaction_constraints=None,\n",
       "                                     learning_rate=0.02, max_b...\n",
       "                                     max_delta_step=None, max_depth=None,\n",
       "                                     max_leaves=None, min_child_weight=None,\n",
       "                                     missing=nan, monotone_constraints=None,\n",
       "                                     n_estimators=100, n_jobs=None, nthread=1,\n",
       "                                     num_parallel_tree=None, predictor=None, ...),\n",
       "             n_jobs=4,\n",
       "             param_grid={&#x27;colsample_bytree&#x27;: [0.6, 0.8, 1.0],\n",
       "                         &#x27;gamma&#x27;: [0.5, 1, 1.5, 2, 5], &#x27;max_depth&#x27;: [5, 10, 15],\n",
       "                         &#x27;min_child_weight&#x27;: [1, 5, 10],\n",
       "                         &#x27;subsample&#x27;: [0.6, 0.8, 1.0]},\n",
       "             scoring=&#x27;roc_auc&#x27;)</pre><b>In a Jupyter environment, please rerun this cell to show the HTML representation or trust the notebook. <br />On GitHub, the HTML representation is unable to render, please try loading this page with nbviewer.org.</b></div><div class=\"sk-container\" hidden><div class=\"sk-item sk-dashed-wrapped\"><div class=\"sk-label-container\"><div class=\"sk-label sk-toggleable\"><input class=\"sk-toggleable__control sk-hidden--visually\" id=\"sk-estimator-id-1\" type=\"checkbox\" ><label for=\"sk-estimator-id-1\" class=\"sk-toggleable__label sk-toggleable__label-arrow\">GridSearchCV</label><div class=\"sk-toggleable__content\"><pre>GridSearchCV(estimator=XGBClassifier(base_score=None, booster=None,\n",
       "                                     callbacks=None, colsample_bylevel=None,\n",
       "                                     colsample_bynode=None,\n",
       "                                     colsample_bytree=None,\n",
       "                                     early_stopping_rounds=None,\n",
       "                                     enable_categorical=False, eval_metric=None,\n",
       "                                     feature_types=None, gamma=None,\n",
       "                                     gpu_id=None, grow_policy=None,\n",
       "                                     importance_type=None,\n",
       "                                     interaction_constraints=None,\n",
       "                                     learning_rate=0.02, max_b...\n",
       "                                     max_delta_step=None, max_depth=None,\n",
       "                                     max_leaves=None, min_child_weight=None,\n",
       "                                     missing=nan, monotone_constraints=None,\n",
       "                                     n_estimators=100, n_jobs=None, nthread=1,\n",
       "                                     num_parallel_tree=None, predictor=None, ...),\n",
       "             n_jobs=4,\n",
       "             param_grid={&#x27;colsample_bytree&#x27;: [0.6, 0.8, 1.0],\n",
       "                         &#x27;gamma&#x27;: [0.5, 1, 1.5, 2, 5], &#x27;max_depth&#x27;: [5, 10, 15],\n",
       "                         &#x27;min_child_weight&#x27;: [1, 5, 10],\n",
       "                         &#x27;subsample&#x27;: [0.6, 0.8, 1.0]},\n",
       "             scoring=&#x27;roc_auc&#x27;)</pre></div></div></div><div class=\"sk-parallel\"><div class=\"sk-parallel-item\"><div class=\"sk-item\"><div class=\"sk-label-container\"><div class=\"sk-label sk-toggleable\"><input class=\"sk-toggleable__control sk-hidden--visually\" id=\"sk-estimator-id-2\" type=\"checkbox\" ><label for=\"sk-estimator-id-2\" class=\"sk-toggleable__label sk-toggleable__label-arrow\">estimator: XGBClassifier</label><div class=\"sk-toggleable__content\"><pre>XGBClassifier(base_score=None, booster=None, callbacks=None,\n",
       "              colsample_bylevel=None, colsample_bynode=None,\n",
       "              colsample_bytree=None, early_stopping_rounds=None,\n",
       "              enable_categorical=False, eval_metric=None, feature_types=None,\n",
       "              gamma=None, gpu_id=None, grow_policy=None, importance_type=None,\n",
       "              interaction_constraints=None, learning_rate=0.02, max_bin=None,\n",
       "              max_cat_threshold=None, max_cat_to_onehot=None,\n",
       "              max_delta_step=None, max_depth=None, max_leaves=None,\n",
       "              min_child_weight=None, missing=nan, monotone_constraints=None,\n",
       "              n_estimators=100, n_jobs=None, nthread=1, num_parallel_tree=None,\n",
       "              predictor=None, ...)</pre></div></div></div><div class=\"sk-serial\"><div class=\"sk-item\"><div class=\"sk-estimator sk-toggleable\"><input class=\"sk-toggleable__control sk-hidden--visually\" id=\"sk-estimator-id-3\" type=\"checkbox\" ><label for=\"sk-estimator-id-3\" class=\"sk-toggleable__label sk-toggleable__label-arrow\">XGBClassifier</label><div class=\"sk-toggleable__content\"><pre>XGBClassifier(base_score=None, booster=None, callbacks=None,\n",
       "              colsample_bylevel=None, colsample_bynode=None,\n",
       "              colsample_bytree=None, early_stopping_rounds=None,\n",
       "              enable_categorical=False, eval_metric=None, feature_types=None,\n",
       "              gamma=None, gpu_id=None, grow_policy=None, importance_type=None,\n",
       "              interaction_constraints=None, learning_rate=0.02, max_bin=None,\n",
       "              max_cat_threshold=None, max_cat_to_onehot=None,\n",
       "              max_delta_step=None, max_depth=None, max_leaves=None,\n",
       "              min_child_weight=None, missing=nan, monotone_constraints=None,\n",
       "              n_estimators=100, n_jobs=None, nthread=1, num_parallel_tree=None,\n",
       "              predictor=None, ...)</pre></div></div></div></div></div></div></div></div></div></div>"
      ],
      "text/plain": [
       "GridSearchCV(estimator=XGBClassifier(base_score=None, booster=None,\n",
       "                                     callbacks=None, colsample_bylevel=None,\n",
       "                                     colsample_bynode=None,\n",
       "                                     colsample_bytree=None,\n",
       "                                     early_stopping_rounds=None,\n",
       "                                     enable_categorical=False, eval_metric=None,\n",
       "                                     feature_types=None, gamma=None,\n",
       "                                     gpu_id=None, grow_policy=None,\n",
       "                                     importance_type=None,\n",
       "                                     interaction_constraints=None,\n",
       "                                     learning_rate=0.02, max_b...\n",
       "                                     max_delta_step=None, max_depth=None,\n",
       "                                     max_leaves=None, min_child_weight=None,\n",
       "                                     missing=nan, monotone_constraints=None,\n",
       "                                     n_estimators=100, n_jobs=None, nthread=1,\n",
       "                                     num_parallel_tree=None, predictor=None, ...),\n",
       "             n_jobs=4,\n",
       "             param_grid={'colsample_bytree': [0.6, 0.8, 1.0],\n",
       "                         'gamma': [0.5, 1, 1.5, 2, 5], 'max_depth': [5, 10, 15],\n",
       "                         'min_child_weight': [1, 5, 10],\n",
       "                         'subsample': [0.6, 0.8, 1.0]},\n",
       "             scoring='roc_auc')"
      ]
     },
     "execution_count": 32,
     "metadata": {},
     "output_type": "execute_result"
    }
   ],
   "source": [
    "# Set hyperparameters for search\n",
    "params = {\n",
    "        'min_child_weight': [1, 5, 10],\n",
    "        'gamma': [0.5, 1, 1.5, 2, 5],\n",
    "        'subsample': [0.6, 0.8, 1.0],\n",
    "        'colsample_bytree': [0.6, 0.8, 1.0],\n",
    "        'max_depth': [5, 10, 15]\n",
    "        }\n",
    "\n",
    "# Instatiate the XGBoost classifier and begin grid search\n",
    "xgb = XGBClassifier(learning_rate=0.02, objective='binary:logistic', nthread=1)\n",
    "search_wo_eng = GridSearchCV(xgb, params, scoring='roc_auc', n_jobs=4, verbose=0)\n",
    "search_wo_eng.fit(X_res, y_res)"
   ]
  },
  {
   "cell_type": "code",
   "execution_count": 33,
   "id": "6b92877d-9bbc-40a9-8d48-d12f1062fa69",
   "metadata": {
    "tags": []
   },
   "outputs": [
    {
     "name": "stdout",
     "output_type": "stream",
     "text": [
      "Best ROC_AUC score: 0.85\n",
      "Best parameters:\n",
      "{'colsample_bytree': 0.8, 'gamma': 5, 'max_depth': 10, 'min_child_weight': 1, 'subsample': 0.8}\n"
     ]
    }
   ],
   "source": [
    "print('Best ROC_AUC score: {:.2}'.format(search_wo_eng.best_score_))\n",
    "print('Best parameters:')\n",
    "print(search_wo_eng.best_params_)"
   ]
  },
  {
   "cell_type": "code",
   "execution_count": 34,
   "id": "5ed928b5-a8ad-458c-bec2-0ddc554cd0c3",
   "metadata": {
    "tags": []
   },
   "outputs": [
    {
     "name": "stdout",
     "output_type": "stream",
     "text": [
      "Precision: 0.3  Recall: 0.85  F1: 0.45\n",
      "Accuracy: 0.73\n",
      "ROC-AUC: 0.78\n"
     ]
    }
   ],
   "source": [
    "# Calculate scores\n",
    "best_model_wo_eng = search_wo_eng.best_estimator_\n",
    "y_pred = best_model_wo_eng.predict(X_test)\n",
    "precision, recall, fbeta_score, support = precision_recall_fscore_support(y_test, y_pred, pos_label=1, average='binary')\n",
    "accuracy = accuracy_score(y_test, y_pred)\n",
    "roc_auc = roc_auc_score(y_test, y_pred)\n",
    "print('Precision: {:.2}  Recall: {:.2}  F1: {:.2}'.format(precision,recall,fbeta_score))\n",
    "print('Accuracy: {:.2}'.format(accuracy))\n",
    "print('ROC-AUC: {:.2}'.format(roc_auc))"
   ]
  },
  {
   "cell_type": "code",
   "execution_count": 35,
   "id": "7c08bc21-9735-4b33-beba-4e5f7c901f65",
   "metadata": {
    "tags": []
   },
   "outputs": [
    {
     "data": {
      "text/plain": [
       "<AxesSubplot: title={'center': 'Feature importance'}, xlabel='F score', ylabel='Features'>"
      ]
     },
     "execution_count": 35,
     "metadata": {},
     "output_type": "execute_result"
    },
    {
     "data": {
      "image/png": "[encoded data removed]",
      "text/plain": [
       "<Figure size 640x480 with 1 Axes>"
      ]
     },
     "metadata": {},
     "output_type": "display_data"
    }
   ],
   "source": [
    "plot_importance(best_model_wo_eng)"
   ]
  },
  {
   "cell_type": "code",
   "execution_count": 53,
   "id": "48c4bc07-2850-4ac0-8b10-55aef6ca3cff",
   "metadata": {
    "tags": []
   },
   "outputs": [
    {
     "data": {
      "text/plain": [
       "<sklearn.metrics._plot.roc_curve.RocCurveDisplay at 0x7f5ddc3b2340>"
      ]
     },
     "execution_count": 53,
     "metadata": {},
     "output_type": "execute_result"
    },
    {
     "data": {
      "image/png": "[encoded data removed]",
      "text/plain": [
       "<Figure size 640x480 with 1 Axes>"
      ]
     },
     "metadata": {},
     "output_type": "display_data"
    }
   ],
   "source": [
    "fpr, tpr, thresholds = roc_curve(y_test, y_pred)\n",
    "roc_auc = auc(fpr, tpr)\n",
    "display = RocCurveDisplay(fpr=fpr, tpr=tpr, roc_auc=roc_auc)\n",
    "display.plot()"
   ]
  },
  {
   "cell_type": "code",
   "execution_count": 54,
   "id": "50ba4887-d982-4c9d-9708-eb67286722f2",
   "metadata": {
    "tags": []
   },
   "outputs": [
    {
     "data": {
      "text/plain": [
       "<sklearn.metrics._plot.confusion_matrix.ConfusionMatrixDisplay at 0x7f5ddbdb12b0>"
      ]
     },
     "execution_count": 54,
     "metadata": {},
     "output_type": "execute_result"
    },
    {
     "data": {
      "image/png": "[encoded data removed]",
      "text/plain": [
       "<Figure size 640x480 with 2 Axes>"
      ]
     },
     "metadata": {},
     "output_type": "display_data"
    }
   ],
   "source": [
    "cm = confusion_matrix(y_test, y_pred)\n",
    "disp = ConfusionMatrixDisplay(confusion_matrix=cm)\n",
    "disp.plot()"
   ]
  },
  {
   "cell_type": "markdown",
   "id": "b2d9bb7c-cda1-4ebc-a545-5ba0939b2e9d",
   "metadata": {},
   "source": [
    "#### Summary of Results and Analysis\n",
    "Above, I have attempted four models on the data.  Two (Decision Tree Classifier and AdaBoost), we have seein in class, and two attempts at XGBoost models, using grid search to identify the best versions of both models.\n",
    "\n",
    "I used ROC-AUC as my primary metric because it takes into account both true positive and false positive rates.\n",
    "\n",
    "For both the standard Decision Tree and AdaBoost, the ROC-AUC score was relatively low.  However, for the XGBoost model with both the Urban/Rural and Census Division features included, the ROC-AUC score was the highest.  For this reason, I would choose the XGBoost model that included the engineered features.  Even though this model is more complex than the one without the engineered features included, it did perform better than the one without."
   ]
  },
  {
   "cell_type": "code",
   "execution_count": null,
   "id": "9666b2b3-0cfa-48dc-b926-19e0d0fdb953",
   "metadata": {},
   "outputs": [],
   "source": []
  }
 ],
 "metadata": {
  "kernelspec": {
   "display_name": "venv_dtsa-5509-supervised-learning-final-project",
   "language": "python",
   "name": "venv_dtsa-5509-supervised-learning-final-project"
  },
  "language_info": {
   "codemirror_mode": {
    "name": "ipython",
    "version": 3
   },
   "file_extension": ".py",
   "mimetype": "text/x-python",
   "name": "python",
   "nbconvert_exporter": "python",
   "pygments_lexer": "ipython3",
   "version": "3.8.10"
  }
 },
 "nbformat": 4,
 "nbformat_minor": 5
}
