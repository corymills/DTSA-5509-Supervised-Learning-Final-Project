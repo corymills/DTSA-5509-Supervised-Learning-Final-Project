{
 "cells": [
  {
   "cell_type": "markdown",
   "id": "1d9c9ec4-2c33-4d0d-a4f0-7b9e108fb787",
   "metadata": {},
   "source": [
    "# DTSA 5509 Supervised Learning Final Project\n",
    "## Decision Tree Classification Tasks Applied to Food Access Research Atlas\n",
    "### Project Topic\n",
    "Food Deserts are areas where there is low access to supermarkets and other sources of healthy foods. They are often reported as occuring in communities that are already underserved, low income, and in Black communities. Access to food that is affordable and healthy is critical to support the health and wellbeing of a community, and areas that are struggling with poverty and inequality often also struggle with basic access to healthy food.\n",
    "\n",
    "I took data summarizing socio-economic factors, and showed the correlation between these and low access to food through Machine Learning.  Using this socio-economic data, I explored a variety of Decision Tree classification models to attempt to classify whether a community has low access to food, using measures such as the racial composition and poverty levels as features to the models.\n",
    "\n",
    "**For more information**\n",
    "\n",
    "Annie E. Casey Foundation: Food Deserts in the United States: https://www.aecf.org/blog/exploring-americas-food-deserts\n",
    "\n",
    "Wikipedia: Food Desert: https://en.wikipedia.org/wiki/Food_desert"
   ]
  },
  {
   "cell_type": "markdown",
   "id": "8dc238ed-0d57-4587-a148-957dc0dd9164",
   "metadata": {},
   "source": [
    "### Imports"
   ]
  },
  {
   "cell_type": "code",
   "execution_count": 41,
   "id": "78194efd-3f40-4705-88e0-d472f7829e91",
   "metadata": {
    "tags": []
   },
   "outputs": [
    {
     "data": {
      "text/plain": [
       "DataTransformerRegistry.enable('default')"
      ]
     },
     "execution_count": 41,
     "metadata": {},
     "output_type": "execute_result"
    }
   ],
   "source": [
    "import pandas as pd\n",
    "import altair as alt\n",
    "import dtale\n",
    "from sklearn.svm import SVC\n",
    "from xgboost import XGBClassifier\n",
    "from xgboost import DMatrix\n",
    "from sklearn.model_selection import train_test_split\n",
    "from sklearn.model_selection import StratifiedShuffleSplit\n",
    "from sklearn.model_selection import GridSearchCV\n",
    "from sklearn.tree import DecisionTreeClassifier\n",
    "from sklearn.ensemble import AdaBoostClassifier\n",
    "from sklearn.metrics import roc_auc_score\n",
    "from sklearn.metrics import roc_curve\n",
    "from sklearn.metrics import accuracy_score\n",
    "from sklearn.metrics import precision_recall_fscore_support\n",
    "from sklearn.preprocessing import OneHotEncoder\n",
    "from imblearn.under_sampling import RandomUnderSampler\n",
    "alt.data_transformers.disable_max_rows()"
   ]
  },
  {
   "cell_type": "markdown",
   "id": "4e5febd6-73d9-4a61-a1e1-6da41bda0e1e",
   "metadata": {},
   "source": [
    "### Data\n",
    "The data used in this report is the Food Access Research Atlas, published by the Economic Research Service, Department of Agriculture, via data.gov.\n",
    "\n",
    "This dataset has 72,531 records, one for each U.S. Census tract.  The dataset includes 147 features for each tract, describing the tract, the population of the tract, demographic breakdowns of each tract (population Black, Seniors, Children, etc), and numerous measures on the food access for each tract.\n",
    "\n",
    "For my task, I wanted to focus on how the socio-economic factors contribututed to whether a tract was likely to be classified as low access to food.  I limited the features used to the following:\n",
    "\n",
    "| Field              | Description                                                                                                 |\n",
    "|:-------------------|:------------------------------------------------------------------------------------------------------------|\n",
    "| Urban              | Flag for urban tract                                                                                        |\n",
    "| OHU2010            | Occupied housing unit count from 2010 census                                                                |\n",
    "| LowIncomeTracts    | Flag for low income tract                                                                                   |\n",
    "| PovertyRate        | Share of the tract population living with income at or below the Federal poverty thresholds for family size |\n",
    "| MedianFamilyIncome | Tract median family income                                                                                  |\n",
    "| LA1and20           | Flag for low access tract at 1 mile for urban areas or 20 miles for rural areas                             |\n",
    "| TractLOWI          | Total count of low-income population in tract                                                               |\n",
    "| TractKids          | Total count of children age 0-17 in tract                                                                   |\n",
    "| TractSeniors       | Total count of seniors age 65+ in tract                                                                     |\n",
    "| TractWhite         | Total count of White population in tract                                                                    |\n",
    "| TractBlack         | Total count of Black or African American population in tract                                                |\n",
    "| TractAsian         | Total count of Asian population in tract                                                                    |\n",
    "| TractNHOPI         | Total count of Native Hawaiian and Other Pacific Islander population in tract                               |\n",
    "| TractAIAN          | Total count of American Indian and Alaska Native population in tract                                        |\n",
    "| TractOMultir       | Total count of Other/Multiple race population in tract                                                      |\n",
    "| TractHispanic      | Total count of Hispanic or Latino population in tract                                                       |\n",
    "| TractHUNV          | Total count of housing units without a vehicle in tract                                                     |\n",
    "| TractSNAP          | Total count of housing units receiving SNAP benefits in tract                                               |\n",
    "\n",
    "Field `LA1and20` is the label I'm attempting to predict.  The remaining fields are the features.\n",
    "\n",
    "\n",
    "Data: https://catalog.data.gov/dataset/food-access-research-atlas\n",
    "\n",
    "About the Atlas: https://www.ers.usda.gov/data-products/food-access-research-atlas/about-the-atlas.aspx\n",
    "\n",
    "In addition, I'm using the U.S. Census Divisions listed at the following URL to further supplement my data.\n",
    "\n",
    "https://www.ncei.noaa.gov/access/monitoring/reference-maps/us-census-divisions\n",
    "\n",
    "**Data Citations**\n",
    "\n",
    "Economic Research Service, Department of Agriculture (2021, February 24). Data.Gov. Food Access Research Atlas. Retrieved April 23, 2023, from https://catalog.data.gov/dataset/food-access-research-atlas"
   ]
  },
  {
   "cell_type": "code",
   "execution_count": 2,
   "id": "b4d78d03-6d71-459e-8197-b9af04dbf70d",
   "metadata": {},
   "outputs": [],
   "source": [
    "label = 'LILATracts_1And10'"
   ]
  },
  {
   "cell_type": "code",
   "execution_count": 3,
   "id": "d396d851-abe8-4d1e-821a-738a72ee2844",
   "metadata": {
    "tags": []
   },
   "outputs": [],
   "source": [
    "# Create variable table and copy to clipboard for above\n",
    "used_columns = [label,'Pop2010','State','OHU2010','Urban','PovertyRate','MedianFamilyIncome','TractBlack','TractLOWI','TractKids','TractSeniors','TractWhite','TractAsian','TractNHOPI','TractAIAN','TractOMultir','TractHispanic','TractHUNV','TractSNAP']\n",
    "var_df = pd.read_excel('../data/FoodAccessResearchAtlasData2019.xlsx', sheet_name='Variable Lookup')\n",
    "var_df = var_df[var_df['Field'].isin(used_columns)][['Field','Description']]\n",
    "#pd.io.clipboards.to_clipboard(var_df.to_markdown(index=False), excel=False)"
   ]
  },
  {
   "cell_type": "markdown",
   "id": "dca7b697-4e9c-40bd-929b-a68dce1a2b86",
   "metadata": {
    "tags": []
   },
   "source": [
    "### Data Cleaning\n",
    "\n",
    "As outlined above, I've limited the features used to the most relevant features for the classification task I wanted to perform.  Of the 147 features, 18 are relevant for the task of classifying the low food access status based on the demographic makeup of an area.  Many of the other features in the original file describe in detail the low food access for specific populations, so have been left out since they would be auto-correlative with the low access label I'm attempting to predict.\n",
    "\n",
    "In addition, while reviewing the number of NA values present in the data, I found that `MedianFamilyIncome` had a high count of NAs. I have dropped this feature from the dataset for this reason.\n",
    "\n",
    "`OHU2010` has values of 0 for 106 rows. This appears to be null data, coded as 0.  As this will cause a division by 0 error when calculating percentages below, so I'm also dropping these rows.\n",
    "\n",
    "The remaining features have a low number of NA values.  For these, I have dropped the rows (tracts) that contained NA values.\n",
    "\n",
    "In the original dataset, the demographic data is reported as total counts of residents in that demographic. Because I want to compare tracts, and each tract may have a different total population, it makes most sense to convert these to percentages.  Below, I calculate the percentage of residents in each demographic using the demographic count and the total population count `Pop2010`.  After I've done these calculations, I drop the original count columns as they are no longer needed.\n",
    "\n",
    "I also investigated whether the labels in the dataset were balanced.  I've found that they are not, and I rebalance these later while building the model."
   ]
  },
  {
   "cell_type": "markdown",
   "id": "5e6620a6-3430-49dc-85f5-aefbd3007faf",
   "metadata": {},
   "source": [
    "#### Read Data"
   ]
  },
  {
   "cell_type": "code",
   "execution_count": 4,
   "id": "6ba672bf-f5b8-4d50-bb26-9c7afb36f352",
   "metadata": {
    "tags": []
   },
   "outputs": [],
   "source": [
    "# Read Data\n",
    "df = pd.read_excel('../data/FoodAccessResearchAtlasData2019.xlsx', sheet_name='Food Access Research Atlas')\n",
    "df = df[used_columns]"
   ]
  },
  {
   "cell_type": "markdown",
   "id": "a9008897-30d5-4003-9981-8e0d988fe067",
   "metadata": {},
   "source": [
    "#### Check for NAs, Vizualize, and Clean"
   ]
  },
  {
   "cell_type": "code",
   "execution_count": 5,
   "id": "e09179a4-b1ba-452e-a5c4-b7451cf3989e",
   "metadata": {
    "tags": []
   },
   "outputs": [
    {
     "data": {
      "text/html": [
       "\n",
       "<div id=\"altair-viz-ec8811709eb74456a713c00a973a8e1d\"></div>\n",
       "<script type=\"text/javascript\">\n",
       "  var VEGA_DEBUG = (typeof VEGA_DEBUG == \"undefined\") ? {} : VEGA_DEBUG;\n",
       "  (function(spec, embedOpt){\n",
       "    let outputDiv = document.currentScript.previousElementSibling;\n",
       "    if (outputDiv.id !== \"altair-viz-ec8811709eb74456a713c00a973a8e1d\") {\n",
       "      outputDiv = document.getElementById(\"altair-viz-ec8811709eb74456a713c00a973a8e1d\");\n",
       "    }\n",
       "    const paths = {\n",
       "      \"vega\": \"https://cdn.jsdelivr.net/npm//vega@5?noext\",\n",
       "      \"vega-lib\": \"https://cdn.jsdelivr.net/npm//vega-lib?noext\",\n",
       "      \"vega-lite\": \"https://cdn.jsdelivr.net/npm//vega-lite@4.17.0?noext\",\n",
       "      \"vega-embed\": \"https://cdn.jsdelivr.net/npm//vega-embed@6?noext\",\n",
       "    };\n",
       "\n",
       "    function maybeLoadScript(lib, version) {\n",
       "      var key = `${lib.replace(\"-\", \"\")}_version`;\n",
       "      return (VEGA_DEBUG[key] == version) ?\n",
       "        Promise.resolve(paths[lib]) :\n",
       "        new Promise(function(resolve, reject) {\n",
       "          var s = document.createElement('script');\n",
       "          document.getElementsByTagName(\"head\")[0].appendChild(s);\n",
       "          s.async = true;\n",
       "          s.onload = () => {\n",
       "            VEGA_DEBUG[key] = version;\n",
       "            return resolve(paths[lib]);\n",
       "          };\n",
       "          s.onerror = () => reject(`Error loading script: ${paths[lib]}`);\n",
       "          s.src = paths[lib];\n",
       "        });\n",
       "    }\n",
       "\n",
       "    function showError(err) {\n",
       "      outputDiv.innerHTML = `<div class=\"error\" style=\"color:red;\">${err}</div>`;\n",
       "      throw err;\n",
       "    }\n",
       "\n",
       "    function displayChart(vegaEmbed) {\n",
       "      vegaEmbed(outputDiv, spec, embedOpt)\n",
       "        .catch(err => showError(`Javascript Error: ${err.message}<br>This usually means there's a typo in your chart specification. See the javascript console for the full traceback.`));\n",
       "    }\n",
       "\n",
       "    if(typeof define === \"function\" && define.amd) {\n",
       "      requirejs.config({paths});\n",
       "      require([\"vega-embed\"], displayChart, err => showError(`Error loading script: ${err.message}`));\n",
       "    } else {\n",
       "      maybeLoadScript(\"vega\", \"5\")\n",
       "        .then(() => maybeLoadScript(\"vega-lite\", \"4.17.0\"))\n",
       "        .then(() => maybeLoadScript(\"vega-embed\", \"6\"))\n",
       "        .catch(showError)\n",
       "        .then(() => displayChart(vegaEmbed));\n",
       "    }\n",
       "  })({\"config\": {\"view\": {\"continuousWidth\": 400, \"continuousHeight\": 300}}, \"layer\": [{\"mark\": \"bar\", \"encoding\": {\"text\": {\"field\": \"NA Count\", \"type\": \"quantitative\"}, \"x\": {\"field\": \"Field\", \"sort\": \"-y\", \"type\": \"nominal\"}, \"y\": {\"field\": \"NA Count\", \"type\": \"quantitative\"}}, \"width\": 800}, {\"mark\": {\"type\": \"text\", \"align\": \"center\", \"dy\": -10}, \"encoding\": {\"text\": {\"field\": \"NA Count\", \"type\": \"quantitative\"}, \"x\": {\"field\": \"Field\", \"sort\": \"-y\", \"type\": \"nominal\"}, \"y\": {\"field\": \"NA Count\", \"type\": \"quantitative\"}}, \"width\": 800}], \"data\": {\"name\": \"data-ade0ae590ca65299e43816310959829a\"}, \"$schema\": \"https://vega.github.io/schema/vega-lite/v4.17.0.json\", \"datasets\": {\"data-ade0ae590ca65299e43816310959829a\": [{\"Field\": \"MedianFamilyIncome\", \"NA Count\": 748}, {\"Field\": \"TractKids\", \"NA Count\": 4}, {\"Field\": \"TractSeniors\", \"NA Count\": 4}, {\"Field\": \"TractHUNV\", \"NA Count\": 4}, {\"Field\": \"TractHispanic\", \"NA Count\": 4}, {\"Field\": \"TractOMultir\", \"NA Count\": 4}, {\"Field\": \"TractAIAN\", \"NA Count\": 4}, {\"Field\": \"TractNHOPI\", \"NA Count\": 4}, {\"Field\": \"TractAsian\", \"NA Count\": 4}, {\"Field\": \"TractWhite\", \"NA Count\": 4}, {\"Field\": \"TractSNAP\", \"NA Count\": 4}, {\"Field\": \"TractLOWI\", \"NA Count\": 4}, {\"Field\": \"TractBlack\", \"NA Count\": 4}, {\"Field\": \"PovertyRate\", \"NA Count\": 3}, {\"Field\": \"Pop2010\", \"NA Count\": 0}, {\"Field\": \"Urban\", \"NA Count\": 0}, {\"Field\": \"OHU2010\", \"NA Count\": 0}, {\"Field\": \"State\", \"NA Count\": 0}, {\"Field\": \"LILATracts_1And10\", \"NA Count\": 0}]}}, {\"mode\": \"vega-lite\"});\n",
       "</script>"
      ],
      "text/plain": [
       "alt.LayerChart(...)"
      ]
     },
     "execution_count": 5,
     "metadata": {},
     "output_type": "execute_result"
    }
   ],
   "source": [
    "# Check for NAs and vizualize\n",
    "na_counts = pd.DataFrame(df.isna().sum()).reset_index()\n",
    "na_counts.columns = ['Field', 'NA Count']\n",
    "na_counts = na_counts.sort_values('NA Count', ascending=False)\n",
    "base = alt.Chart(na_counts).encode(\n",
    "    x=alt.X('Field:N', sort='-y'),\n",
    "    y='NA Count',\n",
    "    text = 'NA Count'\n",
    ").properties(width=800)\n",
    "base.mark_bar() + base.mark_text(align='center', dy=-10)"
   ]
  },
  {
   "cell_type": "code",
   "execution_count": 6,
   "id": "3eb1e4c2-4d2b-455a-9ad8-55889c496c41",
   "metadata": {
    "tags": []
   },
   "outputs": [
    {
     "name": "stdout",
     "output_type": "stream",
     "text": [
      "4 rows dropped\n"
     ]
    },
    {
     "data": {
      "text/plain": [
       "LILATracts_1And10    0\n",
       "Pop2010              0\n",
       "State                0\n",
       "OHU2010              0\n",
       "Urban                0\n",
       "PovertyRate          0\n",
       "TractBlack           0\n",
       "TractLOWI            0\n",
       "TractKids            0\n",
       "TractSeniors         0\n",
       "TractWhite           0\n",
       "TractAsian           0\n",
       "TractNHOPI           0\n",
       "TractAIAN            0\n",
       "TractOMultir         0\n",
       "TractHispanic        0\n",
       "TractHUNV            0\n",
       "TractSNAP            0\n",
       "dtype: int64"
      ]
     },
     "execution_count": 6,
     "metadata": {},
     "output_type": "execute_result"
    }
   ],
   "source": [
    "len_df_bef = len(df)\n",
    "# Drop high NA column Median Family Income\n",
    "df = df.drop('MedianFamilyIncome', axis=1)\n",
    "# Drop records with NAs in values\n",
    "df = df.dropna()\n",
    "print(str(len_df_bef - len(df)) + ' rows dropped')\n",
    "# Check for no NAs\n",
    "df.isna().sum()"
   ]
  },
  {
   "cell_type": "code",
   "execution_count": 7,
   "id": "d9c616fa-64d4-471d-8b47-ebae89445810",
   "metadata": {
    "tags": []
   },
   "outputs": [
    {
     "name": "stdout",
     "output_type": "stream",
     "text": [
      "0\n",
      "106\n",
      "106 rows dropped\n",
      "0\n",
      "0\n"
     ]
    }
   ],
   "source": [
    "len_df_bef = len(df)\n",
    "print(sum(df['Pop2010'] == 0))\n",
    "print(sum(df['OHU2010'] == 0))\n",
    "df = df[df['OHU2010'] > 0]\n",
    "print(str(len_df_bef - len(df)) + ' rows dropped')\n",
    "print(sum(df['Pop2010'] == 0))\n",
    "print(sum(df['OHU2010'] == 0))"
   ]
  },
  {
   "cell_type": "markdown",
   "id": "a26631c9-f893-4830-908b-1f0fdc074d53",
   "metadata": {},
   "source": [
    "#### Calculate Percentage Share for Each Demographic"
   ]
  },
  {
   "cell_type": "code",
   "execution_count": 8,
   "id": "e463e274-ec9b-489a-a5d4-e76a4cf55d94",
   "metadata": {
    "tags": []
   },
   "outputs": [],
   "source": [
    "# Calculate percentage share for each demographic population\n",
    "df['BlackPopShare'] = df['TractBlack'] / df['Pop2010']\n",
    "df['LOWIPopShare'] = df['TractLOWI'] / df['Pop2010']\n",
    "df['KidsPopShare'] = df['TractKids'] / df['Pop2010']\n",
    "df['SeniorsPopShare'] = df['TractSeniors'] / df['Pop2010']\n",
    "df['WhitePopShare'] = df['TractWhite'] / df['Pop2010']\n",
    "df['AsianPopShare'] = df['TractAsian'] / df['Pop2010']\n",
    "df['NHOPIPopShare'] = df['TractNHOPI'] / df['Pop2010']\n",
    "df['AIANPopShare'] = df['TractAIAN'] / df['Pop2010']\n",
    "df['OMultirPopShare'] = df['TractOMultir'] / df['Pop2010']\n",
    "df['HispanicPopShare'] = df['TractHispanic'] / df['Pop2010']\n",
    "df['HUNVPopShare'] = df['TractHUNV'] / df['OHU2010']\n",
    "df['SNAPPopShare'] = df['TractSNAP'] / df['OHU2010']\n",
    "df = df.drop(['Pop2010','OHU2010','TractBlack','TractLOWI','TractKids','TractSeniors','TractWhite','TractAsian','TractNHOPI','TractAIAN','TractOMultir','TractHispanic','TractHUNV','TractSNAP'], axis=1)"
   ]
  },
  {
   "cell_type": "markdown",
   "id": "198a122e-a61b-4144-833b-cb16c6cf113e",
   "metadata": {
    "tags": []
   },
   "source": [
    "#### Add U.S Census Divisions to Data"
   ]
  },
  {
   "cell_type": "code",
   "execution_count": 9,
   "id": "79e877cd-b6ab-4514-adbd-cfef153aec14",
   "metadata": {
    "tags": []
   },
   "outputs": [],
   "source": [
    "div_map = {\n",
    "    'Illinois':'East North Central',\n",
    "    'Indiana':'East North Central',\n",
    "    'Michigan':'East North Central',\n",
    "    'Ohio':'East North Central',\n",
    "    'Wisconsin':'East North Central',\n",
    "    'Alabama':'East South Central',\n",
    "    'Kentucky':'East South Central',\n",
    "    'Mississippi':'East South Central',\n",
    "    'Tennessee':'East South Central',\n",
    "    'New Jersey':'Middle Atlantic',\n",
    "    'New York':'Middle Atlantic',\n",
    "    'Pennsylvania':'Middle Atlantic',\n",
    "    'Arizona':'Mountain',\n",
    "    'Colorado':'Mountain',\n",
    "    'Idaho':'Mountain',\n",
    "    'Montana':'Mountain',\n",
    "    'New Mexico':'Mountain',\n",
    "    'Nevada':'Mountain',\n",
    "    'Utah':'Mountain',\n",
    "    'Wyoming':'Mountain',\n",
    "    'Connecticut':'New England',\n",
    "    'Maine':'New England',\n",
    "    'Massachusetts':'New England',\n",
    "    'New Hampshire':'New England',\n",
    "    'Rhode Island':'New England',\n",
    "    'Vermont':'New England',\n",
    "    'California':'Pacific',\n",
    "    'Oregon':'Pacific',\n",
    "    'Washington':'Pacific',\n",
    "    'Delaware':'South Atlantic',\n",
    "    'Florida':'South Atlantic',\n",
    "    'Georgia':'South Atlantic',\n",
    "    'Maryland':'South Atlantic',\n",
    "    'North Carolina':'South Atlantic',\n",
    "    'South Carolina':'South Atlantic',\n",
    "    'Virginia':'South Atlantic',\n",
    "    'West Virginia':'South Atlantic',\n",
    "    'Iowa':'West North Central',\n",
    "    'Kansas':'West North Central',\n",
    "    'Minnesota':'West North Central',\n",
    "    'Missouri':'West North Central',\n",
    "    'Nebraska':'West North Central',\n",
    "    'North Dakota':'West North Central',\n",
    "    'South Dakota':'West North Central',\n",
    "    'Arkansas':'West South Central',\n",
    "    'Louisiana':'West South Central',\n",
    "    'Oklahoma':'West South Central',\n",
    "    'Texas':'West South Central'\n",
    "}\n",
    "df['Census Division'] = df['State'].map(div_map)"
   ]
  },
  {
   "cell_type": "markdown",
   "id": "fb4ed0f8-9517-42f1-9440-15185de86b30",
   "metadata": {},
   "source": [
    "#### Check for Label Imbalance"
   ]
  },
  {
   "cell_type": "code",
   "execution_count": 10,
   "id": "7b45f349-c855-4f27-b33b-d2abfb74eade",
   "metadata": {
    "tags": []
   },
   "outputs": [
    {
     "data": {
      "text/html": [
       "\n",
       "<div id=\"altair-viz-9528819a5b924758bb6e087e399a17ae\"></div>\n",
       "<script type=\"text/javascript\">\n",
       "  var VEGA_DEBUG = (typeof VEGA_DEBUG == \"undefined\") ? {} : VEGA_DEBUG;\n",
       "  (function(spec, embedOpt){\n",
       "    let outputDiv = document.currentScript.previousElementSibling;\n",
       "    if (outputDiv.id !== \"altair-viz-9528819a5b924758bb6e087e399a17ae\") {\n",
       "      outputDiv = document.getElementById(\"altair-viz-9528819a5b924758bb6e087e399a17ae\");\n",
       "    }\n",
       "    const paths = {\n",
       "      \"vega\": \"https://cdn.jsdelivr.net/npm//vega@5?noext\",\n",
       "      \"vega-lib\": \"https://cdn.jsdelivr.net/npm//vega-lib?noext\",\n",
       "      \"vega-lite\": \"https://cdn.jsdelivr.net/npm//vega-lite@4.17.0?noext\",\n",
       "      \"vega-embed\": \"https://cdn.jsdelivr.net/npm//vega-embed@6?noext\",\n",
       "    };\n",
       "\n",
       "    function maybeLoadScript(lib, version) {\n",
       "      var key = `${lib.replace(\"-\", \"\")}_version`;\n",
       "      return (VEGA_DEBUG[key] == version) ?\n",
       "        Promise.resolve(paths[lib]) :\n",
       "        new Promise(function(resolve, reject) {\n",
       "          var s = document.createElement('script');\n",
       "          document.getElementsByTagName(\"head\")[0].appendChild(s);\n",
       "          s.async = true;\n",
       "          s.onload = () => {\n",
       "            VEGA_DEBUG[key] = version;\n",
       "            return resolve(paths[lib]);\n",
       "          };\n",
       "          s.onerror = () => reject(`Error loading script: ${paths[lib]}`);\n",
       "          s.src = paths[lib];\n",
       "        });\n",
       "    }\n",
       "\n",
       "    function showError(err) {\n",
       "      outputDiv.innerHTML = `<div class=\"error\" style=\"color:red;\">${err}</div>`;\n",
       "      throw err;\n",
       "    }\n",
       "\n",
       "    function displayChart(vegaEmbed) {\n",
       "      vegaEmbed(outputDiv, spec, embedOpt)\n",
       "        .catch(err => showError(`Javascript Error: ${err.message}<br>This usually means there's a typo in your chart specification. See the javascript console for the full traceback.`));\n",
       "    }\n",
       "\n",
       "    if(typeof define === \"function\" && define.amd) {\n",
       "      requirejs.config({paths});\n",
       "      require([\"vega-embed\"], displayChart, err => showError(`Error loading script: ${err.message}`));\n",
       "    } else {\n",
       "      maybeLoadScript(\"vega\", \"5\")\n",
       "        .then(() => maybeLoadScript(\"vega-lite\", \"4.17.0\"))\n",
       "        .then(() => maybeLoadScript(\"vega-embed\", \"6\"))\n",
       "        .catch(showError)\n",
       "        .then(() => displayChart(vegaEmbed));\n",
       "    }\n",
       "  })({\"config\": {\"view\": {\"continuousWidth\": 400, \"continuousHeight\": 300}}, \"layer\": [{\"mark\": {\"type\": \"bar\", \"size\": 30}, \"encoding\": {\"text\": {\"field\": \"count\", \"type\": \"quantitative\"}, \"x\": {\"field\": \"LILATracts_1And10\", \"sort\": \"-y\", \"type\": \"nominal\"}, \"y\": {\"field\": \"count\", \"type\": \"quantitative\"}}, \"width\": 100}, {\"mark\": {\"type\": \"text\", \"align\": \"center\", \"dy\": -10}, \"encoding\": {\"text\": {\"field\": \"count\", \"type\": \"quantitative\"}, \"x\": {\"field\": \"LILATracts_1And10\", \"sort\": \"-y\", \"type\": \"nominal\"}, \"y\": {\"field\": \"count\", \"type\": \"quantitative\"}}, \"width\": 100}], \"data\": {\"name\": \"data-7f6d7f452a6740ddaa5f4d663ad7acfc\"}, \"$schema\": \"https://vega.github.io/schema/vega-lite/v4.17.0.json\", \"datasets\": {\"data-7f6d7f452a6740ddaa5f4d663ad7acfc\": [{\"LILATracts_1And10\": 0, \"count\": 63132}, {\"LILATracts_1And10\": 1, \"count\": 9289}]}}, {\"mode\": \"vega-lite\"});\n",
       "</script>"
      ],
      "text/plain": [
       "alt.LayerChart(...)"
      ]
     },
     "execution_count": 10,
     "metadata": {},
     "output_type": "execute_result"
    }
   ],
   "source": [
    "# Check for imbalaced labels\n",
    "val_counts = pd.DataFrame(df[label].value_counts()).reset_index()\n",
    "base = alt.Chart(val_counts).encode(\n",
    "    x=alt.X(label + ':N', sort='-y'),\n",
    "    y='count',\n",
    "    text = 'count'\n",
    ").properties(width=100)\n",
    "base.mark_bar(size=30) + base.mark_text(align='center', dy=-10)"
   ]
  },
  {
   "cell_type": "markdown",
   "id": "f7a716f3-be2e-4f3e-afd9-8d923061ae59",
   "metadata": {
    "tags": []
   },
   "source": [
    "### Exploratory Data Analysis"
   ]
  },
  {
   "cell_type": "code",
   "execution_count": 11,
   "id": "229022ee-a314-4ca6-91c8-0984a461ce0d",
   "metadata": {
    "tags": []
   },
   "outputs": [],
   "source": [
    "eda_df = df.copy()\n",
    "eda_df = eda_df.drop(['State','Census Division'], axis=1)\n",
    "cor_data = (eda_df.corr().stack().reset_index() \n",
    "              .rename(columns={0: 'correlation', 'level_0': 'variable', 'level_1': 'variable2'}))\n",
    "cor_data['correlation_label'] = cor_data['correlation'].map('{:.2f}'.format)"
   ]
  },
  {
   "cell_type": "code",
   "execution_count": 12,
   "id": "591bdd2a-224d-4ab1-9a94-130132487fea",
   "metadata": {
    "tags": []
   },
   "outputs": [
    {
     "data": {
      "text/html": [
       "\n",
       "<div id=\"altair-viz-ba2cd1daf0f649d9a1be178562e0a786\"></div>\n",
       "<script type=\"text/javascript\">\n",
       "  var VEGA_DEBUG = (typeof VEGA_DEBUG == \"undefined\") ? {} : VEGA_DEBUG;\n",
       "  (function(spec, embedOpt){\n",
       "    let outputDiv = document.currentScript.previousElementSibling;\n",
       "    if (outputDiv.id !== \"altair-viz-ba2cd1daf0f649d9a1be178562e0a786\") {\n",
       "      outputDiv = document.getElementById(\"altair-viz-ba2cd1daf0f649d9a1be178562e0a786\");\n",
       "    }\n",
       "    const paths = {\n",
       "      \"vega\": \"https://cdn.jsdelivr.net/npm//vega@5?noext\",\n",
       "      \"vega-lib\": \"https://cdn.jsdelivr.net/npm//vega-lib?noext\",\n",
       "      \"vega-lite\": \"https://cdn.jsdelivr.net/npm//vega-lite@4.17.0?noext\",\n",
       "      \"vega-embed\": \"https://cdn.jsdelivr.net/npm//vega-embed@6?noext\",\n",
       "    };\n",
       "\n",
       "    function maybeLoadScript(lib, version) {\n",
       "      var key = `${lib.replace(\"-\", \"\")}_version`;\n",
       "      return (VEGA_DEBUG[key] == version) ?\n",
       "        Promise.resolve(paths[lib]) :\n",
       "        new Promise(function(resolve, reject) {\n",
       "          var s = document.createElement('script');\n",
       "          document.getElementsByTagName(\"head\")[0].appendChild(s);\n",
       "          s.async = true;\n",
       "          s.onload = () => {\n",
       "            VEGA_DEBUG[key] = version;\n",
       "            return resolve(paths[lib]);\n",
       "          };\n",
       "          s.onerror = () => reject(`Error loading script: ${paths[lib]}`);\n",
       "          s.src = paths[lib];\n",
       "        });\n",
       "    }\n",
       "\n",
       "    function showError(err) {\n",
       "      outputDiv.innerHTML = `<div class=\"error\" style=\"color:red;\">${err}</div>`;\n",
       "      throw err;\n",
       "    }\n",
       "\n",
       "    function displayChart(vegaEmbed) {\n",
       "      vegaEmbed(outputDiv, spec, embedOpt)\n",
       "        .catch(err => showError(`Javascript Error: ${err.message}<br>This usually means there's a typo in your chart specification. See the javascript console for the full traceback.`));\n",
       "    }\n",
       "\n",
       "    if(typeof define === \"function\" && define.amd) {\n",
       "      requirejs.config({paths});\n",
       "      require([\"vega-embed\"], displayChart, err => showError(`Error loading script: ${err.message}`));\n",
       "    } else {\n",
       "      maybeLoadScript(\"vega\", \"5\")\n",
       "        .then(() => maybeLoadScript(\"vega-lite\", \"4.17.0\"))\n",
       "        .then(() => maybeLoadScript(\"vega-embed\", \"6\"))\n",
       "        .catch(showError)\n",
       "        .then(() => displayChart(vegaEmbed));\n",
       "    }\n",
       "  })({\"config\": {\"view\": {\"continuousWidth\": 400, \"continuousHeight\": 300}}, \"layer\": [{\"mark\": \"rect\", \"encoding\": {\"color\": {\"field\": \"correlation\", \"scale\": {\"scheme\": \"redblue\"}, \"type\": \"quantitative\"}, \"x\": {\"field\": \"variable2\", \"type\": \"ordinal\"}, \"y\": {\"field\": \"variable\", \"type\": \"ordinal\"}}, \"height\": 600, \"width\": 600}, {\"mark\": \"text\", \"encoding\": {\"color\": {\"condition\": {\"value\": \"white\", \"test\": \"(datum.correlation > 0.5)\"}, \"value\": \"black\"}, \"text\": {\"field\": \"correlation_label\", \"type\": \"nominal\"}, \"x\": {\"field\": \"variable2\", \"type\": \"ordinal\"}, \"y\": {\"field\": \"variable\", \"type\": \"ordinal\"}}}], \"data\": {\"name\": \"data-5ad8df4d75c489fd6e82ab3ae77823a4\"}, \"$schema\": \"https://vega.github.io/schema/vega-lite/v4.17.0.json\", \"datasets\": {\"data-5ad8df4d75c489fd6e82ab3ae77823a4\": [{\"variable\": \"LILATracts_1And10\", \"variable2\": \"LILATracts_1And10\", \"correlation\": 1.0, \"correlation_label\": \"1.00\"}, {\"variable\": \"LILATracts_1And10\", \"variable2\": \"Urban\", \"correlation\": 0.08439061006184294, \"correlation_label\": \"0.08\"}, {\"variable\": \"LILATracts_1And10\", \"variable2\": \"PovertyRate\", \"correlation\": 0.2970002746270482, \"correlation_label\": \"0.30\"}, {\"variable\": \"LILATracts_1And10\", \"variable2\": \"BlackPopShare\", \"correlation\": 0.16556882246267154, \"correlation_label\": \"0.17\"}, {\"variable\": \"LILATracts_1And10\", \"variable2\": \"LOWIPopShare\", \"correlation\": 0.21871044116702923, \"correlation_label\": \"0.22\"}, {\"variable\": \"LILATracts_1And10\", \"variable2\": \"KidsPopShare\", \"correlation\": 0.07612135526869197, \"correlation_label\": \"0.08\"}, {\"variable\": \"LILATracts_1And10\", \"variable2\": \"SeniorsPopShare\", \"correlation\": -0.018261950194575025, \"correlation_label\": \"-0.02\"}, {\"variable\": \"LILATracts_1And10\", \"variable2\": \"WhitePopShare\", \"correlation\": -0.1295469246467918, \"correlation_label\": \"-0.13\"}, {\"variable\": \"LILATracts_1And10\", \"variable2\": \"AsianPopShare\", \"correlation\": -0.11554889264664792, \"correlation_label\": \"-0.12\"}, {\"variable\": \"LILATracts_1And10\", \"variable2\": \"NHOPIPopShare\", \"correlation\": 0.00020294436511935872, \"correlation_label\": \"0.00\"}, {\"variable\": \"LILATracts_1And10\", \"variable2\": \"AIANPopShare\", \"correlation\": 0.08768223184512479, \"correlation_label\": \"0.09\"}, {\"variable\": \"LILATracts_1And10\", \"variable2\": \"OMultirPopShare\", \"correlation\": 0.01982477346340298, \"correlation_label\": \"0.02\"}, {\"variable\": \"LILATracts_1And10\", \"variable2\": \"HispanicPopShare\", \"correlation\": 0.025838269888632085, \"correlation_label\": \"0.03\"}, {\"variable\": \"LILATracts_1And10\", \"variable2\": \"HUNVPopShare\", \"correlation\": 0.012480608058999348, \"correlation_label\": \"0.01\"}, {\"variable\": \"LILATracts_1And10\", \"variable2\": \"SNAPPopShare\", \"correlation\": 0.225510216573712, \"correlation_label\": \"0.23\"}, {\"variable\": \"Urban\", \"variable2\": \"LILATracts_1And10\", \"correlation\": 0.08439061006184294, \"correlation_label\": \"0.08\"}, {\"variable\": \"Urban\", \"variable2\": \"Urban\", \"correlation\": 1.0, \"correlation_label\": \"1.00\"}, {\"variable\": \"Urban\", \"variable2\": \"PovertyRate\", \"correlation\": 0.09342674698149897, \"correlation_label\": \"0.09\"}, {\"variable\": \"Urban\", \"variable2\": \"BlackPopShare\", \"correlation\": 0.18188328769214265, \"correlation_label\": \"0.18\"}, {\"variable\": \"Urban\", \"variable2\": \"LOWIPopShare\", \"correlation\": 0.04245240340866243, \"correlation_label\": \"0.04\"}, {\"variable\": \"Urban\", \"variable2\": \"KidsPopShare\", \"correlation\": 0.012295661104184516, \"correlation_label\": \"0.01\"}, {\"variable\": \"Urban\", \"variable2\": \"SeniorsPopShare\", \"correlation\": -0.14250952579322643, \"correlation_label\": \"-0.14\"}, {\"variable\": \"Urban\", \"variable2\": \"WhitePopShare\", \"correlation\": -0.3148256964279587, \"correlation_label\": \"-0.31\"}, {\"variable\": \"Urban\", \"variable2\": \"AsianPopShare\", \"correlation\": 0.23450766351831964, \"correlation_label\": \"0.23\"}, {\"variable\": \"Urban\", \"variable2\": \"NHOPIPopShare\", \"correlation\": 0.04149003632103782, \"correlation_label\": \"0.04\"}, {\"variable\": \"Urban\", \"variable2\": \"AIANPopShare\", \"correlation\": -0.10251514928393488, \"correlation_label\": \"-0.10\"}, {\"variable\": \"Urban\", \"variable2\": \"OMultirPopShare\", \"correlation\": 0.249778331465797, \"correlation_label\": \"0.25\"}, {\"variable\": \"Urban\", \"variable2\": \"HispanicPopShare\", \"correlation\": 0.23323321920223744, \"correlation_label\": \"0.23\"}, {\"variable\": \"Urban\", \"variable2\": \"HUNVPopShare\", \"correlation\": 0.1290494841005826, \"correlation_label\": \"0.13\"}, {\"variable\": \"Urban\", \"variable2\": \"SNAPPopShare\", \"correlation\": 0.09643609679248133, \"correlation_label\": \"0.10\"}, {\"variable\": \"PovertyRate\", \"variable2\": \"LILATracts_1And10\", \"correlation\": 0.2970002746270482, \"correlation_label\": \"0.30\"}, {\"variable\": \"PovertyRate\", \"variable2\": \"Urban\", \"correlation\": 0.09342674698149897, \"correlation_label\": \"0.09\"}, {\"variable\": \"PovertyRate\", \"variable2\": \"PovertyRate\", \"correlation\": 1.0, \"correlation_label\": \"1.00\"}, {\"variable\": \"PovertyRate\", \"variable2\": \"BlackPopShare\", \"correlation\": 0.4425977125573052, \"correlation_label\": \"0.44\"}, {\"variable\": \"PovertyRate\", \"variable2\": \"LOWIPopShare\", \"correlation\": 0.6090738295981086, \"correlation_label\": \"0.61\"}, {\"variable\": \"PovertyRate\", \"variable2\": \"KidsPopShare\", \"correlation\": 0.11872078425905126, \"correlation_label\": \"0.12\"}, {\"variable\": \"PovertyRate\", \"variable2\": \"SeniorsPopShare\", \"correlation\": -0.1935208978945761, \"correlation_label\": \"-0.19\"}, {\"variable\": \"PovertyRate\", \"variable2\": \"WhitePopShare\", \"correlation\": -0.473037642317788, \"correlation_label\": \"-0.47\"}, {\"variable\": \"PovertyRate\", \"variable2\": \"AsianPopShare\", \"correlation\": -0.10633494054874681, \"correlation_label\": \"-0.11\"}, {\"variable\": \"PovertyRate\", \"variable2\": \"NHOPIPopShare\", \"correlation\": -0.002953677798931915, \"correlation_label\": \"-0.00\"}, {\"variable\": \"PovertyRate\", \"variable2\": \"AIANPopShare\", \"correlation\": 0.11312832669257476, \"correlation_label\": \"0.11\"}, {\"variable\": \"PovertyRate\", \"variable2\": \"OMultirPopShare\", \"correlation\": 0.26503630022370694, \"correlation_label\": \"0.27\"}, {\"variable\": \"PovertyRate\", \"variable2\": \"HispanicPopShare\", \"correlation\": 0.2447115298191319, \"correlation_label\": \"0.24\"}, {\"variable\": \"PovertyRate\", \"variable2\": \"HUNVPopShare\", \"correlation\": 0.2829084983393503, \"correlation_label\": \"0.28\"}, {\"variable\": \"PovertyRate\", \"variable2\": \"SNAPPopShare\", \"correlation\": 0.7060501024305214, \"correlation_label\": \"0.71\"}, {\"variable\": \"BlackPopShare\", \"variable2\": \"LILATracts_1And10\", \"correlation\": 0.16556882246267154, \"correlation_label\": \"0.17\"}, {\"variable\": \"BlackPopShare\", \"variable2\": \"Urban\", \"correlation\": 0.18188328769214265, \"correlation_label\": \"0.18\"}, {\"variable\": \"BlackPopShare\", \"variable2\": \"PovertyRate\", \"correlation\": 0.4425977125573052, \"correlation_label\": \"0.44\"}, {\"variable\": \"BlackPopShare\", \"variable2\": \"BlackPopShare\", \"correlation\": 1.0, \"correlation_label\": \"1.00\"}, {\"variable\": \"BlackPopShare\", \"variable2\": \"LOWIPopShare\", \"correlation\": 0.2910165294600782, \"correlation_label\": \"0.29\"}, {\"variable\": \"BlackPopShare\", \"variable2\": \"KidsPopShare\", \"correlation\": 0.14885321115335012, \"correlation_label\": \"0.15\"}, {\"variable\": \"BlackPopShare\", \"variable2\": \"SeniorsPopShare\", \"correlation\": -0.1627552647443349, \"correlation_label\": \"-0.16\"}, {\"variable\": \"BlackPopShare\", \"variable2\": \"WhitePopShare\", \"correlation\": -0.8100886338141112, \"correlation_label\": \"-0.81\"}, {\"variable\": \"BlackPopShare\", \"variable2\": \"AsianPopShare\", \"correlation\": -0.10894940540121263, \"correlation_label\": \"-0.11\"}, {\"variable\": \"BlackPopShare\", \"variable2\": \"NHOPIPopShare\", \"correlation\": -0.03807134231852622, \"correlation_label\": \"-0.04\"}, {\"variable\": \"BlackPopShare\", \"variable2\": \"AIANPopShare\", \"correlation\": -0.05773753425334272, \"correlation_label\": \"-0.06\"}, {\"variable\": \"BlackPopShare\", \"variable2\": \"OMultirPopShare\", \"correlation\": -0.024183082909660578, \"correlation_label\": \"-0.02\"}, {\"variable\": \"BlackPopShare\", \"variable2\": \"HispanicPopShare\", \"correlation\": -0.07347609624427635, \"correlation_label\": \"-0.07\"}, {\"variable\": \"BlackPopShare\", \"variable2\": \"HUNVPopShare\", \"correlation\": 0.23872163013090897, \"correlation_label\": \"0.24\"}, {\"variable\": \"BlackPopShare\", \"variable2\": \"SNAPPopShare\", \"correlation\": 0.4704181429214918, \"correlation_label\": \"0.47\"}, {\"variable\": \"LOWIPopShare\", \"variable2\": \"LILATracts_1And10\", \"correlation\": 0.21871044116702923, \"correlation_label\": \"0.22\"}, {\"variable\": \"LOWIPopShare\", \"variable2\": \"Urban\", \"correlation\": 0.04245240340866243, \"correlation_label\": \"0.04\"}, {\"variable\": \"LOWIPopShare\", \"variable2\": \"PovertyRate\", \"correlation\": 0.6090738295981086, \"correlation_label\": \"0.61\"}, {\"variable\": \"LOWIPopShare\", \"variable2\": \"BlackPopShare\", \"correlation\": 0.2910165294600782, \"correlation_label\": \"0.29\"}, {\"variable\": \"LOWIPopShare\", \"variable2\": \"LOWIPopShare\", \"correlation\": 1.0, \"correlation_label\": \"1.00\"}, {\"variable\": \"LOWIPopShare\", \"variable2\": \"KidsPopShare\", \"correlation\": 0.1786324309365767, \"correlation_label\": \"0.18\"}, {\"variable\": \"LOWIPopShare\", \"variable2\": \"SeniorsPopShare\", \"correlation\": -0.12798279905141066, \"correlation_label\": \"-0.13\"}, {\"variable\": \"LOWIPopShare\", \"variable2\": \"WhitePopShare\", \"correlation\": -0.3455185352389485, \"correlation_label\": \"-0.35\"}, {\"variable\": \"LOWIPopShare\", \"variable2\": \"AsianPopShare\", \"correlation\": -0.1049347616018606, \"correlation_label\": \"-0.10\"}, {\"variable\": \"LOWIPopShare\", \"variable2\": \"NHOPIPopShare\", \"correlation\": 0.034591646146519446, \"correlation_label\": \"0.03\"}, {\"variable\": \"LOWIPopShare\", \"variable2\": \"AIANPopShare\", \"correlation\": 0.08869664714423041, \"correlation_label\": \"0.09\"}, {\"variable\": \"LOWIPopShare\", \"variable2\": \"OMultirPopShare\", \"correlation\": 0.2815892149431609, \"correlation_label\": \"0.28\"}, {\"variable\": \"LOWIPopShare\", \"variable2\": \"HispanicPopShare\", \"correlation\": 0.2782108970331435, \"correlation_label\": \"0.28\"}, {\"variable\": \"LOWIPopShare\", \"variable2\": \"HUNVPopShare\", \"correlation\": 0.2561147097146154, \"correlation_label\": \"0.26\"}, {\"variable\": \"LOWIPopShare\", \"variable2\": \"SNAPPopShare\", \"correlation\": 0.6046305687159963, \"correlation_label\": \"0.60\"}, {\"variable\": \"KidsPopShare\", \"variable2\": \"LILATracts_1And10\", \"correlation\": 0.07612135526869197, \"correlation_label\": \"0.08\"}, {\"variable\": \"KidsPopShare\", \"variable2\": \"Urban\", \"correlation\": 0.012295661104184516, \"correlation_label\": \"0.01\"}, {\"variable\": \"KidsPopShare\", \"variable2\": \"PovertyRate\", \"correlation\": 0.11872078425905126, \"correlation_label\": \"0.12\"}, {\"variable\": \"KidsPopShare\", \"variable2\": \"BlackPopShare\", \"correlation\": 0.14885321115335012, \"correlation_label\": \"0.15\"}, {\"variable\": \"KidsPopShare\", \"variable2\": \"LOWIPopShare\", \"correlation\": 0.1786324309365767, \"correlation_label\": \"0.18\"}, {\"variable\": \"KidsPopShare\", \"variable2\": \"KidsPopShare\", \"correlation\": 1.0, \"correlation_label\": \"1.00\"}, {\"variable\": \"KidsPopShare\", \"variable2\": \"SeniorsPopShare\", \"correlation\": -0.4697129829052088, \"correlation_label\": \"-0.47\"}, {\"variable\": \"KidsPopShare\", \"variable2\": \"WhitePopShare\", \"correlation\": -0.25198637554890047, \"correlation_label\": \"-0.25\"}, {\"variable\": \"KidsPopShare\", \"variable2\": \"AsianPopShare\", \"correlation\": -0.08725519060714214, \"correlation_label\": \"-0.09\"}, {\"variable\": \"KidsPopShare\", \"variable2\": \"NHOPIPopShare\", \"correlation\": 0.032064618157964984, \"correlation_label\": \"0.03\"}, {\"variable\": \"KidsPopShare\", \"variable2\": \"AIANPopShare\", \"correlation\": 0.09355020223263774, \"correlation_label\": \"0.09\"}, {\"variable\": \"KidsPopShare\", \"variable2\": \"OMultirPopShare\", \"correlation\": 0.3409743847501985, \"correlation_label\": \"0.34\"}, {\"variable\": \"KidsPopShare\", \"variable2\": \"HispanicPopShare\", \"correlation\": 0.3296765739817506, \"correlation_label\": \"0.33\"}, {\"variable\": \"KidsPopShare\", \"variable2\": \"HUNVPopShare\", \"correlation\": -0.05273259186214481, \"correlation_label\": \"-0.05\"}, {\"variable\": \"KidsPopShare\", \"variable2\": \"SNAPPopShare\", \"correlation\": 0.2809451289140096, \"correlation_label\": \"0.28\"}, {\"variable\": \"SeniorsPopShare\", \"variable2\": \"LILATracts_1And10\", \"correlation\": -0.018261950194575025, \"correlation_label\": \"-0.02\"}, {\"variable\": \"SeniorsPopShare\", \"variable2\": \"Urban\", \"correlation\": -0.14250952579322643, \"correlation_label\": \"-0.14\"}, {\"variable\": \"SeniorsPopShare\", \"variable2\": \"PovertyRate\", \"correlation\": -0.1935208978945761, \"correlation_label\": \"-0.19\"}, {\"variable\": \"SeniorsPopShare\", \"variable2\": \"BlackPopShare\", \"correlation\": -0.1627552647443349, \"correlation_label\": \"-0.16\"}, {\"variable\": \"SeniorsPopShare\", \"variable2\": \"LOWIPopShare\", \"correlation\": -0.12798279905141066, \"correlation_label\": \"-0.13\"}, {\"variable\": \"SeniorsPopShare\", \"variable2\": \"KidsPopShare\", \"correlation\": -0.4697129829052088, \"correlation_label\": \"-0.47\"}, {\"variable\": \"SeniorsPopShare\", \"variable2\": \"SeniorsPopShare\", \"correlation\": 1.0, \"correlation_label\": \"1.00\"}, {\"variable\": \"SeniorsPopShare\", \"variable2\": \"WhitePopShare\", \"correlation\": 0.3208260157613004, \"correlation_label\": \"0.32\"}, {\"variable\": \"SeniorsPopShare\", \"variable2\": \"AsianPopShare\", \"correlation\": -0.11596188136092349, \"correlation_label\": \"-0.12\"}, {\"variable\": \"SeniorsPopShare\", \"variable2\": \"NHOPIPopShare\", \"correlation\": -0.04562005429605059, \"correlation_label\": \"-0.05\"}, {\"variable\": \"SeniorsPopShare\", \"variable2\": \"AIANPopShare\", \"correlation\": -0.048014584743454804, \"correlation_label\": \"-0.05\"}, {\"variable\": \"SeniorsPopShare\", \"variable2\": \"OMultirPopShare\", \"correlation\": -0.3361408222052703, \"correlation_label\": \"-0.34\"}, {\"variable\": \"SeniorsPopShare\", \"variable2\": \"HispanicPopShare\", \"correlation\": -0.2864472738585831, \"correlation_label\": \"-0.29\"}, {\"variable\": \"SeniorsPopShare\", \"variable2\": \"HUNVPopShare\", \"correlation\": -0.05514190726297414, \"correlation_label\": \"-0.06\"}, {\"variable\": \"SeniorsPopShare\", \"variable2\": \"SNAPPopShare\", \"correlation\": -0.1545011100894765, \"correlation_label\": \"-0.15\"}, {\"variable\": \"WhitePopShare\", \"variable2\": \"LILATracts_1And10\", \"correlation\": -0.1295469246467918, \"correlation_label\": \"-0.13\"}, {\"variable\": \"WhitePopShare\", \"variable2\": \"Urban\", \"correlation\": -0.3148256964279587, \"correlation_label\": \"-0.31\"}, {\"variable\": \"WhitePopShare\", \"variable2\": \"PovertyRate\", \"correlation\": -0.473037642317788, \"correlation_label\": \"-0.47\"}, {\"variable\": \"WhitePopShare\", \"variable2\": \"BlackPopShare\", \"correlation\": -0.8100886338141112, \"correlation_label\": \"-0.81\"}, {\"variable\": \"WhitePopShare\", \"variable2\": \"LOWIPopShare\", \"correlation\": -0.3455185352389485, \"correlation_label\": \"-0.35\"}, {\"variable\": \"WhitePopShare\", \"variable2\": \"KidsPopShare\", \"correlation\": -0.25198637554890047, \"correlation_label\": \"-0.25\"}, {\"variable\": \"WhitePopShare\", \"variable2\": \"SeniorsPopShare\", \"correlation\": 0.3208260157613004, \"correlation_label\": \"0.32\"}, {\"variable\": \"WhitePopShare\", \"variable2\": \"WhitePopShare\", \"correlation\": 1.0, \"correlation_label\": \"1.00\"}, {\"variable\": \"WhitePopShare\", \"variable2\": \"AsianPopShare\", \"correlation\": -0.2962010445071246, \"correlation_label\": \"-0.30\"}, {\"variable\": \"WhitePopShare\", \"variable2\": \"NHOPIPopShare\", \"correlation\": -0.13208338174022527, \"correlation_label\": \"-0.13\"}, {\"variable\": \"WhitePopShare\", \"variable2\": \"AIANPopShare\", \"correlation\": -0.13563654702432712, \"correlation_label\": \"-0.14\"}, {\"variable\": \"WhitePopShare\", \"variable2\": \"OMultirPopShare\", \"correlation\": -0.4373200625070667, \"correlation_label\": \"-0.44\"}, {\"variable\": \"WhitePopShare\", \"variable2\": \"HispanicPopShare\", \"correlation\": -0.3033886391343884, \"correlation_label\": \"-0.30\"}, {\"variable\": \"WhitePopShare\", \"variable2\": \"HUNVPopShare\", \"correlation\": -0.27505280573810764, \"correlation_label\": \"-0.28\"}, {\"variable\": \"WhitePopShare\", \"variable2\": \"SNAPPopShare\", \"correlation\": -0.4804250695653086, \"correlation_label\": \"-0.48\"}, {\"variable\": \"AsianPopShare\", \"variable2\": \"LILATracts_1And10\", \"correlation\": -0.11554889264664792, \"correlation_label\": \"-0.12\"}, {\"variable\": \"AsianPopShare\", \"variable2\": \"Urban\", \"correlation\": 0.23450766351831964, \"correlation_label\": \"0.23\"}, {\"variable\": \"AsianPopShare\", \"variable2\": \"PovertyRate\", \"correlation\": -0.10633494054874681, \"correlation_label\": \"-0.11\"}, {\"variable\": \"AsianPopShare\", \"variable2\": \"BlackPopShare\", \"correlation\": -0.10894940540121263, \"correlation_label\": \"-0.11\"}, {\"variable\": \"AsianPopShare\", \"variable2\": \"LOWIPopShare\", \"correlation\": -0.1049347616018606, \"correlation_label\": \"-0.10\"}, {\"variable\": \"AsianPopShare\", \"variable2\": \"KidsPopShare\", \"correlation\": -0.08725519060714214, \"correlation_label\": \"-0.09\"}, {\"variable\": \"AsianPopShare\", \"variable2\": \"SeniorsPopShare\", \"correlation\": -0.11596188136092349, \"correlation_label\": \"-0.12\"}, {\"variable\": \"AsianPopShare\", \"variable2\": \"WhitePopShare\", \"correlation\": -0.2962010445071246, \"correlation_label\": \"-0.30\"}, {\"variable\": \"AsianPopShare\", \"variable2\": \"AsianPopShare\", \"correlation\": 1.0, \"correlation_label\": \"1.00\"}, {\"variable\": \"AsianPopShare\", \"variable2\": \"NHOPIPopShare\", \"correlation\": 0.19990148617905207, \"correlation_label\": \"0.20\"}, {\"variable\": \"AsianPopShare\", \"variable2\": \"AIANPopShare\", \"correlation\": -0.04448442329308261, \"correlation_label\": \"-0.04\"}, {\"variable\": \"AsianPopShare\", \"variable2\": \"OMultirPopShare\", \"correlation\": 0.16387753106144903, \"correlation_label\": \"0.16\"}, {\"variable\": \"AsianPopShare\", \"variable2\": \"HispanicPopShare\", \"correlation\": 0.07439188042340097, \"correlation_label\": \"0.07\"}, {\"variable\": \"AsianPopShare\", \"variable2\": \"HUNVPopShare\", \"correlation\": 0.05402301408683258, \"correlation_label\": \"0.05\"}, {\"variable\": \"AsianPopShare\", \"variable2\": \"SNAPPopShare\", \"correlation\": -0.14834678386726421, \"correlation_label\": \"-0.15\"}, {\"variable\": \"NHOPIPopShare\", \"variable2\": \"LILATracts_1And10\", \"correlation\": 0.00020294436511935872, \"correlation_label\": \"0.00\"}, {\"variable\": \"NHOPIPopShare\", \"variable2\": \"Urban\", \"correlation\": 0.04149003632103782, \"correlation_label\": \"0.04\"}, {\"variable\": \"NHOPIPopShare\", \"variable2\": \"PovertyRate\", \"correlation\": -0.002953677798931915, \"correlation_label\": \"-0.00\"}, {\"variable\": \"NHOPIPopShare\", \"variable2\": \"BlackPopShare\", \"correlation\": -0.03807134231852622, \"correlation_label\": \"-0.04\"}, {\"variable\": \"NHOPIPopShare\", \"variable2\": \"LOWIPopShare\", \"correlation\": 0.034591646146519446, \"correlation_label\": \"0.03\"}, {\"variable\": \"NHOPIPopShare\", \"variable2\": \"KidsPopShare\", \"correlation\": 0.032064618157964984, \"correlation_label\": \"0.03\"}, {\"variable\": \"NHOPIPopShare\", \"variable2\": \"SeniorsPopShare\", \"correlation\": -0.04562005429605059, \"correlation_label\": \"-0.05\"}, {\"variable\": \"NHOPIPopShare\", \"variable2\": \"WhitePopShare\", \"correlation\": -0.13208338174022527, \"correlation_label\": \"-0.13\"}, {\"variable\": \"NHOPIPopShare\", \"variable2\": \"AsianPopShare\", \"correlation\": 0.19990148617905207, \"correlation_label\": \"0.20\"}, {\"variable\": \"NHOPIPopShare\", \"variable2\": \"NHOPIPopShare\", \"correlation\": 1.0, \"correlation_label\": \"1.00\"}, {\"variable\": \"NHOPIPopShare\", \"variable2\": \"AIANPopShare\", \"correlation\": 0.0003911724550259673, \"correlation_label\": \"0.00\"}, {\"variable\": \"NHOPIPopShare\", \"variable2\": \"OMultirPopShare\", \"correlation\": 0.15497754497224042, \"correlation_label\": \"0.15\"}, {\"variable\": \"NHOPIPopShare\", \"variable2\": \"HispanicPopShare\", \"correlation\": 0.03916764532731688, \"correlation_label\": \"0.04\"}, {\"variable\": \"NHOPIPopShare\", \"variable2\": \"HUNVPopShare\", \"correlation\": 0.009043128632616073, \"correlation_label\": \"0.01\"}, {\"variable\": \"NHOPIPopShare\", \"variable2\": \"SNAPPopShare\", \"correlation\": 0.022474545009895625, \"correlation_label\": \"0.02\"}, {\"variable\": \"AIANPopShare\", \"variable2\": \"LILATracts_1And10\", \"correlation\": 0.08768223184512479, \"correlation_label\": \"0.09\"}, {\"variable\": \"AIANPopShare\", \"variable2\": \"Urban\", \"correlation\": -0.10251514928393488, \"correlation_label\": \"-0.10\"}, {\"variable\": \"AIANPopShare\", \"variable2\": \"PovertyRate\", \"correlation\": 0.11312832669257476, \"correlation_label\": \"0.11\"}, {\"variable\": \"AIANPopShare\", \"variable2\": \"BlackPopShare\", \"correlation\": -0.05773753425334272, \"correlation_label\": \"-0.06\"}, {\"variable\": \"AIANPopShare\", \"variable2\": \"LOWIPopShare\", \"correlation\": 0.08869664714423041, \"correlation_label\": \"0.09\"}, {\"variable\": \"AIANPopShare\", \"variable2\": \"KidsPopShare\", \"correlation\": 0.09355020223263774, \"correlation_label\": \"0.09\"}, {\"variable\": \"AIANPopShare\", \"variable2\": \"SeniorsPopShare\", \"correlation\": -0.048014584743454804, \"correlation_label\": \"-0.05\"}, {\"variable\": \"AIANPopShare\", \"variable2\": \"WhitePopShare\", \"correlation\": -0.13563654702432712, \"correlation_label\": \"-0.14\"}, {\"variable\": \"AIANPopShare\", \"variable2\": \"AsianPopShare\", \"correlation\": -0.04448442329308261, \"correlation_label\": \"-0.04\"}, {\"variable\": \"AIANPopShare\", \"variable2\": \"NHOPIPopShare\", \"correlation\": 0.0003911724550259673, \"correlation_label\": \"0.00\"}, {\"variable\": \"AIANPopShare\", \"variable2\": \"AIANPopShare\", \"correlation\": 1.0, \"correlation_label\": \"1.00\"}, {\"variable\": \"AIANPopShare\", \"variable2\": \"OMultirPopShare\", \"correlation\": 0.04532528385373499, \"correlation_label\": \"0.05\"}, {\"variable\": \"AIANPopShare\", \"variable2\": \"HispanicPopShare\", \"correlation\": 0.017850492152250548, \"correlation_label\": \"0.02\"}, {\"variable\": \"AIANPopShare\", \"variable2\": \"HUNVPopShare\", \"correlation\": 0.012167489456452065, \"correlation_label\": \"0.01\"}, {\"variable\": \"AIANPopShare\", \"variable2\": \"SNAPPopShare\", \"correlation\": 0.08514295414213996, \"correlation_label\": \"0.09\"}, {\"variable\": \"OMultirPopShare\", \"variable2\": \"LILATracts_1And10\", \"correlation\": 0.01982477346340298, \"correlation_label\": \"0.02\"}, {\"variable\": \"OMultirPopShare\", \"variable2\": \"Urban\", \"correlation\": 0.249778331465797, \"correlation_label\": \"0.25\"}, {\"variable\": \"OMultirPopShare\", \"variable2\": \"PovertyRate\", \"correlation\": 0.26503630022370694, \"correlation_label\": \"0.27\"}, {\"variable\": \"OMultirPopShare\", \"variable2\": \"BlackPopShare\", \"correlation\": -0.024183082909660578, \"correlation_label\": \"-0.02\"}, {\"variable\": \"OMultirPopShare\", \"variable2\": \"LOWIPopShare\", \"correlation\": 0.2815892149431609, \"correlation_label\": \"0.28\"}, {\"variable\": \"OMultirPopShare\", \"variable2\": \"KidsPopShare\", \"correlation\": 0.3409743847501985, \"correlation_label\": \"0.34\"}, {\"variable\": \"OMultirPopShare\", \"variable2\": \"SeniorsPopShare\", \"correlation\": -0.3361408222052703, \"correlation_label\": \"-0.34\"}, {\"variable\": \"OMultirPopShare\", \"variable2\": \"WhitePopShare\", \"correlation\": -0.4373200625070667, \"correlation_label\": \"-0.44\"}, {\"variable\": \"OMultirPopShare\", \"variable2\": \"AsianPopShare\", \"correlation\": 0.16387753106144903, \"correlation_label\": \"0.16\"}, {\"variable\": \"OMultirPopShare\", \"variable2\": \"NHOPIPopShare\", \"correlation\": 0.15497754497224042, \"correlation_label\": \"0.15\"}, {\"variable\": \"OMultirPopShare\", \"variable2\": \"AIANPopShare\", \"correlation\": 0.04532528385373499, \"correlation_label\": \"0.05\"}, {\"variable\": \"OMultirPopShare\", \"variable2\": \"OMultirPopShare\", \"correlation\": 1.0, \"correlation_label\": \"1.00\"}, {\"variable\": \"OMultirPopShare\", \"variable2\": \"HispanicPopShare\", \"correlation\": 0.8658350672812237, \"correlation_label\": \"0.87\"}, {\"variable\": \"OMultirPopShare\", \"variable2\": \"HUNVPopShare\", \"correlation\": 0.12244067209636002, \"correlation_label\": \"0.12\"}, {\"variable\": \"OMultirPopShare\", \"variable2\": \"SNAPPopShare\", \"correlation\": 0.26788647420949874, \"correlation_label\": \"0.27\"}, {\"variable\": \"HispanicPopShare\", \"variable2\": \"LILATracts_1And10\", \"correlation\": 0.025838269888632085, \"correlation_label\": \"0.03\"}, {\"variable\": \"HispanicPopShare\", \"variable2\": \"Urban\", \"correlation\": 0.23323321920223744, \"correlation_label\": \"0.23\"}, {\"variable\": \"HispanicPopShare\", \"variable2\": \"PovertyRate\", \"correlation\": 0.2447115298191319, \"correlation_label\": \"0.24\"}, {\"variable\": \"HispanicPopShare\", \"variable2\": \"BlackPopShare\", \"correlation\": -0.07347609624427635, \"correlation_label\": \"-0.07\"}, {\"variable\": \"HispanicPopShare\", \"variable2\": \"LOWIPopShare\", \"correlation\": 0.2782108970331435, \"correlation_label\": \"0.28\"}, {\"variable\": \"HispanicPopShare\", \"variable2\": \"KidsPopShare\", \"correlation\": 0.3296765739817506, \"correlation_label\": \"0.33\"}, {\"variable\": \"HispanicPopShare\", \"variable2\": \"SeniorsPopShare\", \"correlation\": -0.2864472738585831, \"correlation_label\": \"-0.29\"}, {\"variable\": \"HispanicPopShare\", \"variable2\": \"WhitePopShare\", \"correlation\": -0.3033886391343884, \"correlation_label\": \"-0.30\"}, {\"variable\": \"HispanicPopShare\", \"variable2\": \"AsianPopShare\", \"correlation\": 0.07439188042340097, \"correlation_label\": \"0.07\"}, {\"variable\": \"HispanicPopShare\", \"variable2\": \"NHOPIPopShare\", \"correlation\": 0.03916764532731688, \"correlation_label\": \"0.04\"}, {\"variable\": \"HispanicPopShare\", \"variable2\": \"AIANPopShare\", \"correlation\": 0.017850492152250548, \"correlation_label\": \"0.02\"}, {\"variable\": \"HispanicPopShare\", \"variable2\": \"OMultirPopShare\", \"correlation\": 0.8658350672812237, \"correlation_label\": \"0.87\"}, {\"variable\": \"HispanicPopShare\", \"variable2\": \"HispanicPopShare\", \"correlation\": 1.0, \"correlation_label\": \"1.00\"}, {\"variable\": \"HispanicPopShare\", \"variable2\": \"HUNVPopShare\", \"correlation\": 0.1032862966810038, \"correlation_label\": \"0.10\"}, {\"variable\": \"HispanicPopShare\", \"variable2\": \"SNAPPopShare\", \"correlation\": 0.26425647729412693, \"correlation_label\": \"0.26\"}, {\"variable\": \"HUNVPopShare\", \"variable2\": \"LILATracts_1And10\", \"correlation\": 0.012480608058999348, \"correlation_label\": \"0.01\"}, {\"variable\": \"HUNVPopShare\", \"variable2\": \"Urban\", \"correlation\": 0.1290494841005826, \"correlation_label\": \"0.13\"}, {\"variable\": \"HUNVPopShare\", \"variable2\": \"PovertyRate\", \"correlation\": 0.2829084983393503, \"correlation_label\": \"0.28\"}, {\"variable\": \"HUNVPopShare\", \"variable2\": \"BlackPopShare\", \"correlation\": 0.23872163013090897, \"correlation_label\": \"0.24\"}, {\"variable\": \"HUNVPopShare\", \"variable2\": \"LOWIPopShare\", \"correlation\": 0.2561147097146154, \"correlation_label\": \"0.26\"}, {\"variable\": \"HUNVPopShare\", \"variable2\": \"KidsPopShare\", \"correlation\": -0.05273259186214481, \"correlation_label\": \"-0.05\"}, {\"variable\": \"HUNVPopShare\", \"variable2\": \"SeniorsPopShare\", \"correlation\": -0.05514190726297414, \"correlation_label\": \"-0.06\"}, {\"variable\": \"HUNVPopShare\", \"variable2\": \"WhitePopShare\", \"correlation\": -0.27505280573810764, \"correlation_label\": \"-0.28\"}, {\"variable\": \"HUNVPopShare\", \"variable2\": \"AsianPopShare\", \"correlation\": 0.05402301408683258, \"correlation_label\": \"0.05\"}, {\"variable\": \"HUNVPopShare\", \"variable2\": \"NHOPIPopShare\", \"correlation\": 0.009043128632616073, \"correlation_label\": \"0.01\"}, {\"variable\": \"HUNVPopShare\", \"variable2\": \"AIANPopShare\", \"correlation\": 0.012167489456452065, \"correlation_label\": \"0.01\"}, {\"variable\": \"HUNVPopShare\", \"variable2\": \"OMultirPopShare\", \"correlation\": 0.12244067209636002, \"correlation_label\": \"0.12\"}, {\"variable\": \"HUNVPopShare\", \"variable2\": \"HispanicPopShare\", \"correlation\": 0.1032862966810038, \"correlation_label\": \"0.10\"}, {\"variable\": \"HUNVPopShare\", \"variable2\": \"HUNVPopShare\", \"correlation\": 1.0, \"correlation_label\": \"1.00\"}, {\"variable\": \"HUNVPopShare\", \"variable2\": \"SNAPPopShare\", \"correlation\": 0.4607312721409357, \"correlation_label\": \"0.46\"}, {\"variable\": \"SNAPPopShare\", \"variable2\": \"LILATracts_1And10\", \"correlation\": 0.225510216573712, \"correlation_label\": \"0.23\"}, {\"variable\": \"SNAPPopShare\", \"variable2\": \"Urban\", \"correlation\": 0.09643609679248133, \"correlation_label\": \"0.10\"}, {\"variable\": \"SNAPPopShare\", \"variable2\": \"PovertyRate\", \"correlation\": 0.7060501024305214, \"correlation_label\": \"0.71\"}, {\"variable\": \"SNAPPopShare\", \"variable2\": \"BlackPopShare\", \"correlation\": 0.4704181429214918, \"correlation_label\": \"0.47\"}, {\"variable\": \"SNAPPopShare\", \"variable2\": \"LOWIPopShare\", \"correlation\": 0.6046305687159963, \"correlation_label\": \"0.60\"}, {\"variable\": \"SNAPPopShare\", \"variable2\": \"KidsPopShare\", \"correlation\": 0.2809451289140096, \"correlation_label\": \"0.28\"}, {\"variable\": \"SNAPPopShare\", \"variable2\": \"SeniorsPopShare\", \"correlation\": -0.1545011100894765, \"correlation_label\": \"-0.15\"}, {\"variable\": \"SNAPPopShare\", \"variable2\": \"WhitePopShare\", \"correlation\": -0.4804250695653086, \"correlation_label\": \"-0.48\"}, {\"variable\": \"SNAPPopShare\", \"variable2\": \"AsianPopShare\", \"correlation\": -0.14834678386726421, \"correlation_label\": \"-0.15\"}, {\"variable\": \"SNAPPopShare\", \"variable2\": \"NHOPIPopShare\", \"correlation\": 0.022474545009895625, \"correlation_label\": \"0.02\"}, {\"variable\": \"SNAPPopShare\", \"variable2\": \"AIANPopShare\", \"correlation\": 0.08514295414213996, \"correlation_label\": \"0.09\"}, {\"variable\": \"SNAPPopShare\", \"variable2\": \"OMultirPopShare\", \"correlation\": 0.26788647420949874, \"correlation_label\": \"0.27\"}, {\"variable\": \"SNAPPopShare\", \"variable2\": \"HispanicPopShare\", \"correlation\": 0.26425647729412693, \"correlation_label\": \"0.26\"}, {\"variable\": \"SNAPPopShare\", \"variable2\": \"HUNVPopShare\", \"correlation\": 0.4607312721409357, \"correlation_label\": \"0.46\"}, {\"variable\": \"SNAPPopShare\", \"variable2\": \"SNAPPopShare\", \"correlation\": 1.0, \"correlation_label\": \"1.00\"}]}}, {\"mode\": \"vega-lite\"});\n",
       "</script>"
      ],
      "text/plain": [
       "alt.LayerChart(...)"
      ]
     },
     "execution_count": 12,
     "metadata": {},
     "output_type": "execute_result"
    }
   ],
   "source": [
    "base = alt.Chart(cor_data).encode(\n",
    "    x='variable2:O',\n",
    "    y='variable:O'    \n",
    ")\n",
    "\n",
    "text = base.mark_text().encode(\n",
    "    text='correlation_label',\n",
    "    color=alt.condition(\n",
    "        alt.datum.correlation > 0.5, \n",
    "        alt.value('white'),\n",
    "        alt.value('black')\n",
    "    )\n",
    ")\n",
    "\n",
    "cor_plot = base.mark_rect().encode(\n",
    "    color=alt.Color('correlation:Q', scale=alt.Scale(scheme='redblue'))\n",
    ").properties(width=600, height=600)\n",
    "\n",
    "cor_plot + text"
   ]
  },
  {
   "cell_type": "code",
   "execution_count": 13,
   "id": "146b2994-e399-4537-a8fe-a4998a00fa0a",
   "metadata": {
    "tags": []
   },
   "outputs": [],
   "source": [
    "bins = [0, .1, .2, .3, .4, .5, .6, .7, .8, .9, 1.0]\n",
    "names = ['0%-10%', '10%-20%', '20%-30%', '30%-40%', '40%-50%', '50%-60%', '60%-70%', '70%-80%', '80%-90%', '90%-100%']"
   ]
  },
  {
   "cell_type": "code",
   "execution_count": 14,
   "id": "eacf56cd-a5c3-4c0b-8e03-fb05fb22d768",
   "metadata": {
    "tags": []
   },
   "outputs": [],
   "source": [
    "eda_df = df.copy()\n",
    "eda_df['PopShareRange'] = pd.cut(eda_df['BlackPopShare'], bins, labels=names)\n",
    "b = eda_df[['PopShareRange',label]].groupby(['PopShareRange'], as_index=False).aggregate({label:['sum','count', 'mean']})\n",
    "b.columns = [f\"{x}_{y}\" for x, y in b.columns.to_flat_index()]\n",
    "b['Demographic'] = 'Black'\n",
    "\n",
    "eda_df['PopShareRange'] = pd.cut(eda_df['WhitePopShare'], bins, labels=names)\n",
    "w = eda_df[['PopShareRange',label]].groupby(['PopShareRange'], as_index=False).aggregate({label:['sum','count', 'mean']})\n",
    "w.columns = [f\"{x}_{y}\" for x, y in w.columns.to_flat_index()]\n",
    "w['Demographic'] = 'White'\n",
    "\n",
    "bw = pd.concat([b,w])"
   ]
  },
  {
   "cell_type": "code",
   "execution_count": 15,
   "id": "3d588758-8efe-455c-83f7-137fad23c235",
   "metadata": {
    "tags": []
   },
   "outputs": [
    {
     "data": {
      "text/html": [
       "\n",
       "<div id=\"altair-viz-a73fe6f14e1f45b0a56c0e65327283c3\"></div>\n",
       "<script type=\"text/javascript\">\n",
       "  var VEGA_DEBUG = (typeof VEGA_DEBUG == \"undefined\") ? {} : VEGA_DEBUG;\n",
       "  (function(spec, embedOpt){\n",
       "    let outputDiv = document.currentScript.previousElementSibling;\n",
       "    if (outputDiv.id !== \"altair-viz-a73fe6f14e1f45b0a56c0e65327283c3\") {\n",
       "      outputDiv = document.getElementById(\"altair-viz-a73fe6f14e1f45b0a56c0e65327283c3\");\n",
       "    }\n",
       "    const paths = {\n",
       "      \"vega\": \"https://cdn.jsdelivr.net/npm//vega@5?noext\",\n",
       "      \"vega-lib\": \"https://cdn.jsdelivr.net/npm//vega-lib?noext\",\n",
       "      \"vega-lite\": \"https://cdn.jsdelivr.net/npm//vega-lite@4.17.0?noext\",\n",
       "      \"vega-embed\": \"https://cdn.jsdelivr.net/npm//vega-embed@6?noext\",\n",
       "    };\n",
       "\n",
       "    function maybeLoadScript(lib, version) {\n",
       "      var key = `${lib.replace(\"-\", \"\")}_version`;\n",
       "      return (VEGA_DEBUG[key] == version) ?\n",
       "        Promise.resolve(paths[lib]) :\n",
       "        new Promise(function(resolve, reject) {\n",
       "          var s = document.createElement('script');\n",
       "          document.getElementsByTagName(\"head\")[0].appendChild(s);\n",
       "          s.async = true;\n",
       "          s.onload = () => {\n",
       "            VEGA_DEBUG[key] = version;\n",
       "            return resolve(paths[lib]);\n",
       "          };\n",
       "          s.onerror = () => reject(`Error loading script: ${paths[lib]}`);\n",
       "          s.src = paths[lib];\n",
       "        });\n",
       "    }\n",
       "\n",
       "    function showError(err) {\n",
       "      outputDiv.innerHTML = `<div class=\"error\" style=\"color:red;\">${err}</div>`;\n",
       "      throw err;\n",
       "    }\n",
       "\n",
       "    function displayChart(vegaEmbed) {\n",
       "      vegaEmbed(outputDiv, spec, embedOpt)\n",
       "        .catch(err => showError(`Javascript Error: ${err.message}<br>This usually means there's a typo in your chart specification. See the javascript console for the full traceback.`));\n",
       "    }\n",
       "\n",
       "    if(typeof define === \"function\" && define.amd) {\n",
       "      requirejs.config({paths});\n",
       "      require([\"vega-embed\"], displayChart, err => showError(`Error loading script: ${err.message}`));\n",
       "    } else {\n",
       "      maybeLoadScript(\"vega\", \"5\")\n",
       "        .then(() => maybeLoadScript(\"vega-lite\", \"4.17.0\"))\n",
       "        .then(() => maybeLoadScript(\"vega-embed\", \"6\"))\n",
       "        .catch(showError)\n",
       "        .then(() => displayChart(vegaEmbed));\n",
       "    }\n",
       "  })({\"config\": {\"view\": {\"continuousWidth\": 400, \"continuousHeight\": 300}, \"axis\": {\"labelFontSize\": 13, \"titleFontSize\": 15}, \"header\": {\"labelFontSize\": 13, \"labelOrient\": \"bottom\", \"titleFontSize\": 15, \"titleOrient\": \"bottom\"}}, \"data\": {\"name\": \"data-130c1534ce772d2f9455d20d58017946\"}, \"mark\": {\"type\": \"bar\", \"size\": 25}, \"encoding\": {\"color\": {\"field\": \"Demographic\", \"type\": \"nominal\"}, \"column\": {\"field\": \"PopShareRange_\", \"title\": \"Population Percentage Range\", \"type\": \"ordinal\"}, \"x\": {\"axis\": {\"labelAngle\": -45}, \"field\": \"Demographic\", \"title\": \"\", \"type\": \"nominal\"}, \"y\": {\"axis\": {\"format\": \"%\"}, \"field\": \"LILATracts_1And10_mean\", \"title\": \"Percent Low Income, Low Access Tracts\", \"type\": \"quantitative\"}}, \"height\": 300, \"width\": 60, \"$schema\": \"https://vega.github.io/schema/vega-lite/v4.17.0.json\", \"datasets\": {\"data-130c1534ce772d2f9455d20d58017946\": [{\"PopShareRange_\": \"0%-10%\", \"LILATracts_1And10_sum\": 4584, \"LILATracts_1And10_count\": 49022, \"LILATracts_1And10_mean\": 0.09350903675900617, \"Demographic\": \"Black\"}, {\"PopShareRange_\": \"10%-20%\", \"LILATracts_1And10_sum\": 1234, \"LILATracts_1And10_count\": 8426, \"LILATracts_1And10_mean\": 0.14645145976738666, \"Demographic\": \"Black\"}, {\"PopShareRange_\": \"20%-30%\", \"LILATracts_1And10_sum\": 721, \"LILATracts_1And10_count\": 4098, \"LILATracts_1And10_mean\": 0.17593948267447534, \"Demographic\": \"Black\"}, {\"PopShareRange_\": \"30%-40%\", \"LILATracts_1And10_sum\": 505, \"LILATracts_1And10_count\": 2469, \"LILATracts_1And10_mean\": 0.20453624949372215, \"Demographic\": \"Black\"}, {\"PopShareRange_\": \"40%-50%\", \"LILATracts_1And10_sum\": 439, \"LILATracts_1And10_count\": 1699, \"LILATracts_1And10_mean\": 0.2583872866391995, \"Demographic\": \"Black\"}, {\"PopShareRange_\": \"50%-60%\", \"LILATracts_1And10_sum\": 372, \"LILATracts_1And10_count\": 1296, \"LILATracts_1And10_mean\": 0.28703703703703703, \"Demographic\": \"Black\"}, {\"PopShareRange_\": \"60%-70%\", \"LILATracts_1And10_sum\": 320, \"LILATracts_1And10_count\": 1026, \"LILATracts_1And10_mean\": 0.31189083820662766, \"Demographic\": \"Black\"}, {\"PopShareRange_\": \"70%-80%\", \"LILATracts_1And10_sum\": 308, \"LILATracts_1And10_count\": 1018, \"LILATracts_1And10_mean\": 0.3025540275049116, \"Demographic\": \"Black\"}, {\"PopShareRange_\": \"80%-90%\", \"LILATracts_1And10_sum\": 335, \"LILATracts_1And10_count\": 1186, \"LILATracts_1And10_mean\": 0.2824620573355818, \"Demographic\": \"Black\"}, {\"PopShareRange_\": \"90%-100%\", \"LILATracts_1And10_sum\": 406, \"LILATracts_1And10_count\": 1759, \"LILATracts_1And10_mean\": 0.23081296191017622, \"Demographic\": \"Black\"}, {\"PopShareRange_\": \"0%-10%\", \"LILATracts_1And10_sum\": 676, \"LILATracts_1And10_count\": 2872, \"LILATracts_1And10_mean\": 0.23537604456824512, \"Demographic\": \"White\"}, {\"PopShareRange_\": \"10%-20%\", \"LILATracts_1And10_sum\": 417, \"LILATracts_1And10_count\": 1885, \"LILATracts_1And10_mean\": 0.22122015915119364, \"Demographic\": \"White\"}, {\"PopShareRange_\": \"20%-30%\", \"LILATracts_1And10_sum\": 408, \"LILATracts_1And10_count\": 2171, \"LILATracts_1And10_mean\": 0.1879318286503915, \"Demographic\": \"White\"}, {\"PopShareRange_\": \"30%-40%\", \"LILATracts_1And10_sum\": 526, \"LILATracts_1And10_count\": 2828, \"LILATracts_1And10_mean\": 0.185997171145686, \"Demographic\": \"White\"}, {\"PopShareRange_\": \"40%-50%\", \"LILATracts_1And10_sum\": 668, \"LILATracts_1And10_count\": 4075, \"LILATracts_1And10_mean\": 0.16392638036809815, \"Demographic\": \"White\"}, {\"PopShareRange_\": \"50%-60%\", \"LILATracts_1And10_sum\": 875, \"LILATracts_1And10_count\": 5182, \"LILATracts_1And10_mean\": 0.16885372443072172, \"Demographic\": \"White\"}, {\"PopShareRange_\": \"60%-70%\", \"LILATracts_1And10_sum\": 1049, \"LILATracts_1And10_count\": 6621, \"LILATracts_1And10_mean\": 0.1584352816795046, \"Demographic\": \"White\"}, {\"PopShareRange_\": \"70%-80%\", \"LILATracts_1And10_sum\": 1276, \"LILATracts_1And10_count\": 9601, \"LILATracts_1And10_mean\": 0.13290282262264347, \"Demographic\": \"White\"}, {\"PopShareRange_\": \"80%-90%\", \"LILATracts_1And10_sum\": 1550, \"LILATracts_1And10_count\": 14759, \"LILATracts_1And10_mean\": 0.10502066535673149, \"Demographic\": \"White\"}, {\"PopShareRange_\": \"90%-100%\", \"LILATracts_1And10_sum\": 1844, \"LILATracts_1And10_count\": 22398, \"LILATracts_1And10_mean\": 0.08232877935529959, \"Demographic\": \"White\"}]}}, {\"mode\": \"vega-lite\"});\n",
       "</script>"
      ],
      "text/plain": [
       "alt.Chart(...)"
      ]
     },
     "execution_count": 15,
     "metadata": {},
     "output_type": "execute_result"
    }
   ],
   "source": [
    "alt.Chart(bw).mark_bar(size=25).encode(\n",
    "    x=alt.X('Demographic:N', title='', axis=alt.Axis(labelAngle=-45)),\n",
    "    y=alt.Y('LILATracts_1And10_mean:Q', axis=alt.Axis(format='%'), title='Percent Low Income, Low Access Tracts'),\n",
    "    color='Demographic:N',\n",
    "    column=alt.Column('PopShareRange_:O', title='Population Percentage Range')\n",
    ").properties(\n",
    "    height=300,\n",
    "    width=60\n",
    ").configure_axis(\n",
    "    labelFontSize=13,\n",
    "    titleFontSize=15\n",
    ").configure_header(\n",
    "    labelFontSize=13,\n",
    "    titleFontSize=15,\n",
    "    labelOrient='bottom',\n",
    "    titleOrient='bottom'\n",
    ")"
   ]
  },
  {
   "cell_type": "code",
   "execution_count": 16,
   "id": "6c067176-74ab-4ffb-aa27-2831d99f69dd",
   "metadata": {
    "tags": []
   },
   "outputs": [],
   "source": [
    "eda_df = df.copy()\n",
    "eda_df['PopShareRange'] = pd.cut(eda_df['KidsPopShare'], bins, labels=names)\n",
    "k = eda_df[['PopShareRange',label]].groupby(['PopShareRange'], as_index=False).aggregate({label:['sum','count', 'mean']})\n",
    "k.columns = [f\"{x}_{y}\" for x, y in k.columns.to_flat_index()]"
   ]
  },
  {
   "cell_type": "code",
   "execution_count": 17,
   "id": "4091fac0-3e7f-4678-a5f7-0dc31513b407",
   "metadata": {
    "tags": []
   },
   "outputs": [
    {
     "data": {
      "text/html": [
       "\n",
       "<div id=\"altair-viz-6ddd9763715146a6993689c0e51fb046\"></div>\n",
       "<script type=\"text/javascript\">\n",
       "  var VEGA_DEBUG = (typeof VEGA_DEBUG == \"undefined\") ? {} : VEGA_DEBUG;\n",
       "  (function(spec, embedOpt){\n",
       "    let outputDiv = document.currentScript.previousElementSibling;\n",
       "    if (outputDiv.id !== \"altair-viz-6ddd9763715146a6993689c0e51fb046\") {\n",
       "      outputDiv = document.getElementById(\"altair-viz-6ddd9763715146a6993689c0e51fb046\");\n",
       "    }\n",
       "    const paths = {\n",
       "      \"vega\": \"https://cdn.jsdelivr.net/npm//vega@5?noext\",\n",
       "      \"vega-lib\": \"https://cdn.jsdelivr.net/npm//vega-lib?noext\",\n",
       "      \"vega-lite\": \"https://cdn.jsdelivr.net/npm//vega-lite@4.17.0?noext\",\n",
       "      \"vega-embed\": \"https://cdn.jsdelivr.net/npm//vega-embed@6?noext\",\n",
       "    };\n",
       "\n",
       "    function maybeLoadScript(lib, version) {\n",
       "      var key = `${lib.replace(\"-\", \"\")}_version`;\n",
       "      return (VEGA_DEBUG[key] == version) ?\n",
       "        Promise.resolve(paths[lib]) :\n",
       "        new Promise(function(resolve, reject) {\n",
       "          var s = document.createElement('script');\n",
       "          document.getElementsByTagName(\"head\")[0].appendChild(s);\n",
       "          s.async = true;\n",
       "          s.onload = () => {\n",
       "            VEGA_DEBUG[key] = version;\n",
       "            return resolve(paths[lib]);\n",
       "          };\n",
       "          s.onerror = () => reject(`Error loading script: ${paths[lib]}`);\n",
       "          s.src = paths[lib];\n",
       "        });\n",
       "    }\n",
       "\n",
       "    function showError(err) {\n",
       "      outputDiv.innerHTML = `<div class=\"error\" style=\"color:red;\">${err}</div>`;\n",
       "      throw err;\n",
       "    }\n",
       "\n",
       "    function displayChart(vegaEmbed) {\n",
       "      vegaEmbed(outputDiv, spec, embedOpt)\n",
       "        .catch(err => showError(`Javascript Error: ${err.message}<br>This usually means there's a typo in your chart specification. See the javascript console for the full traceback.`));\n",
       "    }\n",
       "\n",
       "    if(typeof define === \"function\" && define.amd) {\n",
       "      requirejs.config({paths});\n",
       "      require([\"vega-embed\"], displayChart, err => showError(`Error loading script: ${err.message}`));\n",
       "    } else {\n",
       "      maybeLoadScript(\"vega\", \"5\")\n",
       "        .then(() => maybeLoadScript(\"vega-lite\", \"4.17.0\"))\n",
       "        .then(() => maybeLoadScript(\"vega-embed\", \"6\"))\n",
       "        .catch(showError)\n",
       "        .then(() => displayChart(vegaEmbed));\n",
       "    }\n",
       "  })({\"config\": {\"view\": {\"continuousWidth\": 400, \"continuousHeight\": 300}, \"axis\": {\"labelFontSize\": 13, \"titleFontSize\": 15}}, \"data\": {\"name\": \"data-c50f7f28298f62bd50d50caaaf12e3aa\"}, \"mark\": {\"type\": \"bar\", \"size\": 25}, \"encoding\": {\"x\": {\"axis\": {\"labelAngle\": -45}, \"field\": \"PopShareRange_\", \"title\": \"Population Percentage Range\", \"type\": \"ordinal\"}, \"y\": {\"axis\": {\"format\": \"%\"}, \"field\": \"LILATracts_1And10_mean\", \"title\": \"Percent Low Income, Low Access Tracts\", \"type\": \"quantitative\"}}, \"height\": 300, \"width\": 600, \"$schema\": \"https://vega.github.io/schema/vega-lite/v4.17.0.json\", \"datasets\": {\"data-c50f7f28298f62bd50d50caaaf12e3aa\": [{\"PopShareRange_\": \"0%-10%\", \"LILATracts_1And10_sum\": 312, \"LILATracts_1And10_count\": 2552, \"LILATracts_1And10_mean\": 0.12225705329153605}, {\"PopShareRange_\": \"10%-20%\", \"LILATracts_1And10_sum\": 1389, \"LILATracts_1And10_count\": 14240, \"LILATracts_1And10_mean\": 0.09754213483146068}, {\"PopShareRange_\": \"20%-30%\", \"LILATracts_1And10_sum\": 5796, \"LILATracts_1And10_count\": 46189, \"LILATracts_1And10_mean\": 0.125484422698045}, {\"PopShareRange_\": \"30%-40%\", \"LILATracts_1And10_sum\": 1691, \"LILATracts_1And10_count\": 8988, \"LILATracts_1And10_mean\": 0.18813974187805962}, {\"PopShareRange_\": \"40%-50%\", \"LILATracts_1And10_sum\": 91, \"LILATracts_1And10_count\": 322, \"LILATracts_1And10_mean\": 0.2826086956521739}, {\"PopShareRange_\": \"50%-60%\", \"LILATracts_1And10_sum\": 7, \"LILATracts_1And10_count\": 31, \"LILATracts_1And10_mean\": 0.22580645161290322}, {\"PopShareRange_\": \"60%-70%\", \"LILATracts_1And10_sum\": 0, \"LILATracts_1And10_count\": 5, \"LILATracts_1And10_mean\": 0.0}, {\"PopShareRange_\": \"70%-80%\", \"LILATracts_1And10_sum\": 0, \"LILATracts_1And10_count\": 1, \"LILATracts_1And10_mean\": 0.0}, {\"PopShareRange_\": \"80%-90%\", \"LILATracts_1And10_sum\": 0, \"LILATracts_1And10_count\": 0, \"LILATracts_1And10_mean\": null}, {\"PopShareRange_\": \"90%-100%\", \"LILATracts_1And10_sum\": 0, \"LILATracts_1And10_count\": 0, \"LILATracts_1And10_mean\": null}]}}, {\"mode\": \"vega-lite\"});\n",
       "</script>"
      ],
      "text/plain": [
       "alt.Chart(...)"
      ]
     },
     "execution_count": 17,
     "metadata": {},
     "output_type": "execute_result"
    }
   ],
   "source": [
    "alt.Chart(k).mark_bar(size=25).encode(\n",
    "    x=alt.X('PopShareRange_:O', title='Population Percentage Range', axis=alt.Axis(labelAngle=-45)),\n",
    "    y=alt.Y('LILATracts_1And10_mean:Q', axis=alt.Axis(format='%'), title='Percent Low Income, Low Access Tracts'),\n",
    ").properties(\n",
    "    height=300,\n",
    "    width=600\n",
    ").configure_axis(\n",
    "    labelFontSize=13,\n",
    "    titleFontSize=15\n",
    ")"
   ]
  },
  {
   "cell_type": "code",
   "execution_count": 18,
   "id": "bc45287f-e7ac-45d8-97d7-8271a92083db",
   "metadata": {
    "tags": []
   },
   "outputs": [],
   "source": [
    "eda_df = df.copy()\n",
    "k = eda_df[['State',label]].groupby(['State'], as_index=False).aggregate({label:['sum','count', 'mean']})\n",
    "k.columns = [f\"{x}_{y}\" for x, y in k.columns.to_flat_index()]"
   ]
  },
  {
   "cell_type": "code",
   "execution_count": 19,
   "id": "b71522ed-4647-40a8-b363-005af6a9e11d",
   "metadata": {
    "tags": []
   },
   "outputs": [
    {
     "data": {
      "text/html": [
       "\n",
       "<div id=\"altair-viz-d2fa1121555b4245b03275fd1973c608\"></div>\n",
       "<script type=\"text/javascript\">\n",
       "  var VEGA_DEBUG = (typeof VEGA_DEBUG == \"undefined\") ? {} : VEGA_DEBUG;\n",
       "  (function(spec, embedOpt){\n",
       "    let outputDiv = document.currentScript.previousElementSibling;\n",
       "    if (outputDiv.id !== \"altair-viz-d2fa1121555b4245b03275fd1973c608\") {\n",
       "      outputDiv = document.getElementById(\"altair-viz-d2fa1121555b4245b03275fd1973c608\");\n",
       "    }\n",
       "    const paths = {\n",
       "      \"vega\": \"https://cdn.jsdelivr.net/npm//vega@5?noext\",\n",
       "      \"vega-lib\": \"https://cdn.jsdelivr.net/npm//vega-lib?noext\",\n",
       "      \"vega-lite\": \"https://cdn.jsdelivr.net/npm//vega-lite@4.17.0?noext\",\n",
       "      \"vega-embed\": \"https://cdn.jsdelivr.net/npm//vega-embed@6?noext\",\n",
       "    };\n",
       "\n",
       "    function maybeLoadScript(lib, version) {\n",
       "      var key = `${lib.replace(\"-\", \"\")}_version`;\n",
       "      return (VEGA_DEBUG[key] == version) ?\n",
       "        Promise.resolve(paths[lib]) :\n",
       "        new Promise(function(resolve, reject) {\n",
       "          var s = document.createElement('script');\n",
       "          document.getElementsByTagName(\"head\")[0].appendChild(s);\n",
       "          s.async = true;\n",
       "          s.onload = () => {\n",
       "            VEGA_DEBUG[key] = version;\n",
       "            return resolve(paths[lib]);\n",
       "          };\n",
       "          s.onerror = () => reject(`Error loading script: ${paths[lib]}`);\n",
       "          s.src = paths[lib];\n",
       "        });\n",
       "    }\n",
       "\n",
       "    function showError(err) {\n",
       "      outputDiv.innerHTML = `<div class=\"error\" style=\"color:red;\">${err}</div>`;\n",
       "      throw err;\n",
       "    }\n",
       "\n",
       "    function displayChart(vegaEmbed) {\n",
       "      vegaEmbed(outputDiv, spec, embedOpt)\n",
       "        .catch(err => showError(`Javascript Error: ${err.message}<br>This usually means there's a typo in your chart specification. See the javascript console for the full traceback.`));\n",
       "    }\n",
       "\n",
       "    if(typeof define === \"function\" && define.amd) {\n",
       "      requirejs.config({paths});\n",
       "      require([\"vega-embed\"], displayChart, err => showError(`Error loading script: ${err.message}`));\n",
       "    } else {\n",
       "      maybeLoadScript(\"vega\", \"5\")\n",
       "        .then(() => maybeLoadScript(\"vega-lite\", \"4.17.0\"))\n",
       "        .then(() => maybeLoadScript(\"vega-embed\", \"6\"))\n",
       "        .catch(showError)\n",
       "        .then(() => displayChart(vegaEmbed));\n",
       "    }\n",
       "  })({\"config\": {\"view\": {\"continuousWidth\": 400, \"continuousHeight\": 300}, \"axis\": {\"labelFontSize\": 13, \"titleFontSize\": 15}}, \"data\": {\"name\": \"data-d91e253bc5e9923b47a17ce70dbbaa4b\"}, \"mark\": {\"type\": \"bar\", \"size\": 10}, \"encoding\": {\"x\": {\"axis\": {\"format\": \"%\"}, \"field\": \"LILATracts_1And10_mean\", \"title\": \"Percent Low Income, Low Access Tracts\", \"type\": \"quantitative\"}, \"y\": {\"field\": \"State_\", \"sort\": \"-x\", \"title\": \"State\", \"type\": \"nominal\"}}, \"height\": 800, \"width\": 600, \"$schema\": \"https://vega.github.io/schema/vega-lite/v4.17.0.json\", \"datasets\": {\"data-d91e253bc5e9923b47a17ce70dbbaa4b\": [{\"State_\": \"Alabama\", \"LILATracts_1And10_sum\": 267, \"LILATracts_1And10_count\": 1177, \"LILATracts_1And10_mean\": 0.2268479184367035}, {\"State_\": \"Alaska\", \"LILATracts_1And10_sum\": 33, \"LILATracts_1And10_count\": 166, \"LILATracts_1And10_mean\": 0.19879518072289157}, {\"State_\": \"Arizona\", \"LILATracts_1And10_sum\": 257, \"LILATracts_1And10_count\": 1516, \"LILATracts_1And10_mean\": 0.1695250659630607}, {\"State_\": \"Arkansas\", \"LILATracts_1And10_sum\": 171, \"LILATracts_1And10_count\": 686, \"LILATracts_1And10_mean\": 0.24927113702623907}, {\"State_\": \"California\", \"LILATracts_1And10_sum\": 536, \"LILATracts_1And10_count\": 8008, \"LILATracts_1And10_mean\": 0.06693306693306693}, {\"State_\": \"Colorado\", \"LILATracts_1And10_sum\": 172, \"LILATracts_1And10_count\": 1237, \"LILATracts_1And10_mean\": 0.13904607922392886}, {\"State_\": \"Connecticut\", \"LILATracts_1And10_sum\": 65, \"LILATracts_1And10_count\": 826, \"LILATracts_1And10_mean\": 0.07869249394673124}, {\"State_\": \"Delaware\", \"LILATracts_1And10_sum\": 32, \"LILATracts_1And10_count\": 214, \"LILATracts_1And10_mean\": 0.14953271028037382}, {\"State_\": \"District of Columbia\", \"LILATracts_1And10_sum\": 12, \"LILATracts_1And10_count\": 179, \"LILATracts_1And10_mean\": 0.0670391061452514}, {\"State_\": \"Florida\", \"LILATracts_1And10_sum\": 550, \"LILATracts_1And10_count\": 4176, \"LILATracts_1And10_mean\": 0.13170498084291188}, {\"State_\": \"Georgia\", \"LILATracts_1And10_sum\": 441, \"LILATracts_1And10_count\": 1956, \"LILATracts_1And10_mean\": 0.2254601226993865}, {\"State_\": \"Hawaii\", \"LILATracts_1And10_sum\": 32, \"LILATracts_1And10_count\": 320, \"LILATracts_1And10_mean\": 0.1}, {\"State_\": \"Idaho\", \"LILATracts_1And10_sum\": 41, \"LILATracts_1And10_count\": 298, \"LILATracts_1And10_mean\": 0.13758389261744966}, {\"State_\": \"Illinois\", \"LILATracts_1And10_sum\": 319, \"LILATracts_1And10_count\": 3115, \"LILATracts_1And10_mean\": 0.10240770465489567}, {\"State_\": \"Indiana\", \"LILATracts_1And10_sum\": 291, \"LILATracts_1And10_count\": 1506, \"LILATracts_1And10_mean\": 0.19322709163346613}, {\"State_\": \"Iowa\", \"LILATracts_1And10_sum\": 85, \"LILATracts_1And10_count\": 823, \"LILATracts_1And10_mean\": 0.10328068043742406}, {\"State_\": \"Kansas\", \"LILATracts_1And10_sum\": 139, \"LILATracts_1And10_count\": 764, \"LILATracts_1And10_mean\": 0.18193717277486912}, {\"State_\": \"Kentucky\", \"LILATracts_1And10_sum\": 153, \"LILATracts_1And10_count\": 1109, \"LILATracts_1And10_mean\": 0.13796212804328223}, {\"State_\": \"Louisiana\", \"LILATracts_1And10_sum\": 258, \"LILATracts_1And10_count\": 1127, \"LILATracts_1And10_mean\": 0.22892635314995563}, {\"State_\": \"Maine\", \"LILATracts_1And10_sum\": 30, \"LILATracts_1And10_count\": 351, \"LILATracts_1And10_mean\": 0.08547008547008547}, {\"State_\": \"Maryland\", \"LILATracts_1And10_sum\": 131, \"LILATracts_1And10_count\": 1387, \"LILATracts_1And10_mean\": 0.09444844989185291}, {\"State_\": \"Massachusetts\", \"LILATracts_1And10_sum\": 112, \"LILATracts_1And10_count\": 1464, \"LILATracts_1And10_mean\": 0.07650273224043716}, {\"State_\": \"Michigan\", \"LILATracts_1And10_sum\": 339, \"LILATracts_1And10_count\": 2749, \"LILATracts_1And10_mean\": 0.1233175700254638}, {\"State_\": \"Minnesota\", \"LILATracts_1And10_sum\": 192, \"LILATracts_1And10_count\": 1331, \"LILATracts_1And10_mean\": 0.14425244177310292}, {\"State_\": \"Mississippi\", \"LILATracts_1And10_sum\": 208, \"LILATracts_1And10_count\": 658, \"LILATracts_1And10_mean\": 0.3161094224924012}, {\"State_\": \"Missouri\", \"LILATracts_1And10_sum\": 248, \"LILATracts_1And10_count\": 1391, \"LILATracts_1And10_mean\": 0.17828900071890727}, {\"State_\": \"Montana\", \"LILATracts_1And10_sum\": 36, \"LILATracts_1And10_count\": 270, \"LILATracts_1And10_mean\": 0.13333333333333333}, {\"State_\": \"Nebraska\", \"LILATracts_1And10_sum\": 55, \"LILATracts_1And10_count\": 530, \"LILATracts_1And10_mean\": 0.10377358490566038}, {\"State_\": \"Nevada\", \"LILATracts_1And10_sum\": 49, \"LILATracts_1And10_count\": 680, \"LILATracts_1And10_mean\": 0.07205882352941176}, {\"State_\": \"New Hampshire\", \"LILATracts_1And10_sum\": 38, \"LILATracts_1And10_count\": 292, \"LILATracts_1And10_mean\": 0.13013698630136986}, {\"State_\": \"New Jersey\", \"LILATracts_1And10_sum\": 108, \"LILATracts_1And10_count\": 1999, \"LILATracts_1And10_mean\": 0.054027013506753374}, {\"State_\": \"New Mexico\", \"LILATracts_1And10_sum\": 126, \"LILATracts_1And10_count\": 498, \"LILATracts_1And10_mean\": 0.25301204819277107}, {\"State_\": \"New York\", \"LILATracts_1And10_sum\": 194, \"LILATracts_1And10_count\": 4855, \"LILATracts_1And10_mean\": 0.03995880535530381}, {\"State_\": \"North Carolina\", \"LILATracts_1And10_sum\": 353, \"LILATracts_1And10_count\": 2171, \"LILATracts_1And10_mean\": 0.1625978811607554}, {\"State_\": \"North Dakota\", \"LILATracts_1And10_sum\": 17, \"LILATracts_1And10_count\": 205, \"LILATracts_1And10_mean\": 0.08292682926829269}, {\"State_\": \"Ohio\", \"LILATracts_1And10_sum\": 421, \"LILATracts_1And10_count\": 2942, \"LILATracts_1And10_mean\": 0.14309993201903468}, {\"State_\": \"Oklahoma\", \"LILATracts_1And10_sum\": 177, \"LILATracts_1And10_count\": 1046, \"LILATracts_1And10_mean\": 0.16921606118546845}, {\"State_\": \"Oregon\", \"LILATracts_1And10_sum\": 100, \"LILATracts_1And10_count\": 825, \"LILATracts_1And10_mean\": 0.12121212121212122}, {\"State_\": \"Pennsylvania\", \"LILATracts_1And10_sum\": 237, \"LILATracts_1And10_count\": 3207, \"LILATracts_1And10_mean\": 0.07390084190832553}, {\"State_\": \"Rhode Island\", \"LILATracts_1And10_sum\": 13, \"LILATracts_1And10_count\": 241, \"LILATracts_1And10_mean\": 0.05394190871369295}, {\"State_\": \"South Carolina\", \"LILATracts_1And10_sum\": 217, \"LILATracts_1And10_count\": 1089, \"LILATracts_1And10_mean\": 0.1992653810835629}, {\"State_\": \"South Dakota\", \"LILATracts_1And10_sum\": 32, \"LILATracts_1And10_count\": 219, \"LILATracts_1And10_mean\": 0.1461187214611872}, {\"State_\": \"Tennessee\", \"LILATracts_1And10_sum\": 266, \"LILATracts_1And10_count\": 1487, \"LILATracts_1And10_mean\": 0.1788836583725622}, {\"State_\": \"Texas\", \"LILATracts_1And10_sum\": 1021, \"LILATracts_1And10_count\": 5231, \"LILATracts_1And10_mean\": 0.19518256547505258}, {\"State_\": \"Utah\", \"LILATracts_1And10_sum\": 49, \"LILATracts_1And10_count\": 584, \"LILATracts_1And10_mean\": 0.0839041095890411}, {\"State_\": \"Vermont\", \"LILATracts_1And10_sum\": 12, \"LILATracts_1And10_count\": 183, \"LILATracts_1And10_mean\": 0.06557377049180328}, {\"State_\": \"Virginia\", \"LILATracts_1And10_sum\": 269, \"LILATracts_1And10_count\": 1882, \"LILATracts_1And10_mean\": 0.14293304994686504}, {\"State_\": \"Washington\", \"LILATracts_1And10_sum\": 174, \"LILATracts_1And10_count\": 1445, \"LILATracts_1And10_mean\": 0.12041522491349481}, {\"State_\": \"West Virginia\", \"LILATracts_1And10_sum\": 66, \"LILATracts_1And10_count\": 484, \"LILATracts_1And10_mean\": 0.13636363636363635}, {\"State_\": \"Wisconsin\", \"LILATracts_1And10_sum\": 133, \"LILATracts_1And10_count\": 1391, \"LILATracts_1And10_mean\": 0.09561466570812366}, {\"State_\": \"Wyoming\", \"LILATracts_1And10_sum\": 12, \"LILATracts_1And10_count\": 131, \"LILATracts_1And10_mean\": 0.0916030534351145}]}}, {\"mode\": \"vega-lite\"});\n",
       "</script>"
      ],
      "text/plain": [
       "alt.Chart(...)"
      ]
     },
     "execution_count": 19,
     "metadata": {},
     "output_type": "execute_result"
    }
   ],
   "source": [
    "alt.Chart(k).mark_bar(size=10).encode(\n",
    "    y=alt.Y('State_:N', title='State', sort='-x'),\n",
    "    x=alt.X('LILATracts_1And10_mean:Q', axis=alt.Axis(format='%'), title='Percent Low Income, Low Access Tracts'),\n",
    ").properties(\n",
    "    height=800,\n",
    "    width=600\n",
    ").configure_axis(\n",
    "    labelFontSize=13,\n",
    "    titleFontSize=15\n",
    ")"
   ]
  },
  {
   "cell_type": "code",
   "execution_count": 20,
   "id": "a54548d1-3eed-4ae0-aeca-0f4033aef330",
   "metadata": {
    "tags": []
   },
   "outputs": [],
   "source": [
    "eda_df = df.copy()\n",
    "d = eda_df[['Census Division',label]].groupby(['Census Division'], as_index=False).aggregate({label:['sum','count', 'mean']})\n",
    "d.columns = [f\"{x}_{y}\" for x, y in d.columns.to_flat_index()]"
   ]
  },
  {
   "cell_type": "code",
   "execution_count": 21,
   "id": "5323c68a-0aca-428b-a0ec-901327e09197",
   "metadata": {
    "tags": []
   },
   "outputs": [
    {
     "data": {
      "text/html": [
       "\n",
       "<div id=\"altair-viz-ebcdc536465147b2a2d9b10f6c1e5afa\"></div>\n",
       "<script type=\"text/javascript\">\n",
       "  var VEGA_DEBUG = (typeof VEGA_DEBUG == \"undefined\") ? {} : VEGA_DEBUG;\n",
       "  (function(spec, embedOpt){\n",
       "    let outputDiv = document.currentScript.previousElementSibling;\n",
       "    if (outputDiv.id !== \"altair-viz-ebcdc536465147b2a2d9b10f6c1e5afa\") {\n",
       "      outputDiv = document.getElementById(\"altair-viz-ebcdc536465147b2a2d9b10f6c1e5afa\");\n",
       "    }\n",
       "    const paths = {\n",
       "      \"vega\": \"https://cdn.jsdelivr.net/npm//vega@5?noext\",\n",
       "      \"vega-lib\": \"https://cdn.jsdelivr.net/npm//vega-lib?noext\",\n",
       "      \"vega-lite\": \"https://cdn.jsdelivr.net/npm//vega-lite@4.17.0?noext\",\n",
       "      \"vega-embed\": \"https://cdn.jsdelivr.net/npm//vega-embed@6?noext\",\n",
       "    };\n",
       "\n",
       "    function maybeLoadScript(lib, version) {\n",
       "      var key = `${lib.replace(\"-\", \"\")}_version`;\n",
       "      return (VEGA_DEBUG[key] == version) ?\n",
       "        Promise.resolve(paths[lib]) :\n",
       "        new Promise(function(resolve, reject) {\n",
       "          var s = document.createElement('script');\n",
       "          document.getElementsByTagName(\"head\")[0].appendChild(s);\n",
       "          s.async = true;\n",
       "          s.onload = () => {\n",
       "            VEGA_DEBUG[key] = version;\n",
       "            return resolve(paths[lib]);\n",
       "          };\n",
       "          s.onerror = () => reject(`Error loading script: ${paths[lib]}`);\n",
       "          s.src = paths[lib];\n",
       "        });\n",
       "    }\n",
       "\n",
       "    function showError(err) {\n",
       "      outputDiv.innerHTML = `<div class=\"error\" style=\"color:red;\">${err}</div>`;\n",
       "      throw err;\n",
       "    }\n",
       "\n",
       "    function displayChart(vegaEmbed) {\n",
       "      vegaEmbed(outputDiv, spec, embedOpt)\n",
       "        .catch(err => showError(`Javascript Error: ${err.message}<br>This usually means there's a typo in your chart specification. See the javascript console for the full traceback.`));\n",
       "    }\n",
       "\n",
       "    if(typeof define === \"function\" && define.amd) {\n",
       "      requirejs.config({paths});\n",
       "      require([\"vega-embed\"], displayChart, err => showError(`Error loading script: ${err.message}`));\n",
       "    } else {\n",
       "      maybeLoadScript(\"vega\", \"5\")\n",
       "        .then(() => maybeLoadScript(\"vega-lite\", \"4.17.0\"))\n",
       "        .then(() => maybeLoadScript(\"vega-embed\", \"6\"))\n",
       "        .catch(showError)\n",
       "        .then(() => displayChart(vegaEmbed));\n",
       "    }\n",
       "  })({\"config\": {\"view\": {\"continuousWidth\": 400, \"continuousHeight\": 300}, \"axis\": {\"labelFontSize\": 13, \"titleFontSize\": 15}}, \"data\": {\"name\": \"data-f7928f836fd4056d624fd30437c72d8e\"}, \"mark\": {\"type\": \"bar\", \"size\": 20}, \"encoding\": {\"x\": {\"axis\": {\"format\": \"%\"}, \"field\": \"LILATracts_1And10_mean\", \"title\": \"Percent Low Income, Low Access Tracts\", \"type\": \"quantitative\"}, \"y\": {\"field\": \"Census Division_\", \"sort\": \"-x\", \"title\": \"Census Division\", \"type\": \"nominal\"}}, \"height\": 300, \"width\": 600, \"$schema\": \"https://vega.github.io/schema/vega-lite/v4.17.0.json\", \"datasets\": {\"data-f7928f836fd4056d624fd30437c72d8e\": [{\"Census Division_\": \"East North Central\", \"LILATracts_1And10_sum\": 1503, \"LILATracts_1And10_count\": 11703, \"LILATracts_1And10_mean\": 0.12842860804921816}, {\"Census Division_\": \"East South Central\", \"LILATracts_1And10_sum\": 894, \"LILATracts_1And10_count\": 4431, \"LILATracts_1And10_mean\": 0.2017603249830738}, {\"Census Division_\": \"Middle Atlantic\", \"LILATracts_1And10_sum\": 539, \"LILATracts_1And10_count\": 10061, \"LILATracts_1And10_mean\": 0.05357320345890071}, {\"Census Division_\": \"Mountain\", \"LILATracts_1And10_sum\": 742, \"LILATracts_1And10_count\": 5214, \"LILATracts_1And10_mean\": 0.14230916762562332}, {\"Census Division_\": \"New England\", \"LILATracts_1And10_sum\": 270, \"LILATracts_1And10_count\": 3357, \"LILATracts_1And10_mean\": 0.08042895442359249}, {\"Census Division_\": \"Pacific\", \"LILATracts_1And10_sum\": 810, \"LILATracts_1And10_count\": 10278, \"LILATracts_1And10_mean\": 0.07880910683012259}, {\"Census Division_\": \"South Atlantic\", \"LILATracts_1And10_sum\": 2059, \"LILATracts_1And10_count\": 13359, \"LILATracts_1And10_mean\": 0.15412830301669286}, {\"Census Division_\": \"West North Central\", \"LILATracts_1And10_sum\": 768, \"LILATracts_1And10_count\": 5263, \"LILATracts_1And10_mean\": 0.14592437773133193}, {\"Census Division_\": \"West South Central\", \"LILATracts_1And10_sum\": 1627, \"LILATracts_1And10_count\": 8090, \"LILATracts_1And10_mean\": 0.20111248454882572}]}}, {\"mode\": \"vega-lite\"});\n",
       "</script>"
      ],
      "text/plain": [
       "alt.Chart(...)"
      ]
     },
     "execution_count": 21,
     "metadata": {},
     "output_type": "execute_result"
    }
   ],
   "source": [
    "alt.Chart(d).mark_bar(size=20).encode(\n",
    "    y=alt.Y('Census Division_:N', title='Census Division', sort='-x'),\n",
    "    x=alt.X('LILATracts_1And10_mean:Q', axis=alt.Axis(format='%'), title='Percent Low Income, Low Access Tracts'),\n",
    ").properties(\n",
    "    height=300,\n",
    "    width=600\n",
    ").configure_axis(\n",
    "    labelFontSize=13,\n",
    "    titleFontSize=15\n",
    ")"
   ]
  },
  {
   "cell_type": "markdown",
   "id": "54b4dc43-e21d-498d-90a7-9bedf18b4288",
   "metadata": {
    "tags": []
   },
   "source": [
    "### Models"
   ]
  },
  {
   "cell_type": "markdown",
   "id": "6a166e2c-9f54-4dc5-9211-96c318de3707",
   "metadata": {},
   "source": [
    "#### Test/Train Preparation"
   ]
  },
  {
   "cell_type": "code",
   "execution_count": 22,
   "id": "0077c0dc-cc8b-40fc-9da7-528bcdc6fed0",
   "metadata": {
    "tags": []
   },
   "outputs": [
    {
     "name": "stdout",
     "output_type": "stream",
     "text": [
      "57936 14485 57936 14485 7431 50505\n"
     ]
    }
   ],
   "source": [
    "data = df.loc[:, df.columns.isin(['PovertyRate','MedianFamilyIncome','LowIncomeTracts','BlackPopShare','LOWIPopShare','KidsPopShare','SeniorsPopShare','WhitePopShare','AsianPopShare','NHOPIPopShare','AIANPopShare','OMultirPopShare','HispanicPopShare','HUNVPopShare','SNAPPopShare'])]\n",
    "data = pd.concat([data, pd.get_dummies(df['Urban'])], axis=1)\n",
    "data = data.rename({0:'Rural', 1:'Urban'}, axis=1)\n",
    "data = pd.concat([data, pd.get_dummies(df['Census Division'])], axis=1)\n",
    "label = df[label]\n",
    "X_train, X_test, y_train, y_test = train_test_split(data, label, test_size=0.2, stratify=label)\n",
    "print(len(X_train), len(X_test), len(y_train), len(y_test), sum(y_train == 1), sum(y_train == 0))"
   ]
  },
  {
   "cell_type": "code",
   "execution_count": 23,
   "id": "5f24c727-93f7-466f-a401-2930bc1cf09c",
   "metadata": {
    "tags": []
   },
   "outputs": [
    {
     "name": "stdout",
     "output_type": "stream",
     "text": [
      "14862 14485 14862 14485 7431 7431\n"
     ]
    }
   ],
   "source": [
    "under_sampler = RandomUnderSampler()\n",
    "\n",
    "X_res, y_res = under_sampler.fit_resample(X_train, y_train)\n",
    "print(len(X_res), len(X_test), len(y_res), len(y_test), sum(y_res == 1), sum(y_res == 0))"
   ]
  },
  {
   "cell_type": "markdown",
   "id": "27e49521-98ea-4b10-a5f7-b3b1aa1e6b49",
   "metadata": {},
   "source": [
    "#### Decision Tree Classifier"
   ]
  },
  {
   "cell_type": "code",
   "execution_count": 35,
   "id": "5acc4a81-bc4b-46d3-9d6d-04b6c56713b6",
   "metadata": {
    "tags": []
   },
   "outputs": [
    {
     "data": {
      "text/html": [
       "<style>#sk-container-id-2 {color: black;background-color: white;}#sk-container-id-2 pre{padding: 0;}#sk-container-id-2 div.sk-toggleable {background-color: white;}#sk-container-id-2 label.sk-toggleable__label {cursor: pointer;display: block;width: 100%;margin-bottom: 0;padding: 0.3em;box-sizing: border-box;text-align: center;}#sk-container-id-2 label.sk-toggleable__label-arrow:before {content: \"▸\";float: left;margin-right: 0.25em;color: #696969;}#sk-container-id-2 label.sk-toggleable__label-arrow:hover:before {color: black;}#sk-container-id-2 div.sk-estimator:hover label.sk-toggleable__label-arrow:before {color: black;}#sk-container-id-2 div.sk-toggleable__content {max-height: 0;max-width: 0;overflow: hidden;text-align: left;background-color: #f0f8ff;}#sk-container-id-2 div.sk-toggleable__content pre {margin: 0.2em;color: black;border-radius: 0.25em;background-color: #f0f8ff;}#sk-container-id-2 input.sk-toggleable__control:checked~div.sk-toggleable__content {max-height: 200px;max-width: 100%;overflow: auto;}#sk-container-id-2 input.sk-toggleable__control:checked~label.sk-toggleable__label-arrow:before {content: \"▾\";}#sk-container-id-2 div.sk-estimator input.sk-toggleable__control:checked~label.sk-toggleable__label {background-color: #d4ebff;}#sk-container-id-2 div.sk-label input.sk-toggleable__control:checked~label.sk-toggleable__label {background-color: #d4ebff;}#sk-container-id-2 input.sk-hidden--visually {border: 0;clip: rect(1px 1px 1px 1px);clip: rect(1px, 1px, 1px, 1px);height: 1px;margin: -1px;overflow: hidden;padding: 0;position: absolute;width: 1px;}#sk-container-id-2 div.sk-estimator {font-family: monospace;background-color: #f0f8ff;border: 1px dotted black;border-radius: 0.25em;box-sizing: border-box;margin-bottom: 0.5em;}#sk-container-id-2 div.sk-estimator:hover {background-color: #d4ebff;}#sk-container-id-2 div.sk-parallel-item::after {content: \"\";width: 100%;border-bottom: 1px solid gray;flex-grow: 1;}#sk-container-id-2 div.sk-label:hover label.sk-toggleable__label {background-color: #d4ebff;}#sk-container-id-2 div.sk-serial::before {content: \"\";position: absolute;border-left: 1px solid gray;box-sizing: border-box;top: 0;bottom: 0;left: 50%;z-index: 0;}#sk-container-id-2 div.sk-serial {display: flex;flex-direction: column;align-items: center;background-color: white;padding-right: 0.2em;padding-left: 0.2em;position: relative;}#sk-container-id-2 div.sk-item {position: relative;z-index: 1;}#sk-container-id-2 div.sk-parallel {display: flex;align-items: stretch;justify-content: center;background-color: white;position: relative;}#sk-container-id-2 div.sk-item::before, #sk-container-id-2 div.sk-parallel-item::before {content: \"\";position: absolute;border-left: 1px solid gray;box-sizing: border-box;top: 0;bottom: 0;left: 50%;z-index: -1;}#sk-container-id-2 div.sk-parallel-item {display: flex;flex-direction: column;z-index: 1;position: relative;background-color: white;}#sk-container-id-2 div.sk-parallel-item:first-child::after {align-self: flex-end;width: 50%;}#sk-container-id-2 div.sk-parallel-item:last-child::after {align-self: flex-start;width: 50%;}#sk-container-id-2 div.sk-parallel-item:only-child::after {width: 0;}#sk-container-id-2 div.sk-dashed-wrapped {border: 1px dashed gray;margin: 0 0.4em 0.5em 0.4em;box-sizing: border-box;padding-bottom: 0.4em;background-color: white;}#sk-container-id-2 div.sk-label label {font-family: monospace;font-weight: bold;display: inline-block;line-height: 1.2em;}#sk-container-id-2 div.sk-label-container {text-align: center;}#sk-container-id-2 div.sk-container {/* jupyter's `normalize.less` sets `[hidden] { display: none; }` but bootstrap.min.css set `[hidden] { display: none !important; }` so we also need the `!important` here to be able to override the default hidden behavior on the sphinx rendered scikit-learn.org. See: https://github.com/scikit-learn/scikit-learn/issues/21755 */display: inline-block !important;position: relative;}#sk-container-id-2 div.sk-text-repr-fallback {display: none;}</style><div id=\"sk-container-id-2\" class=\"sk-top-container\"><div class=\"sk-text-repr-fallback\"><pre>DecisionTreeClassifier(max_depth=5, max_leaf_nodes=50)</pre><b>In a Jupyter environment, please rerun this cell to show the HTML representation or trust the notebook. <br />On GitHub, the HTML representation is unable to render, please try loading this page with nbviewer.org.</b></div><div class=\"sk-container\" hidden><div class=\"sk-item\"><div class=\"sk-estimator sk-toggleable\"><input class=\"sk-toggleable__control sk-hidden--visually\" id=\"sk-estimator-id-2\" type=\"checkbox\" checked><label for=\"sk-estimator-id-2\" class=\"sk-toggleable__label sk-toggleable__label-arrow\">DecisionTreeClassifier</label><div class=\"sk-toggleable__content\"><pre>DecisionTreeClassifier(max_depth=5, max_leaf_nodes=50)</pre></div></div></div></div></div>"
      ],
      "text/plain": [
       "DecisionTreeClassifier(max_depth=5, max_leaf_nodes=50)"
      ]
     },
     "execution_count": 35,
     "metadata": {},
     "output_type": "execute_result"
    }
   ],
   "source": [
    "dcs = DecisionTreeClassifier(max_depth=5, max_leaf_nodes=50)\n",
    "dcs.fit(X_res, y_res)"
   ]
  },
  {
   "cell_type": "code",
   "execution_count": 36,
   "id": "a5a5e351-bbda-4bfd-9691-70e4847a2052",
   "metadata": {
    "tags": []
   },
   "outputs": [],
   "source": [
    "y_pred = dcs.predict(X_test)"
   ]
  },
  {
   "cell_type": "code",
   "execution_count": 37,
   "id": "26abe6e3-f238-46a5-afc7-516de76788a1",
   "metadata": {
    "tags": []
   },
   "outputs": [],
   "source": [
    "precision, recall, fbeta_score, support = precision_recall_fscore_support(y_test, y_pred, pos_label=1, average='binary')"
   ]
  },
  {
   "cell_type": "code",
   "execution_count": 38,
   "id": "05cfea55-7e2f-4975-a4b2-4f028f7fa209",
   "metadata": {
    "tags": []
   },
   "outputs": [
    {
     "data": {
      "text/plain": [
       "0.4180806675938804"
      ]
     },
     "execution_count": 38,
     "metadata": {},
     "output_type": "execute_result"
    }
   ],
   "source": [
    "fbeta_score"
   ]
  },
  {
   "cell_type": "code",
   "execution_count": 39,
   "id": "ae9db858-ced0-496d-bc41-2aa66ffcdb5c",
   "metadata": {
    "tags": []
   },
   "outputs": [
    {
     "data": {
      "text/plain": [
       "0.7111494649637556"
      ]
     },
     "execution_count": 39,
     "metadata": {},
     "output_type": "execute_result"
    }
   ],
   "source": [
    "accuracy_score(y_test, y_pred)"
   ]
  },
  {
   "cell_type": "code",
   "execution_count": 40,
   "id": "b92d670a-d981-403e-920d-bc9297bb2a0e",
   "metadata": {
    "tags": []
   },
   "outputs": [
    {
     "data": {
      "text/plain": [
       "0.752847623580376"
      ]
     },
     "execution_count": 40,
     "metadata": {},
     "output_type": "execute_result"
    }
   ],
   "source": [
    "roc_auc_score(y_test, y_pred)"
   ]
  },
  {
   "cell_type": "markdown",
   "id": "a4f892ca-bef9-4542-8f29-2d2f7ba6cc4c",
   "metadata": {},
   "source": [
    "#### AdaBoost"
   ]
  },
  {
   "cell_type": "code",
   "execution_count": 66,
   "id": "676593ae-11be-42c4-b3fb-1c2474a3f0da",
   "metadata": {
    "tags": []
   },
   "outputs": [
    {
     "data": {
      "text/html": [
       "<style>#sk-container-id-7 {color: black;background-color: white;}#sk-container-id-7 pre{padding: 0;}#sk-container-id-7 div.sk-toggleable {background-color: white;}#sk-container-id-7 label.sk-toggleable__label {cursor: pointer;display: block;width: 100%;margin-bottom: 0;padding: 0.3em;box-sizing: border-box;text-align: center;}#sk-container-id-7 label.sk-toggleable__label-arrow:before {content: \"▸\";float: left;margin-right: 0.25em;color: #696969;}#sk-container-id-7 label.sk-toggleable__label-arrow:hover:before {color: black;}#sk-container-id-7 div.sk-estimator:hover label.sk-toggleable__label-arrow:before {color: black;}#sk-container-id-7 div.sk-toggleable__content {max-height: 0;max-width: 0;overflow: hidden;text-align: left;background-color: #f0f8ff;}#sk-container-id-7 div.sk-toggleable__content pre {margin: 0.2em;color: black;border-radius: 0.25em;background-color: #f0f8ff;}#sk-container-id-7 input.sk-toggleable__control:checked~div.sk-toggleable__content {max-height: 200px;max-width: 100%;overflow: auto;}#sk-container-id-7 input.sk-toggleable__control:checked~label.sk-toggleable__label-arrow:before {content: \"▾\";}#sk-container-id-7 div.sk-estimator input.sk-toggleable__control:checked~label.sk-toggleable__label {background-color: #d4ebff;}#sk-container-id-7 div.sk-label input.sk-toggleable__control:checked~label.sk-toggleable__label {background-color: #d4ebff;}#sk-container-id-7 input.sk-hidden--visually {border: 0;clip: rect(1px 1px 1px 1px);clip: rect(1px, 1px, 1px, 1px);height: 1px;margin: -1px;overflow: hidden;padding: 0;position: absolute;width: 1px;}#sk-container-id-7 div.sk-estimator {font-family: monospace;background-color: #f0f8ff;border: 1px dotted black;border-radius: 0.25em;box-sizing: border-box;margin-bottom: 0.5em;}#sk-container-id-7 div.sk-estimator:hover {background-color: #d4ebff;}#sk-container-id-7 div.sk-parallel-item::after {content: \"\";width: 100%;border-bottom: 1px solid gray;flex-grow: 1;}#sk-container-id-7 div.sk-label:hover label.sk-toggleable__label {background-color: #d4ebff;}#sk-container-id-7 div.sk-serial::before {content: \"\";position: absolute;border-left: 1px solid gray;box-sizing: border-box;top: 0;bottom: 0;left: 50%;z-index: 0;}#sk-container-id-7 div.sk-serial {display: flex;flex-direction: column;align-items: center;background-color: white;padding-right: 0.2em;padding-left: 0.2em;position: relative;}#sk-container-id-7 div.sk-item {position: relative;z-index: 1;}#sk-container-id-7 div.sk-parallel {display: flex;align-items: stretch;justify-content: center;background-color: white;position: relative;}#sk-container-id-7 div.sk-item::before, #sk-container-id-7 div.sk-parallel-item::before {content: \"\";position: absolute;border-left: 1px solid gray;box-sizing: border-box;top: 0;bottom: 0;left: 50%;z-index: -1;}#sk-container-id-7 div.sk-parallel-item {display: flex;flex-direction: column;z-index: 1;position: relative;background-color: white;}#sk-container-id-7 div.sk-parallel-item:first-child::after {align-self: flex-end;width: 50%;}#sk-container-id-7 div.sk-parallel-item:last-child::after {align-self: flex-start;width: 50%;}#sk-container-id-7 div.sk-parallel-item:only-child::after {width: 0;}#sk-container-id-7 div.sk-dashed-wrapped {border: 1px dashed gray;margin: 0 0.4em 0.5em 0.4em;box-sizing: border-box;padding-bottom: 0.4em;background-color: white;}#sk-container-id-7 div.sk-label label {font-family: monospace;font-weight: bold;display: inline-block;line-height: 1.2em;}#sk-container-id-7 div.sk-label-container {text-align: center;}#sk-container-id-7 div.sk-container {/* jupyter's `normalize.less` sets `[hidden] { display: none; }` but bootstrap.min.css set `[hidden] { display: none !important; }` so we also need the `!important` here to be able to override the default hidden behavior on the sphinx rendered scikit-learn.org. See: https://github.com/scikit-learn/scikit-learn/issues/21755 */display: inline-block !important;position: relative;}#sk-container-id-7 div.sk-text-repr-fallback {display: none;}</style><div id=\"sk-container-id-7\" class=\"sk-top-container\"><div class=\"sk-text-repr-fallback\"><pre>AdaBoostClassifier(learning_rate=1)</pre><b>In a Jupyter environment, please rerun this cell to show the HTML representation or trust the notebook. <br />On GitHub, the HTML representation is unable to render, please try loading this page with nbviewer.org.</b></div><div class=\"sk-container\" hidden><div class=\"sk-item\"><div class=\"sk-estimator sk-toggleable\"><input class=\"sk-toggleable__control sk-hidden--visually\" id=\"sk-estimator-id-7\" type=\"checkbox\" checked><label for=\"sk-estimator-id-7\" class=\"sk-toggleable__label sk-toggleable__label-arrow\">AdaBoostClassifier</label><div class=\"sk-toggleable__content\"><pre>AdaBoostClassifier(learning_rate=1)</pre></div></div></div></div></div>"
      ],
      "text/plain": [
       "AdaBoostClassifier(learning_rate=1)"
      ]
     },
     "execution_count": 66,
     "metadata": {},
     "output_type": "execute_result"
    }
   ],
   "source": [
    "ada = AdaBoostClassifier(learning_rate=1)\n",
    "ada.fit(X_res, y_res)"
   ]
  },
  {
   "cell_type": "code",
   "execution_count": 67,
   "id": "e0faf888-57e8-4838-966f-449982cc3d65",
   "metadata": {
    "tags": []
   },
   "outputs": [],
   "source": [
    "y_pred = ada.predict(X_test)"
   ]
  },
  {
   "cell_type": "code",
   "execution_count": 68,
   "id": "85f90744-6b21-400f-9440-dc87bba3c928",
   "metadata": {
    "tags": []
   },
   "outputs": [],
   "source": [
    "precision, recall, fbeta_score, support = precision_recall_fscore_support(y_test, y_pred, pos_label=1, average='binary')"
   ]
  },
  {
   "cell_type": "code",
   "execution_count": 69,
   "id": "6f2bf1dc-52b9-4706-8d59-e48f87e15910",
   "metadata": {
    "tags": []
   },
   "outputs": [
    {
     "data": {
      "text/plain": [
       "0.444639718804921"
      ]
     },
     "execution_count": 69,
     "metadata": {},
     "output_type": "execute_result"
    }
   ],
   "source": [
    "fbeta_score"
   ]
  },
  {
   "cell_type": "code",
   "execution_count": 70,
   "id": "56cdc477-42b9-4a0d-a49a-9fe3a2af5797",
   "metadata": {
    "tags": []
   },
   "outputs": [
    {
     "data": {
      "text/plain": [
       "0.7382119433897135"
      ]
     },
     "execution_count": 70,
     "metadata": {},
     "output_type": "execute_result"
    }
   ],
   "source": [
    "accuracy_score(y_test, y_pred)"
   ]
  },
  {
   "cell_type": "code",
   "execution_count": 71,
   "id": "2957bd4b-3ba7-41a6-994f-2abba4354d32",
   "metadata": {
    "tags": []
   },
   "outputs": [
    {
     "data": {
      "text/plain": [
       "0.7718125502590131"
      ]
     },
     "execution_count": 71,
     "metadata": {},
     "output_type": "execute_result"
    }
   ],
   "source": [
    "roc_auc_score(y_test, y_pred)"
   ]
  },
  {
   "cell_type": "markdown",
   "id": "3facab76-6edb-4034-bcaf-34681e1754f4",
   "metadata": {},
   "source": [
    "#### XGBoost"
   ]
  },
  {
   "cell_type": "code",
   "execution_count": null,
   "id": "0e7b9c57-c0a7-486a-9bb0-65414c4ad9bd",
   "metadata": {
    "tags": []
   },
   "outputs": [],
   "source": [
    "dtrain = DMatrix(X_res, label=y_res)\n",
    "dtest = DMatrix(X_test, label=y_test)\n",
    "evallist = [(dtrain, 'train'), (dtest, 'eval')]"
   ]
  },
  {
   "cell_type": "code",
   "execution_count": null,
   "id": "4ac35961-4f2a-46ad-8acd-812f1db73725",
   "metadata": {
    "tags": []
   },
   "outputs": [],
   "source": [
    "params = {\n",
    "        'min_child_weight': [1, 5, 10],\n",
    "        'gamma': [0.5, 1, 1.5, 2, 5],\n",
    "        'subsample': [0.6, 0.8, 1.0],\n",
    "        'colsample_bytree': [0.6, 0.8, 1.0],\n",
    "        'max_depth': [5, 10, 15]\n",
    "        }\n",
    "xgb = XGBClassifier(learning_rate=0.02, objective='binary:logistic', nthread=1)\n",
    "\n",
    "search = GridSearchCV(xgb, params, scoring='roc_auc', n_jobs=4, verbose=4)\n",
    "\n",
    "search.fit(X_res, y_res)"
   ]
  },
  {
   "cell_type": "code",
   "execution_count": null,
   "id": "bc3e1247-134c-4cb9-9167-355f686ffcf7",
   "metadata": {
    "tags": []
   },
   "outputs": [],
   "source": [
    "search.best_score_"
   ]
  },
  {
   "cell_type": "code",
   "execution_count": null,
   "id": "1a9841c1-b817-428c-b306-6e67090f3fdb",
   "metadata": {
    "tags": []
   },
   "outputs": [],
   "source": [
    "search.best_params_"
   ]
  },
  {
   "cell_type": "code",
   "execution_count": null,
   "id": "29599bfa-76df-4026-b075-ed1b66176475",
   "metadata": {
    "tags": []
   },
   "outputs": [],
   "source": [
    "param = {'max_depth': 7, 'eta': 0.3, 'objective': 'binary:logistic', 'scale_pos_weight':sum(label) / sum(1-label)}\n",
    "param['nthread'] = 4\n",
    "param['eval_metric'] = 'auc'\n",
    "num_round = 100\n",
    "bst = xgb.train(param, dtrain, num_round, evallist, early_stopping_rounds=5)"
   ]
  },
  {
   "cell_type": "code",
   "execution_count": null,
   "id": "42e2c48d-63e5-46d1-b3df-d9b39234bced",
   "metadata": {
    "tags": []
   },
   "outputs": [],
   "source": [
    "xgb.plot_importance(bst)"
   ]
  },
  {
   "cell_type": "code",
   "execution_count": null,
   "id": "159261be-773c-4b71-84ae-d16afaf4c7ba",
   "metadata": {
    "tags": []
   },
   "outputs": [],
   "source": [
    "format = 'svg' #You should try the 'svg'\n",
    "image = xgb.to_graphviz(bst, num_trees=0)\n",
    "image.graph_attr = {'dpi':'400'}\n",
    "image.render('tree', format = format)"
   ]
  },
  {
   "cell_type": "code",
   "execution_count": null,
   "id": "2f1cdf16-a220-414b-86a0-1e902473eeab",
   "metadata": {
    "tags": []
   },
   "outputs": [],
   "source": [
    "#['PovertyRate','BlackPopShare','LOWIPopShare','KidsPopShare','SeniorsPopShare','WhitePopShare','AsianPopShare','NHOPIPopShare','AIANPopShare','OMultirPopShare','HispanicPopShare','HUNVPopShare','SNAPPopShare']\n",
    "data = []\n",
    "dtest = xgb.DMatrix(data)\n",
    "ypred = bst.predict(dtest)"
   ]
  },
  {
   "cell_type": "code",
   "execution_count": null,
   "id": "62e69015-3ad8-4b95-8f39-88b701c90a73",
   "metadata": {},
   "outputs": [],
   "source": []
  },
  {
   "cell_type": "code",
   "execution_count": null,
   "id": "66e863db-0cce-4f34-acdd-9b2b9ff75241",
   "metadata": {},
   "outputs": [],
   "source": []
  }
 ],
 "metadata": {
  "kernelspec": {
   "display_name": "venv_dtsa-5509-supervised-learning-final-project",
   "language": "python",
   "name": "venv_dtsa-5509-supervised-learning-final-project"
  },
  "language_info": {
   "codemirror_mode": {
    "name": "ipython",
    "version": 3
   },
   "file_extension": ".py",
   "mimetype": "text/x-python",
   "name": "python",
   "nbconvert_exporter": "python",
   "pygments_lexer": "ipython3",
   "version": "3.8.10"
  }
 },
 "nbformat": 4,
 "nbformat_minor": 5
}
