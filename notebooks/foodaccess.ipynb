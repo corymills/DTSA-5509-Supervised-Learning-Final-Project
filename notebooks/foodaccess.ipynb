{
 "cells": [
  {
   "cell_type": "markdown",
   "id": "1d9c9ec4-2c33-4d0d-a4f0-7b9e108fb787",
   "metadata": {},
   "source": [
    "# DTSA 5509 Supervised Learning Final Project\n",
    "## Decision Tree Classification Tasks Applied to Food Access Research Atlas\n",
    "### Project Topic\n",
    "Food Deserts are areas where there is low access to supermarkets and other sources of healthy foods. They are often reported as occuring in communities that are already underserved, low income, and in Black communities. Access to food that is affordable and healthy is critical to support the health and wellbeing of a community, and areas that are struggling with poverty and inequality often also struggle with basic access to healthy food.\n",
    "\n",
    "I took data summarizing socio-economic factors, and showed the correlation between these and low access to food through Machine Learning.  Using this socio-economic data, I explored a variety of Decision Tree classification models to attempt to classify whether a community has low access to food, using measures such as the racial composition and poverty levels as features to the models.\n",
    "\n",
    "**For more information**\n",
    "\n",
    "Annie E. Casey Foundation: Food Deserts in the United States: https://www.aecf.org/blog/exploring-americas-food-deserts\n",
    "\n",
    "Wikipedia: Food Desert: https://en.wikipedia.org/wiki/Food_desert"
   ]
  },
  {
   "cell_type": "markdown",
   "id": "8dc238ed-0d57-4587-a148-957dc0dd9164",
   "metadata": {},
   "source": [
    "### Imports"
   ]
  },
  {
   "cell_type": "code",
   "execution_count": 48,
   "id": "78194efd-3f40-4705-88e0-d472f7829e91",
   "metadata": {
    "tags": []
   },
   "outputs": [
    {
     "data": {
      "text/plain": [
       "DataTransformerRegistry.enable('default')"
      ]
     },
     "execution_count": 48,
     "metadata": {},
     "output_type": "execute_result"
    }
   ],
   "source": [
    "import pandas as pd\n",
    "import altair as alt\n",
    "import dtale\n",
    "from sklearn.svm import SVC\n",
    "import xgboost as xgb\n",
    "from sklearn.model_selection import train_test_split\n",
    "from sklearn.model_selection import StratifiedShuffleSplit\n",
    "from sklearn.preprocessing import OneHotEncoder\n",
    "from imblearn.under_sampling import RandomUnderSampler\n",
    "alt.data_transformers.disable_max_rows()"
   ]
  },
  {
   "cell_type": "markdown",
   "id": "4e5febd6-73d9-4a61-a1e1-6da41bda0e1e",
   "metadata": {},
   "source": [
    "### Data\n",
    "The data used in this report is the Food Access Research Atlas, published by the Economic Research Service, Department of Agriculture, via data.gov.\n",
    "\n",
    "This dataset has 72,531 records, one for each U.S. Census tract.  The dataset includes 147 features for each tract, describing the tract, the population of the tract, demographic breakdowns of each tract (population Black, Seniors, Children, etc), and numerous measures on the food access for each tract.\n",
    "\n",
    "For my task, I wanted to focus on how the socio-economic factors contribututed to whether a tract was likely to be classified as low access to food.  I limited the features used to the following:\n",
    "\n",
    "| Field              | Description                                                                                                 |\n",
    "|:-------------------|:------------------------------------------------------------------------------------------------------------|\n",
    "| LA1and20           | Flag for low access tract at 1 mile for urban areas or 20 miles for rural areas.  |\n",
    "| Urban              | Flag for urban tract                                                                                        |\n",
    "| LowIncomeTracts    | Flag for low income tract                                                                                   |\n",
    "| PovertyRate        | Share of the tract population living with income at or below the Federal poverty thresholds for family size |\n",
    "| MedianFamilyIncome | Tract median family income                                                                                  |\n",
    "| TractLOWI          | Total count of low-income population in tract                                                               |\n",
    "| TractKids          | Total count of children age 0-17 in tract                                                                   |\n",
    "| TractSeniors       | Total count of seniors age 65+ in tract                                                                     |\n",
    "| TractWhite         | Total count of White population in tract                                                                    |\n",
    "| TractBlack         | Total count of Black or African American population in tract                                                |\n",
    "| TractAsian         | Total count of Asian population in tract                                                                    |\n",
    "| TractNHOPI         | Total count of Native Hawaiian and Other Pacific Islander population in tract                               |\n",
    "| TractAIAN          | Total count of American Indian and Alaska Native population in tract                                        |\n",
    "| TractOMultir       | Total count of Other/Multiple race population in tract                                                      |\n",
    "| TractHispanic      | Total count of Hispanic or Latino population in tract                                                       |\n",
    "| TractHUNV          | Total count of housing units without a vehicle in tract                                                     |\n",
    "| TractSNAP          | Total count of housing units receiving SNAP benefits in tract                                               |\n",
    "\n",
    "Field `LA1and20` is the label I'm attempting to predict.  The remaining fields are the features.\n",
    "\n",
    "\n",
    "Data: https://catalog.data.gov/dataset/food-access-research-atlas\n",
    "\n",
    "About the Atlas: https://www.ers.usda.gov/data-products/food-access-research-atlas/about-the-atlas.aspx\n",
    "\n",
    "**Data Citations**\n",
    "\n",
    "Economic Research Service, Department of Agriculture (2021, February 24). Data.Gov. Food Access Research Atlas. Retrieved April 23, 2023, from https://catalog.data.gov/dataset/food-access-research-atlas"
   ]
  },
  {
   "cell_type": "code",
   "execution_count": 2,
   "id": "d396d851-abe8-4d1e-821a-738a72ee2844",
   "metadata": {
    "tags": []
   },
   "outputs": [],
   "source": [
    "# Create variable table and copy to clipboard for above\n",
    "used_columns = ['LA1and20','Pop2010','Urban','PovertyRate','MedianFamilyIncome','LowIncomeTracts','TractBlack','TractLOWI','TractKids','TractSeniors','TractWhite','TractAsian','TractNHOPI','TractAIAN','TractOMultir','TractHispanic','TractHUNV','TractSNAP']\n",
    "var_df = pd.read_excel('../data/FoodAccessResearchAtlasData2019.xlsx', sheet_name='Variable Lookup')\n",
    "var_df = var_df[var_df['Field'].isin(used_columns)][['Field','Description']]\n",
    "pd.io.clipboards.to_clipboard(var_df.to_markdown(index=False), excel=False)"
   ]
  },
  {
   "cell_type": "markdown",
   "id": "dca7b697-4e9c-40bd-929b-a68dce1a2b86",
   "metadata": {
    "tags": []
   },
   "source": [
    "### Data Cleaning\n",
    "\n",
    "As outlined above, I've limited the features used to the most relevant features for the classification task I wanted to perform.  Of the 147 features, 18 are relevant for the task of classifying the low food access status based on the demographic makeup of an area.  Many of the other features in the original file describe in detail the low food access for specific populations, so have been left out since they would be auto-correlative with the low access label I'm attempting to predict.\n",
    "\n",
    "In addition, while reviewing the number of NA values present in the data, I found that `MedianFamilyIncome` had a high count of NAs. I have dropped this feature from the dataset for this reason.\n",
    "\n",
    "The remaining features have a low number of NA values.  For these, I have dropped the rows (tracts) that contained NA values.\n",
    "\n",
    "In the original dataset, the demographic data is reported as total counts of residents in that demographic. Because I want to compare tracts, and each tract may have a different total population, it makes most sense to convert these to percentages.  Below, I calculate the percentage of residents in each demographic using the demographic count and the total population count `Pop2010`.  After I've done these calculations, I drop the original count columns as they are no longer needed.\n",
    "\n",
    "I also investigated whether the labels in the dataset were balanced.  I've found that they are not, and I rebalance these later while building the model."
   ]
  },
  {
   "cell_type": "markdown",
   "id": "5e6620a6-3430-49dc-85f5-aefbd3007faf",
   "metadata": {},
   "source": [
    "#### Read Data"
   ]
  },
  {
   "cell_type": "code",
   "execution_count": 15,
   "id": "6ba672bf-f5b8-4d50-bb26-9c7afb36f352",
   "metadata": {
    "tags": []
   },
   "outputs": [],
   "source": [
    "# Read Data\n",
    "df = pd.read_excel('../data/FoodAccessResearchAtlasData2019.xlsx', sheet_name='Food Access Research Atlas')\n",
    "df = df[used_columns]"
   ]
  },
  {
   "cell_type": "markdown",
   "id": "a9008897-30d5-4003-9981-8e0d988fe067",
   "metadata": {},
   "source": [
    "#### Check for NAs, Vizualize, and Clean"
   ]
  },
  {
   "cell_type": "code",
   "execution_count": 49,
   "id": "e09179a4-b1ba-452e-a5c4-b7451cf3989e",
   "metadata": {
    "tags": []
   },
   "outputs": [
    {
     "data": {
      "text/html": [
       "\n",
       "<div id=\"altair-viz-6a7df848f19e4dbcbb582a3b53d51c82\"></div>\n",
       "<script type=\"text/javascript\">\n",
       "  var VEGA_DEBUG = (typeof VEGA_DEBUG == \"undefined\") ? {} : VEGA_DEBUG;\n",
       "  (function(spec, embedOpt){\n",
       "    let outputDiv = document.currentScript.previousElementSibling;\n",
       "    if (outputDiv.id !== \"altair-viz-6a7df848f19e4dbcbb582a3b53d51c82\") {\n",
       "      outputDiv = document.getElementById(\"altair-viz-6a7df848f19e4dbcbb582a3b53d51c82\");\n",
       "    }\n",
       "    const paths = {\n",
       "      \"vega\": \"https://cdn.jsdelivr.net/npm//vega@5?noext\",\n",
       "      \"vega-lib\": \"https://cdn.jsdelivr.net/npm//vega-lib?noext\",\n",
       "      \"vega-lite\": \"https://cdn.jsdelivr.net/npm//vega-lite@4.17.0?noext\",\n",
       "      \"vega-embed\": \"https://cdn.jsdelivr.net/npm//vega-embed@6?noext\",\n",
       "    };\n",
       "\n",
       "    function maybeLoadScript(lib, version) {\n",
       "      var key = `${lib.replace(\"-\", \"\")}_version`;\n",
       "      return (VEGA_DEBUG[key] == version) ?\n",
       "        Promise.resolve(paths[lib]) :\n",
       "        new Promise(function(resolve, reject) {\n",
       "          var s = document.createElement('script');\n",
       "          document.getElementsByTagName(\"head\")[0].appendChild(s);\n",
       "          s.async = true;\n",
       "          s.onload = () => {\n",
       "            VEGA_DEBUG[key] = version;\n",
       "            return resolve(paths[lib]);\n",
       "          };\n",
       "          s.onerror = () => reject(`Error loading script: ${paths[lib]}`);\n",
       "          s.src = paths[lib];\n",
       "        });\n",
       "    }\n",
       "\n",
       "    function showError(err) {\n",
       "      outputDiv.innerHTML = `<div class=\"error\" style=\"color:red;\">${err}</div>`;\n",
       "      throw err;\n",
       "    }\n",
       "\n",
       "    function displayChart(vegaEmbed) {\n",
       "      vegaEmbed(outputDiv, spec, embedOpt)\n",
       "        .catch(err => showError(`Javascript Error: ${err.message}<br>This usually means there's a typo in your chart specification. See the javascript console for the full traceback.`));\n",
       "    }\n",
       "\n",
       "    if(typeof define === \"function\" && define.amd) {\n",
       "      requirejs.config({paths});\n",
       "      require([\"vega-embed\"], displayChart, err => showError(`Error loading script: ${err.message}`));\n",
       "    } else {\n",
       "      maybeLoadScript(\"vega\", \"5\")\n",
       "        .then(() => maybeLoadScript(\"vega-lite\", \"4.17.0\"))\n",
       "        .then(() => maybeLoadScript(\"vega-embed\", \"6\"))\n",
       "        .catch(showError)\n",
       "        .then(() => displayChart(vegaEmbed));\n",
       "    }\n",
       "  })({\"config\": {\"view\": {\"continuousWidth\": 400, \"continuousHeight\": 300}}, \"layer\": [{\"mark\": \"bar\", \"encoding\": {\"text\": {\"field\": \"NA Count\", \"type\": \"quantitative\"}, \"x\": {\"field\": \"Field\", \"sort\": \"-y\", \"type\": \"nominal\"}, \"y\": {\"field\": \"NA Count\", \"type\": \"quantitative\"}}, \"width\": 800}, {\"mark\": {\"type\": \"text\", \"align\": \"center\", \"dy\": -10}, \"encoding\": {\"text\": {\"field\": \"NA Count\", \"type\": \"quantitative\"}, \"x\": {\"field\": \"Field\", \"sort\": \"-y\", \"type\": \"nominal\"}, \"y\": {\"field\": \"NA Count\", \"type\": \"quantitative\"}}, \"width\": 800}], \"data\": {\"name\": \"data-36fc6268dc874c4b892974984d6136e0\"}, \"$schema\": \"https://vega.github.io/schema/vega-lite/v4.17.0.json\", \"datasets\": {\"data-36fc6268dc874c4b892974984d6136e0\": [{\"Field\": \"MedianFamilyIncome\", \"NA Count\": 748}, {\"Field\": \"TractSeniors\", \"NA Count\": 4}, {\"Field\": \"TractWhite\", \"NA Count\": 4}, {\"Field\": \"TractHUNV\", \"NA Count\": 4}, {\"Field\": \"TractHispanic\", \"NA Count\": 4}, {\"Field\": \"TractOMultir\", \"NA Count\": 4}, {\"Field\": \"TractAIAN\", \"NA Count\": 4}, {\"Field\": \"TractNHOPI\", \"NA Count\": 4}, {\"Field\": \"TractAsian\", \"NA Count\": 4}, {\"Field\": \"TractSNAP\", \"NA Count\": 4}, {\"Field\": \"TractKids\", \"NA Count\": 4}, {\"Field\": \"TractLOWI\", \"NA Count\": 4}, {\"Field\": \"TractBlack\", \"NA Count\": 4}, {\"Field\": \"PovertyRate\", \"NA Count\": 3}, {\"Field\": \"Pop2010\", \"NA Count\": 0}, {\"Field\": \"LowIncomeTracts\", \"NA Count\": 0}, {\"Field\": \"Urban\", \"NA Count\": 0}, {\"Field\": \"LA1and20\", \"NA Count\": 0}]}}, {\"mode\": \"vega-lite\"});\n",
       "</script>"
      ],
      "text/plain": [
       "alt.LayerChart(...)"
      ]
     },
     "execution_count": 49,
     "metadata": {},
     "output_type": "execute_result"
    }
   ],
   "source": [
    "# Check for NAs and vizualize\n",
    "na_counts = pd.DataFrame(df.isna().sum()).reset_index()\n",
    "na_counts.columns = ['Field', 'NA Count']\n",
    "na_counts = na_counts.sort_values('NA Count', ascending=False)\n",
    "base = alt.Chart(na_counts).encode(\n",
    "    x=alt.X('Field:N', sort='-y'),\n",
    "    y='NA Count',\n",
    "    text = 'NA Count'\n",
    ").properties(width=800)\n",
    "base.mark_bar() + base.mark_text(align='center', dy=-10)"
   ]
  },
  {
   "cell_type": "code",
   "execution_count": 5,
   "id": "3eb1e4c2-4d2b-455a-9ad8-55889c496c41",
   "metadata": {
    "tags": []
   },
   "outputs": [
    {
     "data": {
      "text/plain": [
       "LA1and20           0\n",
       "Pop2010            0\n",
       "Urban              0\n",
       "PovertyRate        0\n",
       "LowIncomeTracts    0\n",
       "TractBlack         0\n",
       "TractLOWI          0\n",
       "TractKids          0\n",
       "TractSeniors       0\n",
       "TractWhite         0\n",
       "TractAsian         0\n",
       "TractNHOPI         0\n",
       "TractAIAN          0\n",
       "TractOMultir       0\n",
       "TractHispanic      0\n",
       "TractHUNV          0\n",
       "TractSNAP          0\n",
       "dtype: int64"
      ]
     },
     "execution_count": 5,
     "metadata": {},
     "output_type": "execute_result"
    }
   ],
   "source": [
    "# Drop high NA column Median Family Income\n",
    "df = df.drop('MedianFamilyIncome', axis=1)\n",
    "# Drop records with NAs in values\n",
    "df = df.dropna()\n",
    "# Check for no NAs\n",
    "df.isna().sum()"
   ]
  },
  {
   "cell_type": "markdown",
   "id": "a26631c9-f893-4830-908b-1f0fdc074d53",
   "metadata": {},
   "source": [
    "#### Calculate Percentage Share for Each Demographic"
   ]
  },
  {
   "cell_type": "code",
   "execution_count": 51,
   "id": "e463e274-ec9b-489a-a5d4-e76a4cf55d94",
   "metadata": {
    "tags": []
   },
   "outputs": [],
   "source": [
    "# Calculate percentage share for each demographic population\n",
    "df['BlackPopShare'] = df['TractBlack'] / df['Pop2010']\n",
    "df['LOWIPopShare'] = df['TractLOWI'] / df['Pop2010']\n",
    "df['KidsPopShare'] = df['TractKids'] / df['Pop2010']\n",
    "df['SeniorsPopShare'] = df['TractSeniors'] / df['Pop2010']\n",
    "df['WhitePopShare'] = df['TractWhite'] / df['Pop2010']\n",
    "df['AsianPopShare'] = df['TractAsian'] / df['Pop2010']\n",
    "df['NHOPIPopShare'] = df['TractNHOPI'] / df['Pop2010']\n",
    "df['AIANPopShare'] = df['TractAIAN'] / df['Pop2010']\n",
    "df['OMultirPopShare'] = df['TractOMultir'] / df['Pop2010']\n",
    "df['HispanicPopShare'] = df['TractHispanic'] / df['Pop2010']\n",
    "df['HUNVPopShare'] = df['TractHUNV'] / df['Pop2010']\n",
    "df['SNAPPopShare'] = df['TractSNAP'] / df['Pop2010']\n",
    "df = df.drop(['TractBlack','TractLOWI','TractKids','TractSeniors','TractWhite','TractAsian','TractNHOPI','TractAIAN','TractOMultir','TractHispanic','TractHUNV','TractSNAP'], axis=1)"
   ]
  },
  {
   "cell_type": "markdown",
   "id": "fb4ed0f8-9517-42f1-9440-15185de86b30",
   "metadata": {},
   "source": [
    "#### Check for Label Imbalance"
   ]
  },
  {
   "cell_type": "code",
   "execution_count": 46,
   "id": "7b45f349-c855-4f27-b33b-d2abfb74eade",
   "metadata": {
    "tags": []
   },
   "outputs": [
    {
     "data": {
      "text/html": [
       "\n",
       "<div id=\"altair-viz-b567204e4a324d81aef05a365cfe99fb\"></div>\n",
       "<script type=\"text/javascript\">\n",
       "  var VEGA_DEBUG = (typeof VEGA_DEBUG == \"undefined\") ? {} : VEGA_DEBUG;\n",
       "  (function(spec, embedOpt){\n",
       "    let outputDiv = document.currentScript.previousElementSibling;\n",
       "    if (outputDiv.id !== \"altair-viz-b567204e4a324d81aef05a365cfe99fb\") {\n",
       "      outputDiv = document.getElementById(\"altair-viz-b567204e4a324d81aef05a365cfe99fb\");\n",
       "    }\n",
       "    const paths = {\n",
       "      \"vega\": \"https://cdn.jsdelivr.net/npm//vega@5?noext\",\n",
       "      \"vega-lib\": \"https://cdn.jsdelivr.net/npm//vega-lib?noext\",\n",
       "      \"vega-lite\": \"https://cdn.jsdelivr.net/npm//vega-lite@4.17.0?noext\",\n",
       "      \"vega-embed\": \"https://cdn.jsdelivr.net/npm//vega-embed@6?noext\",\n",
       "    };\n",
       "\n",
       "    function maybeLoadScript(lib, version) {\n",
       "      var key = `${lib.replace(\"-\", \"\")}_version`;\n",
       "      return (VEGA_DEBUG[key] == version) ?\n",
       "        Promise.resolve(paths[lib]) :\n",
       "        new Promise(function(resolve, reject) {\n",
       "          var s = document.createElement('script');\n",
       "          document.getElementsByTagName(\"head\")[0].appendChild(s);\n",
       "          s.async = true;\n",
       "          s.onload = () => {\n",
       "            VEGA_DEBUG[key] = version;\n",
       "            return resolve(paths[lib]);\n",
       "          };\n",
       "          s.onerror = () => reject(`Error loading script: ${paths[lib]}`);\n",
       "          s.src = paths[lib];\n",
       "        });\n",
       "    }\n",
       "\n",
       "    function showError(err) {\n",
       "      outputDiv.innerHTML = `<div class=\"error\" style=\"color:red;\">${err}</div>`;\n",
       "      throw err;\n",
       "    }\n",
       "\n",
       "    function displayChart(vegaEmbed) {\n",
       "      vegaEmbed(outputDiv, spec, embedOpt)\n",
       "        .catch(err => showError(`Javascript Error: ${err.message}<br>This usually means there's a typo in your chart specification. See the javascript console for the full traceback.`));\n",
       "    }\n",
       "\n",
       "    if(typeof define === \"function\" && define.amd) {\n",
       "      requirejs.config({paths});\n",
       "      require([\"vega-embed\"], displayChart, err => showError(`Error loading script: ${err.message}`));\n",
       "    } else {\n",
       "      maybeLoadScript(\"vega\", \"5\")\n",
       "        .then(() => maybeLoadScript(\"vega-lite\", \"4.17.0\"))\n",
       "        .then(() => maybeLoadScript(\"vega-embed\", \"6\"))\n",
       "        .catch(showError)\n",
       "        .then(() => displayChart(vegaEmbed));\n",
       "    }\n",
       "  })({\"config\": {\"view\": {\"continuousWidth\": 400, \"continuousHeight\": 300}}, \"layer\": [{\"mark\": {\"type\": \"bar\", \"size\": 30}, \"encoding\": {\"text\": {\"field\": \"count\", \"type\": \"quantitative\"}, \"x\": {\"field\": \"LA1and20\", \"sort\": \"-y\", \"type\": \"nominal\"}, \"y\": {\"field\": \"count\", \"type\": \"quantitative\"}}, \"width\": 100}, {\"mark\": {\"type\": \"text\", \"align\": \"center\", \"dy\": -10}, \"encoding\": {\"text\": {\"field\": \"count\", \"type\": \"quantitative\"}, \"x\": {\"field\": \"LA1and20\", \"sort\": \"-y\", \"type\": \"nominal\"}, \"y\": {\"field\": \"count\", \"type\": \"quantitative\"}}, \"width\": 100}], \"data\": {\"name\": \"data-8f2ec8e2cb79311c07bc8727aeba9305\"}, \"$schema\": \"https://vega.github.io/schema/vega-lite/v4.17.0.json\", \"datasets\": {\"data-8f2ec8e2cb79311c07bc8727aeba9305\": [{\"LA1and20\": 0, \"count\": 47822}, {\"LA1and20\": 1, \"count\": 24709}]}}, {\"mode\": \"vega-lite\"});\n",
       "</script>"
      ],
      "text/plain": [
       "alt.LayerChart(...)"
      ]
     },
     "execution_count": 46,
     "metadata": {},
     "output_type": "execute_result"
    }
   ],
   "source": [
    "# Check for imbalaced labels\n",
    "val_counts = pd.DataFrame(df['LA1and20'].value_counts()).reset_index()\n",
    "base = alt.Chart(val_counts).encode(\n",
    "    x=alt.X('LA1and20:N', sort='-y'),\n",
    "    y='count',\n",
    "    text = 'count'\n",
    ").properties(width=100)\n",
    "base.mark_bar(size=30) + base.mark_text(align='center', dy=-10)"
   ]
  },
  {
   "cell_type": "markdown",
   "id": "f7a716f3-be2e-4f3e-afd9-8d923061ae59",
   "metadata": {
    "tags": []
   },
   "source": [
    "### Exploratory Data Analysis"
   ]
  },
  {
   "cell_type": "code",
   "execution_count": null,
   "id": "ff12e36c-1622-4d02-9902-b11d10f21f58",
   "metadata": {},
   "outputs": [],
   "source": []
  },
  {
   "cell_type": "markdown",
   "id": "54b4dc43-e21d-498d-90a7-9bedf18b4288",
   "metadata": {
    "jp-MarkdownHeadingCollapsed": true,
    "tags": []
   },
   "source": [
    "### Models"
   ]
  },
  {
   "cell_type": "code",
   "execution_count": 50,
   "id": "0077c0dc-cc8b-40fc-9da7-528bcdc6fed0",
   "metadata": {
    "tags": []
   },
   "outputs": [],
   "source": [
    "#TODO: Rebalance\n",
    "\n",
    "data = df.loc[:, df.columns.isin(['PovertyRate','MedianFamilyIncome','LowIncomeTracts','BlackPopShare','LOWIPopShare','KidsPopShare','SeniorsPopShare','WhitePopShare','AsianPopShare','NHOPIPopShare','AIANPopShare','OMultirPopShare','HispanicPopShare','HUNVPopShare','SNAPPopShare'])]\n",
    "data = pd.concat([data, pd.get_dummies(df['Urban'])], axis=1)\n",
    "label = df['LA1and20']\n",
    "X_train, X_test, y_train, y_test = train_test_split(data, label, test_size=0.2, stratify=label)"
   ]
  },
  {
   "cell_type": "code",
   "execution_count": null,
   "id": "93be95ca-1f29-4a62-9ec1-d782c5b11a2d",
   "metadata": {
    "tags": []
   },
   "outputs": [],
   "source": [
    "data"
   ]
  },
  {
   "cell_type": "code",
   "execution_count": null,
   "id": "0e7b9c57-c0a7-486a-9bb0-65414c4ad9bd",
   "metadata": {
    "tags": []
   },
   "outputs": [],
   "source": [
    "dtrain = xgb.DMatrix(X_train, label=y_train)\n",
    "dtest = xgb.DMatrix(X_test, label=y_test)\n",
    "evallist = [(dtrain, 'train'), (dtest, 'eval')]"
   ]
  },
  {
   "cell_type": "code",
   "execution_count": null,
   "id": "29599bfa-76df-4026-b075-ed1b66176475",
   "metadata": {
    "tags": []
   },
   "outputs": [],
   "source": [
    "param = {'max_depth': 7, 'eta': 0.3, 'objective': 'binary:logistic', 'scale_pos_weight':sum(label) / sum(1-label)}\n",
    "param['nthread'] = 4\n",
    "param['eval_metric'] = 'auc'\n",
    "num_round = 100\n",
    "bst = xgb.train(param, dtrain, num_round, evallist, early_stopping_rounds=5)"
   ]
  },
  {
   "cell_type": "code",
   "execution_count": null,
   "id": "42e2c48d-63e5-46d1-b3df-d9b39234bced",
   "metadata": {
    "tags": []
   },
   "outputs": [],
   "source": [
    "xgb.plot_importance(bst)"
   ]
  },
  {
   "cell_type": "code",
   "execution_count": null,
   "id": "159261be-773c-4b71-84ae-d16afaf4c7ba",
   "metadata": {
    "tags": []
   },
   "outputs": [],
   "source": [
    "format = 'svg' #You should try the 'svg'\n",
    "image = xgb.to_graphviz(bst, num_trees=0)\n",
    "image.graph_attr = {'dpi':'400'}\n",
    "image.render('tree', format = format)"
   ]
  },
  {
   "cell_type": "code",
   "execution_count": null,
   "id": "2f1cdf16-a220-414b-86a0-1e902473eeab",
   "metadata": {
    "tags": []
   },
   "outputs": [],
   "source": [
    "#['PovertyRate','BlackPopShare','LOWIPopShare','KidsPopShare','SeniorsPopShare','WhitePopShare','AsianPopShare','NHOPIPopShare','AIANPopShare','OMultirPopShare','HispanicPopShare','HUNVPopShare','SNAPPopShare']\n",
    "data = []\n",
    "dtest = xgb.DMatrix(data)\n",
    "ypred = bst.predict(dtest)"
   ]
  },
  {
   "cell_type": "code",
   "execution_count": null,
   "id": "62e69015-3ad8-4b95-8f39-88b701c90a73",
   "metadata": {},
   "outputs": [],
   "source": []
  }
 ],
 "metadata": {
  "kernelspec": {
   "display_name": "venv_dtsa-5509-supervised-learning-final-project",
   "language": "python",
   "name": "venv_dtsa-5509-supervised-learning-final-project"
  },
  "language_info": {
   "codemirror_mode": {
    "name": "ipython",
    "version": 3
   },
   "file_extension": ".py",
   "mimetype": "text/x-python",
   "name": "python",
   "nbconvert_exporter": "python",
   "pygments_lexer": "ipython3",
   "version": "3.8.10"
  }
 },
 "nbformat": 4,
 "nbformat_minor": 5
}
